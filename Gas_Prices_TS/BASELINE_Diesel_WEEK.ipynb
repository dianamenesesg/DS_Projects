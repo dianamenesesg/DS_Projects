{
 "cells": [
  {
   "cell_type": "markdown",
   "metadata": {},
   "source": [
    "# First things first\n",
    "\n",
    "The National Agency of Petroleum, Natural Gas and Bio fuels (ANP in Portuguese) releases weekly reports of gas, diesel and other fuels prices used in transportation across the country. \n",
    "\n",
    "https://www.kaggle.com/matheusfreitag/gas-prices-in-brazil/data"
   ]
  },
  {
   "cell_type": "code",
   "execution_count": 1,
   "metadata": {},
   "outputs": [],
   "source": [
    "import pandas as pd\n",
    "import numpy as np\n",
    "%matplotlib inline"
   ]
  },
  {
   "cell_type": "code",
   "execution_count": 2,
   "metadata": {},
   "outputs": [
    {
     "data": {
      "text/html": [
       "<div>\n",
       "<style scoped>\n",
       "    .dataframe tbody tr th:only-of-type {\n",
       "        vertical-align: middle;\n",
       "    }\n",
       "\n",
       "    .dataframe tbody tr th {\n",
       "        vertical-align: top;\n",
       "    }\n",
       "\n",
       "    .dataframe thead th {\n",
       "        text-align: right;\n",
       "    }\n",
       "</style>\n",
       "<table border=\"1\" class=\"dataframe\">\n",
       "  <thead>\n",
       "    <tr style=\"text-align: right;\">\n",
       "      <th></th>\n",
       "      <th>DATA INICIAL</th>\n",
       "      <th>DATA FINAL</th>\n",
       "      <th>REGIÃO</th>\n",
       "      <th>ESTADO</th>\n",
       "      <th>PRODUTO</th>\n",
       "      <th>NÚMERO DE POSTOS PESQUISADOS</th>\n",
       "      <th>UNIDADE DE MEDIDA</th>\n",
       "      <th>PREÇO MÉDIO REVENDA</th>\n",
       "      <th>DESVIO PADRÃO REVENDA</th>\n",
       "      <th>PREÇO MÍNIMO REVENDA</th>\n",
       "      <th>PREÇO MÁXIMO REVENDA</th>\n",
       "      <th>MARGEM MÉDIA REVENDA</th>\n",
       "      <th>COEF DE VARIAÇÃO REVENDA</th>\n",
       "      <th>PREÇO MÉDIO DISTRIBUIÇÃO</th>\n",
       "      <th>DESVIO PADRÃO DISTRIBUIÇÃO</th>\n",
       "      <th>PREÇO MÍNIMO DISTRIBUIÇÃO</th>\n",
       "      <th>PREÇO MÁXIMO DISTRIBUIÇÃO</th>\n",
       "      <th>COEF DE VARIAÇÃO DISTRIBUIÇÃO</th>\n",
       "      <th>MÊS</th>\n",
       "      <th>ANO</th>\n",
       "    </tr>\n",
       "  </thead>\n",
       "  <tbody>\n",
       "    <tr>\n",
       "      <th>3110</th>\n",
       "      <td>2006-08-06</td>\n",
       "      <td>2006-08-12</td>\n",
       "      <td>NORDESTE</td>\n",
       "      <td>PIAUI</td>\n",
       "      <td>ETANOL HIDRATADO</td>\n",
       "      <td>102</td>\n",
       "      <td>R$/l</td>\n",
       "      <td>2.204</td>\n",
       "      <td>0.086</td>\n",
       "      <td>2.120</td>\n",
       "      <td>2.40</td>\n",
       "      <td>0.342</td>\n",
       "      <td>0.039</td>\n",
       "      <td>1.862</td>\n",
       "      <td>0.046</td>\n",
       "      <td>1.75</td>\n",
       "      <td>1.9482</td>\n",
       "      <td>0.025</td>\n",
       "      <td>8</td>\n",
       "      <td>2006</td>\n",
       "    </tr>\n",
       "    <tr>\n",
       "      <th>49091</th>\n",
       "      <td>2008-04-27</td>\n",
       "      <td>2008-05-03</td>\n",
       "      <td>NORDESTE</td>\n",
       "      <td>PIAUI</td>\n",
       "      <td>ÓLEO DIESEL</td>\n",
       "      <td>101</td>\n",
       "      <td>R$/l</td>\n",
       "      <td>1.906</td>\n",
       "      <td>0.045</td>\n",
       "      <td>1.810</td>\n",
       "      <td>2.05</td>\n",
       "      <td>0.159</td>\n",
       "      <td>0.024</td>\n",
       "      <td>1.747</td>\n",
       "      <td>0.03</td>\n",
       "      <td>1.67</td>\n",
       "      <td>1.8256</td>\n",
       "      <td>0.017</td>\n",
       "      <td>4</td>\n",
       "      <td>2008</td>\n",
       "    </tr>\n",
       "    <tr>\n",
       "      <th>39102</th>\n",
       "      <td>2007-10-28</td>\n",
       "      <td>2007-11-03</td>\n",
       "      <td>SUDESTE</td>\n",
       "      <td>ESPIRITO SANTO</td>\n",
       "      <td>GNV</td>\n",
       "      <td>13</td>\n",
       "      <td>R$/m3</td>\n",
       "      <td>1.439</td>\n",
       "      <td>0.147</td>\n",
       "      <td>1.438</td>\n",
       "      <td>1.89</td>\n",
       "      <td>0.596</td>\n",
       "      <td>0.102</td>\n",
       "      <td>0.843</td>\n",
       "      <td>0.382</td>\n",
       "      <td>0.7686</td>\n",
       "      <td>1.62</td>\n",
       "      <td>0.453</td>\n",
       "      <td>10</td>\n",
       "      <td>2007</td>\n",
       "    </tr>\n",
       "  </tbody>\n",
       "</table>\n",
       "</div>"
      ],
      "text/plain": [
       "      DATA INICIAL  DATA FINAL    REGIÃO          ESTADO           PRODUTO  \\\n",
       "3110    2006-08-06  2006-08-12  NORDESTE           PIAUI  ETANOL HIDRATADO   \n",
       "49091   2008-04-27  2008-05-03  NORDESTE           PIAUI       ÓLEO DIESEL   \n",
       "39102   2007-10-28  2007-11-03   SUDESTE  ESPIRITO SANTO               GNV   \n",
       "\n",
       "       NÚMERO DE POSTOS PESQUISADOS UNIDADE DE MEDIDA  PREÇO MÉDIO REVENDA  \\\n",
       "3110                            102              R$/l                2.204   \n",
       "49091                           101              R$/l                1.906   \n",
       "39102                            13             R$/m3                1.439   \n",
       "\n",
       "       DESVIO PADRÃO REVENDA  PREÇO MÍNIMO REVENDA  PREÇO MÁXIMO REVENDA  \\\n",
       "3110                   0.086                 2.120                  2.40   \n",
       "49091                  0.045                 1.810                  2.05   \n",
       "39102                  0.147                 1.438                  1.89   \n",
       "\n",
       "      MARGEM MÉDIA REVENDA  COEF DE VARIAÇÃO REVENDA PREÇO MÉDIO DISTRIBUIÇÃO  \\\n",
       "3110                 0.342                     0.039                    1.862   \n",
       "49091                0.159                     0.024                    1.747   \n",
       "39102                0.596                     0.102                    0.843   \n",
       "\n",
       "      DESVIO PADRÃO DISTRIBUIÇÃO PREÇO MÍNIMO DISTRIBUIÇÃO  \\\n",
       "3110                       0.046                      1.75   \n",
       "49091                       0.03                      1.67   \n",
       "39102                      0.382                    0.7686   \n",
       "\n",
       "      PREÇO MÁXIMO DISTRIBUIÇÃO COEF DE VARIAÇÃO DISTRIBUIÇÃO  MÊS   ANO  \n",
       "3110                     1.9482                         0.025    8  2006  \n",
       "49091                    1.8256                         0.017    4  2008  \n",
       "39102                      1.62                         0.453   10  2007  "
      ]
     },
     "execution_count": 2,
     "metadata": {},
     "output_type": "execute_result"
    }
   ],
   "source": [
    "data = pd.read_csv('2004-2019.tsv', sep = '\\t', index_col = 0)\n",
    "data.sample(3) # Let's take a look"
   ]
  },
  {
   "cell_type": "code",
   "execution_count": 3,
   "metadata": {},
   "outputs": [
    {
     "name": "stdout",
     "output_type": "stream",
     "text": [
      "<class 'pandas.core.frame.DataFrame'>\n",
      "Int64Index: 106823 entries, 0 to 106822\n",
      "Data columns (total 20 columns):\n",
      "DATA INICIAL                     106823 non-null object\n",
      "DATA FINAL                       106823 non-null object\n",
      "REGIÃO                           106823 non-null object\n",
      "ESTADO                           106823 non-null object\n",
      "PRODUTO                          106823 non-null object\n",
      "NÚMERO DE POSTOS PESQUISADOS     106823 non-null int64\n",
      "UNIDADE DE MEDIDA                106823 non-null object\n",
      "PREÇO MÉDIO REVENDA              106823 non-null float64\n",
      "DESVIO PADRÃO REVENDA            106823 non-null float64\n",
      "PREÇO MÍNIMO REVENDA             106823 non-null float64\n",
      "PREÇO MÁXIMO REVENDA             106823 non-null float64\n",
      "MARGEM MÉDIA REVENDA             106823 non-null object\n",
      "COEF DE VARIAÇÃO REVENDA         106823 non-null float64\n",
      "PREÇO MÉDIO DISTRIBUIÇÃO         106823 non-null object\n",
      "DESVIO PADRÃO DISTRIBUIÇÃO       106823 non-null object\n",
      "PREÇO MÍNIMO DISTRIBUIÇÃO        106823 non-null object\n",
      "PREÇO MÁXIMO DISTRIBUIÇÃO        106823 non-null object\n",
      "COEF DE VARIAÇÃO DISTRIBUIÇÃO    106823 non-null object\n",
      "MÊS                              106823 non-null int64\n",
      "ANO                              106823 non-null int64\n",
      "dtypes: float64(5), int64(3), object(12)\n",
      "memory usage: 17.1+ MB\n"
     ]
    }
   ],
   "source": [
    "data.info()"
   ]
  },
  {
   "cell_type": "code",
   "execution_count": 4,
   "metadata": {},
   "outputs": [
    {
     "data": {
      "text/plain": [
       "ÓLEO DIESEL         21194\n",
       "GASOLINA COMUM      21194\n",
       "GLP                 21186\n",
       "ETANOL HIDRATADO    21102\n",
       "GNV                 13034\n",
       "ÓLEO DIESEL S10      9113\n",
       "Name: PRODUTO, dtype: int64"
      ]
     },
     "execution_count": 4,
     "metadata": {},
     "output_type": "execute_result"
    }
   ],
   "source": [
    "data.PRODUTO.value_counts() # which are the products?"
   ]
  },
  {
   "cell_type": "markdown",
   "metadata": {},
   "source": [
    "## Diesel prices modeling"
   ]
  },
  {
   "cell_type": "code",
   "execution_count": 5,
   "metadata": {},
   "outputs": [],
   "source": [
    "diesel = data[data.PRODUTO == 'ÓLEO DIESEL'].copy()"
   ]
  },
  {
   "cell_type": "markdown",
   "metadata": {},
   "source": [
    "formating date columns (weekly instances from data.info())"
   ]
  },
  {
   "cell_type": "code",
   "execution_count": 6,
   "metadata": {},
   "outputs": [],
   "source": [
    "diesel['DATA INICIAL'] = pd.to_datetime(diesel['DATA INICIAL']) # Date columns are str instead of DateTime\n",
    "diesel['DATA FINAL'] = pd.to_datetime(diesel['DATA FINAL']) # Date columns are str instead of DateTime"
   ]
  },
  {
   "cell_type": "markdown",
   "metadata": {},
   "source": [
    "Time for sanity tests"
   ]
  },
  {
   "cell_type": "code",
   "execution_count": 7,
   "metadata": {},
   "outputs": [
    {
     "name": "stdout",
     "output_type": "stream",
     "text": [
      "True    21194\n",
      "dtype: int64\n",
      "[5] [6]\n",
      "DATA INICIAL \n",
      " count                   21194\n",
      "unique                    785\n",
      "top       2015-05-24 00:00:00\n",
      "freq                       27\n",
      "first     2004-05-09 00:00:00\n",
      "last      2019-06-23 00:00:00\n",
      "Name: DATA INICIAL, dtype: object\n",
      "DATA FINAL \n",
      " count                   21194\n",
      "unique                    785\n",
      "top       2013-02-09 00:00:00\n",
      "freq                       27\n",
      "first     2004-05-15 00:00:00\n",
      "last      2019-06-29 00:00:00\n",
      "Name: DATA FINAL, dtype: object\n"
     ]
    }
   ],
   "source": [
    "print((diesel['DATA FINAL'] >= diesel['DATA INICIAL']).value_counts()) # final date older than initial\n",
    "print(diesel['DATA FINAL'].dt.weekday.unique(), diesel['DATA INICIAL'].dt.weekday.unique())\n",
    "print('DATA INICIAL \\n', diesel['DATA INICIAL'].describe())\n",
    "print('DATA FINAL \\n', diesel['DATA FINAL'].describe())"
   ]
  },
  {
   "cell_type": "markdown",
   "metadata": {},
   "source": [
    "Dataset splits"
   ]
  },
  {
   "cell_type": "code",
   "execution_count": 8,
   "metadata": {},
   "outputs": [
    {
     "data": {
      "text/plain": [
       "((9773, 20), (9315, 20), (1593, 20))"
      ]
     },
     "execution_count": 8,
     "metadata": {},
     "output_type": "execute_result"
    }
   ],
   "source": [
    "diesel_train = diesel[diesel['DATA FINAL'] < '2011-05-15'] # 7 years \n",
    "diesel_val   = diesel[(diesel['DATA FINAL'] >= '2011-05-15') & (diesel['DATA FINAL'] < '2018-01-01')] # 7 years\n",
    "diesel_test  = diesel[diesel['DATA FINAL'] >= '2018-05-15'] # 1 year\n",
    "diesel_train.shape, diesel_val.shape, diesel_test.shape "
   ]
  },
  {
   "cell_type": "markdown",
   "metadata": {},
   "source": [
    "**Target definition**"
   ]
  },
  {
   "cell_type": "code",
   "execution_count": 9,
   "metadata": {},
   "outputs": [],
   "source": [
    "y_train = diesel_train['PREÇO MÉDIO REVENDA']\n",
    "y_val   = diesel_val['PREÇO MÉDIO REVENDA']\n",
    "y_test  = diesel_test['PREÇO MÉDIO REVENDA']"
   ]
  },
  {
   "cell_type": "markdown",
   "metadata": {},
   "source": [
    "### Creating the baseline\n",
    "The very first model predicts new values being equals to the last ones.\n",
    "Let's create a new column containing predictions created in this way"
   ]
  },
  {
   "cell_type": "code",
   "execution_count": 10,
   "metadata": {},
   "outputs": [],
   "source": [
    "# Each *ESTADO* has a value for date line.\n",
    "# shift the column by one \n",
    "baseline_train = diesel_train.groupby(['ESTADO'])['PREÇO MÉDIO REVENDA'].shift(1)\n",
    "baseline_val   = diesel_val.groupby(['ESTADO'])['PREÇO MÉDIO REVENDA'].shift(1)"
   ]
  },
  {
   "cell_type": "markdown",
   "metadata": {},
   "source": [
    "Let's add this new column to the datasets"
   ]
  },
  {
   "cell_type": "code",
   "execution_count": 11,
   "metadata": {},
   "outputs": [
    {
     "name": "stderr",
     "output_type": "stream",
     "text": [
      "C:\\Users\\vipac\\Anaconda3\\lib\\site-packages\\ipykernel_launcher.py:1: SettingWithCopyWarning: \n",
      "A value is trying to be set on a copy of a slice from a DataFrame.\n",
      "Try using .loc[row_indexer,col_indexer] = value instead\n",
      "\n",
      "See the caveats in the documentation: http://pandas.pydata.org/pandas-docs/stable/indexing.html#indexing-view-versus-copy\n",
      "  \"\"\"Entry point for launching an IPython kernel.\n",
      "C:\\Users\\vipac\\Anaconda3\\lib\\site-packages\\ipykernel_launcher.py:2: SettingWithCopyWarning: \n",
      "A value is trying to be set on a copy of a slice from a DataFrame.\n",
      "Try using .loc[row_indexer,col_indexer] = value instead\n",
      "\n",
      "See the caveats in the documentation: http://pandas.pydata.org/pandas-docs/stable/indexing.html#indexing-view-versus-copy\n",
      "  \n"
     ]
    }
   ],
   "source": [
    "diesel_train['BASELINE'] = baseline_train\n",
    "diesel_val['BASELINE']   = baseline_val"
   ]
  },
  {
   "cell_type": "markdown",
   "metadata": {},
   "source": [
    "### Evaluating model performance\n",
    "Metric: Mean squared logarithmic error\n",
    "\n",
    "This metric evaluates the percentage error: \"This metric is best to use when targets having exponential growth, such as population counts, average sales of a commodity over a span of years etc. Note that this metric penalizes an under-predicted estimate greater than an over-predicted estimate.\"\n",
    "\\begin{equation}\n",
    "\\frac{1}{N_{samples}} \\sum_{i=0}^{N_{samples}-1} \\left(Ln(1+y_{true}) - Ln(1+y_{pred})\\right)^2\n",
    "\\end{equation}"
   ]
  },
  {
   "cell_type": "code",
   "execution_count": 12,
   "metadata": {},
   "outputs": [
    {
     "data": {
      "text/plain": [
       "((9315,), (9288,), (9315,))"
      ]
     },
     "execution_count": 12,
     "metadata": {},
     "output_type": "execute_result"
    }
   ],
   "source": [
    "baseline_val.notnull().shape, y_val[baseline_val.notnull()].shape, y_val.shape"
   ]
  },
  {
   "cell_type": "code",
   "execution_count": 13,
   "metadata": {},
   "outputs": [
    {
     "name": "stdout",
     "output_type": "stream",
     "text": [
      "baseline_error: 0.66461058218652\n"
     ]
    }
   ],
   "source": [
    "from sklearn.metrics import mean_squared_log_error\n",
    "\n",
    "idx_notnull = baseline_val.notnull() # taking only indexes with predictions not null\n",
    "\n",
    "baseline_error = np.sqrt(mean_squared_log_error(\n",
    "    y_val[idx_notnull], baseline_val[idx_notnull] )) # Root mean squared logarithmic error \n",
    "print('baseline_error:', baseline_error*100)"
   ]
  }
 ],
 "metadata": {
  "kernelspec": {
   "display_name": "Python 3",
   "language": "python",
   "name": "python3"
  },
  "language_info": {
   "codemirror_mode": {
    "name": "ipython",
    "version": 3
   },
   "file_extension": ".py",
   "mimetype": "text/x-python",
   "name": "python",
   "nbconvert_exporter": "python",
   "pygments_lexer": "ipython3",
   "version": "3.7.1"
  },
  "toc": {
   "base_numbering": 1,
   "nav_menu": {},
   "number_sections": true,
   "sideBar": true,
   "skip_h1_title": false,
   "title_cell": "Table of Contents",
   "title_sidebar": "Contents",
   "toc_cell": false,
   "toc_position": {},
   "toc_section_display": true,
   "toc_window_display": false
  },
  "varInspector": {
   "cols": {
    "lenName": 16,
    "lenType": 16,
    "lenVar": 40
   },
   "kernels_config": {
    "python": {
     "delete_cmd_postfix": "",
     "delete_cmd_prefix": "del ",
     "library": "var_list.py",
     "varRefreshCmd": "print(var_dic_list())"
    },
    "r": {
     "delete_cmd_postfix": ") ",
     "delete_cmd_prefix": "rm(",
     "library": "var_list.r",
     "varRefreshCmd": "cat(var_dic_list()) "
    }
   },
   "types_to_exclude": [
    "module",
    "function",
    "builtin_function_or_method",
    "instance",
    "_Feature"
   ],
   "window_display": false
  }
 },
 "nbformat": 4,
 "nbformat_minor": 2
}
