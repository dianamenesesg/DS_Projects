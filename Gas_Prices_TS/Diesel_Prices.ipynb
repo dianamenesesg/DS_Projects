{
 "cells": [
  {
   "cell_type": "markdown",
   "metadata": {},
   "source": [
    "# First things first\n",
    "\n",
    "The National Agency of Petroleum, Natural Gas and Bio fuels (ANP in Portuguese) releases weekly reports of gas, diesel and other fuels prices used in transportation across the country. \n",
    "\n",
    "**Question**\n",
    "How much will be the Diesel price in the next week?\n",
    "\n",
    "https://www.kaggle.com/matheusfreitag/gas-prices-in-brazil/data"
   ]
  },
  {
   "cell_type": "code",
   "execution_count": 1,
   "metadata": {},
   "outputs": [],
   "source": [
    "import pandas as pd\n",
    "import numpy as np\n",
    "%matplotlib inline"
   ]
  },
  {
   "cell_type": "code",
   "execution_count": 2,
   "metadata": {},
   "outputs": [
    {
     "data": {
      "text/html": [
       "<div>\n",
       "<style scoped>\n",
       "    .dataframe tbody tr th:only-of-type {\n",
       "        vertical-align: middle;\n",
       "    }\n",
       "\n",
       "    .dataframe tbody tr th {\n",
       "        vertical-align: top;\n",
       "    }\n",
       "\n",
       "    .dataframe thead th {\n",
       "        text-align: right;\n",
       "    }\n",
       "</style>\n",
       "<table border=\"1\" class=\"dataframe\">\n",
       "  <thead>\n",
       "    <tr style=\"text-align: right;\">\n",
       "      <th></th>\n",
       "      <th>DATA INICIAL</th>\n",
       "      <th>DATA FINAL</th>\n",
       "      <th>REGIÃO</th>\n",
       "      <th>ESTADO</th>\n",
       "      <th>PRODUTO</th>\n",
       "      <th>NÚMERO DE POSTOS PESQUISADOS</th>\n",
       "      <th>UNIDADE DE MEDIDA</th>\n",
       "      <th>PREÇO MÉDIO REVENDA</th>\n",
       "      <th>DESVIO PADRÃO REVENDA</th>\n",
       "      <th>PREÇO MÍNIMO REVENDA</th>\n",
       "      <th>PREÇO MÁXIMO REVENDA</th>\n",
       "      <th>MARGEM MÉDIA REVENDA</th>\n",
       "      <th>COEF DE VARIAÇÃO REVENDA</th>\n",
       "      <th>PREÇO MÉDIO DISTRIBUIÇÃO</th>\n",
       "      <th>DESVIO PADRÃO DISTRIBUIÇÃO</th>\n",
       "      <th>PREÇO MÍNIMO DISTRIBUIÇÃO</th>\n",
       "      <th>PREÇO MÁXIMO DISTRIBUIÇÃO</th>\n",
       "      <th>COEF DE VARIAÇÃO DISTRIBUIÇÃO</th>\n",
       "      <th>MÊS</th>\n",
       "      <th>ANO</th>\n",
       "    </tr>\n",
       "  </thead>\n",
       "  <tbody>\n",
       "    <tr>\n",
       "      <th>5980</th>\n",
       "      <td>2008-08-17</td>\n",
       "      <td>2008-08-23</td>\n",
       "      <td>NORTE</td>\n",
       "      <td>RORAIMA</td>\n",
       "      <td>ETANOL HIDRATADO</td>\n",
       "      <td>13</td>\n",
       "      <td>R$/l</td>\n",
       "      <td>2.169</td>\n",
       "      <td>0.038</td>\n",
       "      <td>2.150</td>\n",
       "      <td>2.250</td>\n",
       "      <td>0.333</td>\n",
       "      <td>0.018</td>\n",
       "      <td>1.836</td>\n",
       "      <td>0.079</td>\n",
       "      <td>1.7171</td>\n",
       "      <td>1.8825</td>\n",
       "      <td>0.043</td>\n",
       "      <td>8</td>\n",
       "      <td>2008</td>\n",
       "    </tr>\n",
       "    <tr>\n",
       "      <th>106130</th>\n",
       "      <td>2019-05-26</td>\n",
       "      <td>2019-06-01</td>\n",
       "      <td>NORDESTE</td>\n",
       "      <td>ALAGOAS</td>\n",
       "      <td>ÓLEO DIESEL S10</td>\n",
       "      <td>44</td>\n",
       "      <td>R$/l</td>\n",
       "      <td>3.836</td>\n",
       "      <td>0.178</td>\n",
       "      <td>3.699</td>\n",
       "      <td>4.500</td>\n",
       "      <td>0.387</td>\n",
       "      <td>0.046</td>\n",
       "      <td>3.449</td>\n",
       "      <td>0.077</td>\n",
       "      <td>3.37</td>\n",
       "      <td>3.5969</td>\n",
       "      <td>0.022</td>\n",
       "      <td>5</td>\n",
       "      <td>2019</td>\n",
       "    </tr>\n",
       "    <tr>\n",
       "      <th>100132</th>\n",
       "      <td>2018-08-19</td>\n",
       "      <td>2018-08-25</td>\n",
       "      <td>CENTRO OESTE</td>\n",
       "      <td>DISTRITO FEDERAL</td>\n",
       "      <td>ÓLEO DIESEL S10</td>\n",
       "      <td>31</td>\n",
       "      <td>R$/l</td>\n",
       "      <td>3.574</td>\n",
       "      <td>0.103</td>\n",
       "      <td>3.199</td>\n",
       "      <td>3.759</td>\n",
       "      <td>0.303</td>\n",
       "      <td>0.029</td>\n",
       "      <td>3.271</td>\n",
       "      <td>0.056</td>\n",
       "      <td>3.195</td>\n",
       "      <td>3.37</td>\n",
       "      <td>0.017</td>\n",
       "      <td>8</td>\n",
       "      <td>2018</td>\n",
       "    </tr>\n",
       "  </tbody>\n",
       "</table>\n",
       "</div>"
      ],
      "text/plain": [
       "       DATA INICIAL  DATA FINAL        REGIÃO            ESTADO  \\\n",
       "5980     2008-08-17  2008-08-23         NORTE           RORAIMA   \n",
       "106130   2019-05-26  2019-06-01      NORDESTE           ALAGOAS   \n",
       "100132   2018-08-19  2018-08-25  CENTRO OESTE  DISTRITO FEDERAL   \n",
       "\n",
       "                 PRODUTO  NÚMERO DE POSTOS PESQUISADOS UNIDADE DE MEDIDA  \\\n",
       "5980    ETANOL HIDRATADO                            13              R$/l   \n",
       "106130   ÓLEO DIESEL S10                            44              R$/l   \n",
       "100132   ÓLEO DIESEL S10                            31              R$/l   \n",
       "\n",
       "        PREÇO MÉDIO REVENDA  DESVIO PADRÃO REVENDA  PREÇO MÍNIMO REVENDA  \\\n",
       "5980                  2.169                  0.038                 2.150   \n",
       "106130                3.836                  0.178                 3.699   \n",
       "100132                3.574                  0.103                 3.199   \n",
       "\n",
       "        PREÇO MÁXIMO REVENDA MARGEM MÉDIA REVENDA  COEF DE VARIAÇÃO REVENDA  \\\n",
       "5980                   2.250                0.333                     0.018   \n",
       "106130                 4.500                0.387                     0.046   \n",
       "100132                 3.759                0.303                     0.029   \n",
       "\n",
       "       PREÇO MÉDIO DISTRIBUIÇÃO DESVIO PADRÃO DISTRIBUIÇÃO  \\\n",
       "5980                      1.836                      0.079   \n",
       "106130                    3.449                      0.077   \n",
       "100132                    3.271                      0.056   \n",
       "\n",
       "       PREÇO MÍNIMO DISTRIBUIÇÃO PREÇO MÁXIMO DISTRIBUIÇÃO  \\\n",
       "5980                      1.7171                    1.8825   \n",
       "106130                      3.37                    3.5969   \n",
       "100132                     3.195                      3.37   \n",
       "\n",
       "       COEF DE VARIAÇÃO DISTRIBUIÇÃO  MÊS   ANO  \n",
       "5980                           0.043    8  2008  \n",
       "106130                         0.022    5  2019  \n",
       "100132                         0.017    8  2018  "
      ]
     },
     "execution_count": 2,
     "metadata": {},
     "output_type": "execute_result"
    }
   ],
   "source": [
    "data = pd.read_csv('2004-2019.tsv', sep = '\\t', index_col = 0)\n",
    "data.sample(3) # Let's take a look"
   ]
  },
  {
   "cell_type": "markdown",
   "metadata": {},
   "source": [
    "## Diesel prices modeling"
   ]
  },
  {
   "cell_type": "code",
   "execution_count": 3,
   "metadata": {},
   "outputs": [],
   "source": [
    "diesel = data[data.PRODUTO == 'ÓLEO DIESEL'].copy()"
   ]
  },
  {
   "cell_type": "markdown",
   "metadata": {},
   "source": [
    "formating date columns (weekly instances from data.info())"
   ]
  },
  {
   "cell_type": "code",
   "execution_count": 4,
   "metadata": {},
   "outputs": [],
   "source": [
    "diesel['DATA INICIAL'] = pd.to_datetime(diesel['DATA INICIAL']) # Date columns are str instead of DateTime\n",
    "diesel['DATA FINAL'] = pd.to_datetime(diesel['DATA FINAL']) # Date columns are str instead of DateTime"
   ]
  },
  {
   "cell_type": "markdown",
   "metadata": {},
   "source": [
    "Dataset splits"
   ]
  },
  {
   "cell_type": "code",
   "execution_count": 5,
   "metadata": {},
   "outputs": [
    {
     "data": {
      "text/plain": [
       "((9773, 20), (9315, 20), (1593, 20))"
      ]
     },
     "execution_count": 5,
     "metadata": {},
     "output_type": "execute_result"
    }
   ],
   "source": [
    "diesel_train = diesel[diesel['DATA FINAL'] < '2011-05-15'] # 7 years \n",
    "diesel_val   = diesel[(diesel['DATA FINAL'] >= '2011-05-15') & (diesel['DATA FINAL'] < '2018-01-01')] # 7 years\n",
    "diesel_test  = diesel[diesel['DATA FINAL'] >= '2018-05-15'] # 1 year\n",
    "diesel_train.shape, diesel_val.shape, diesel_test.shape "
   ]
  },
  {
   "cell_type": "markdown",
   "metadata": {},
   "source": [
    "**Target definition**"
   ]
  },
  {
   "cell_type": "code",
   "execution_count": 6,
   "metadata": {},
   "outputs": [],
   "source": [
    "y_train = diesel_train['PREÇO MÉDIO REVENDA']\n",
    "y_val   = diesel_val['PREÇO MÉDIO REVENDA']\n",
    "y_test  = diesel_test['PREÇO MÉDIO REVENDA']"
   ]
  },
  {
   "cell_type": "markdown",
   "metadata": {},
   "source": [
    "Mini exploration"
   ]
  },
  {
   "cell_type": "code",
   "execution_count": 7,
   "metadata": {},
   "outputs": [
    {
     "data": {
      "text/plain": [
       "<matplotlib.axes._subplots.AxesSubplot at 0x2b8319b67f0>"
      ]
     },
     "execution_count": 7,
     "metadata": {},
     "output_type": "execute_result"
    },
    {
     "data": {
      "image/png": "[encoded data removed]",
      "text/plain": [
       "<Figure size 432x288 with 1 Axes>"
      ]
     },
     "metadata": {
      "needs_background": "light"
     },
     "output_type": "display_data"
    }
   ],
   "source": [
    "diesel_train.plot(x = 'DATA FINAL', y = 'PREÇO MÉDIO REVENDA') # The target is not stationary!!!! "
   ]
  },
  {
   "cell_type": "markdown",
   "metadata": {},
   "source": [
    "After seeing both variance and mean changing through time, let's created the variable current_price - future_price and examine its plot"
   ]
  },
  {
   "cell_type": "code",
   "execution_count": 8,
   "metadata": {},
   "outputs": [],
   "source": [
    "def target_diff(x):\n",
    "    \"\"\" Compute the difference between two consecutives rows in a serie \"\"\"\n",
    "    x = x.diff() # First discrete difference for a Serie\n",
    "    x = x.shift(-1) # shifting its result at the same level (leaving last element as nan)\n",
    "    return x"
   ]
  },
  {
   "cell_type": "code",
   "execution_count": 9,
   "metadata": {},
   "outputs": [
    {
     "name": "stderr",
     "output_type": "stream",
     "text": [
      "C:\\Users\\vipac\\Anaconda3\\lib\\site-packages\\ipykernel_launcher.py:1: SettingWithCopyWarning: \n",
      "A value is trying to be set on a copy of a slice from a DataFrame.\n",
      "Try using .loc[row_indexer,col_indexer] = value instead\n",
      "\n",
      "See the caveats in the documentation: http://pandas.pydata.org/pandas-docs/stable/indexing.html#indexing-view-versus-copy\n",
      "  \"\"\"Entry point for launching an IPython kernel.\n",
      "C:\\Users\\vipac\\Anaconda3\\lib\\site-packages\\ipykernel_launcher.py:2: SettingWithCopyWarning: \n",
      "A value is trying to be set on a copy of a slice from a DataFrame.\n",
      "Try using .loc[row_indexer,col_indexer] = value instead\n",
      "\n",
      "See the caveats in the documentation: http://pandas.pydata.org/pandas-docs/stable/indexing.html#indexing-view-versus-copy\n",
      "  \n",
      "C:\\Users\\vipac\\Anaconda3\\lib\\site-packages\\ipykernel_launcher.py:3: SettingWithCopyWarning: \n",
      "A value is trying to be set on a copy of a slice from a DataFrame.\n",
      "Try using .loc[row_indexer,col_indexer] = value instead\n",
      "\n",
      "See the caveats in the documentation: http://pandas.pydata.org/pandas-docs/stable/indexing.html#indexing-view-versus-copy\n",
      "  This is separate from the ipykernel package so we can avoid doing imports until\n"
     ]
    }
   ],
   "source": [
    "diesel_train['DIFF'] = diesel_train.groupby(['ESTADO'])['PREÇO MÉDIO REVENDA'].apply(target_diff)\n",
    "diesel_val['DIFF']   = diesel_val.groupby(['ESTADO'])['PREÇO MÉDIO REVENDA'].apply(target_diff)\n",
    "diesel_test['DIFF']  = diesel_test.groupby(['ESTADO'])['PREÇO MÉDIO REVENDA'].apply(target_diff)"
   ]
  },
  {
   "cell_type": "code",
   "execution_count": 10,
   "metadata": {},
   "outputs": [
    {
     "data": {
      "text/plain": [
       "<matplotlib.axes._subplots.AxesSubplot at 0x2b8319b6780>"
      ]
     },
     "execution_count": 10,
     "metadata": {},
     "output_type": "execute_result"
    },
    {
     "data": {
      "image/png": "[encoded data removed]",
      "text/plain": [
       "<Figure size 432x288 with 1 Axes>"
      ]
     },
     "metadata": {
      "needs_background": "light"
     },
     "output_type": "display_data"
    }
   ],
   "source": [
    "diesel_train.plot(x = 'DATA FINAL', y = 'DIFF') # these behaviors are better for Time Series"
   ]
  },
  {
   "cell_type": "markdown",
   "metadata": {},
   "source": [
    "## Selecting features V2"
   ]
  },
  {
   "cell_type": "markdown",
   "metadata": {},
   "source": [
    "Let's create a new dataframe with features used to modeling"
   ]
  },
  {
   "cell_type": "code",
   "execution_count": 11,
   "metadata": {},
   "outputs": [],
   "source": [
    "df_X_train = pd.DataFrame(index = diesel_train.index)\n",
    "df_X_val   = pd.DataFrame(index = diesel_val.index)\n",
    "df_X_test  = pd.DataFrame(index = diesel_test.index)"
   ]
  },
  {
   "cell_type": "markdown",
   "metadata": {},
   "source": [
    "**Train set**"
   ]
  },
  {
   "cell_type": "code",
   "execution_count": 12,
   "metadata": {},
   "outputs": [],
   "source": [
    "######## SEASONAL ########\n",
    "df_X_train['DAY'] = diesel_train['DATA FINAL'].dt.day\n",
    "df_X_train['MONTH'] = diesel_train['DATA FINAL'].dt.month\n",
    "df_X_train['DAY_of_YEAR'] = diesel_train['DATA FINAL'].dt.dayofyear\n",
    "df_X_train['WEEK_of_YEAR'] = diesel_train['DATA FINAL'].dt.weekofyear\n",
    "\n",
    "######## LAG (Rezago :P ) ########\n",
    "for i in range(0,12): # 12 new features with lags from 11 weeks ago\n",
    "    df_X_train['LAG_{0}'.format(i)] = diesel_train['PREÇO MÉDIO REVENDA'].shift(i) \n",
    "for i in range(1,12): # 11 new features with lags between current and until 11 weeks ago\n",
    "    df_X_train['DIFF_LAG_{0}'.format(i)] = diesel_train.groupby(['ESTADO'])['PREÇO MÉDIO REVENDA'].diff(i) \n",
    "\n",
    "######## MA (moving average) ########\n",
    "for i in range(2,12): # 9 new features with a moving average calculated from 2 until 11 weeks of rolling\n",
    "    df_X_train['MA_{0}'.format(i)] = diesel_train.groupby(['ESTADO'])['PREÇO MÉDIO REVENDA'].rolling(i).mean().reset_index(level = 0, drop = True)\n",
    "\n",
    "######## From dataset ########\n",
    "df_X_train['DIFF'] = diesel_train['DIFF']\n",
    "\n",
    "######## Categorical ########\n",
    "from category_encoders import OneHotEncoder\n",
    "OneHotEnconder = OneHotEncoder(cols = ['STATE', 'ZONE'], use_cat_names = True, drop_invariant = True) #dropping columns with 0 variance\n",
    "df_X_train['STATE'] = diesel_train['ESTADO']\n",
    "df_X_train['ZONE'] = diesel_train['REGIÃO']\n",
    "df_X_train = OneHotEnconder.fit_transform(df_X_train) # one hot encoder for Estado and Regiao \n",
    "\n",
    "######## The own time series for each state ########\n",
    "df_X_train['DATA FINAL'] = diesel_train['DATA FINAL']\n",
    "df_X_train['STATE'] = diesel_train['ESTADO']\n",
    "\n",
    "df_pivot = df_X_train.pivot(index = 'DATA FINAL', columns = 'STATE', values = 'DIFF_LAG_1')\n",
    "df_pivot.columns += '_DIFF_LAG_1'\n",
    "df_X_train = pd.merge(df_X_train, df_pivot, on = 'DATA FINAL', how = 'left')\n",
    "\n",
    "######## Ranking ########\n",
    "df_X_train['RANKING'] = df_X_train.groupby('DATA FINAL')['DIFF_LAG_1'].rank()\n",
    "\n",
    "######## DROPPING NAN ########\n",
    "df_X_train = df_X_train.dropna()\n",
    "\n",
    "######## x_train, y_train ########\n",
    "X_train = df_X_train.drop(['DIFF', 'STATE', 'DATA FINAL'], axis = 1)\n",
    "y_train = df_X_train['DIFF']"
   ]
  },
  {
   "cell_type": "code",
   "execution_count": 13,
   "metadata": {
    "scrolled": true
   },
   "outputs": [
    {
     "name": "stdout",
     "output_type": "stream",
     "text": [
      "<class 'pandas.core.frame.DataFrame'>\n",
      "Int64Index: 9423 entries, 297 to 9745\n",
      "Data columns (total 97 columns):\n",
      "DAY                               9423 non-null int64\n",
      "MONTH                             9423 non-null int64\n",
      "DAY_of_YEAR                       9423 non-null int64\n",
      "WEEK_of_YEAR                      9423 non-null int64\n",
      "LAG_0                             9423 non-null float64\n",
      "LAG_1                             9423 non-null float64\n",
      "LAG_2                             9423 non-null float64\n",
      "LAG_3                             9423 non-null float64\n",
      "LAG_4                             9423 non-null float64\n",
      "LAG_5                             9423 non-null float64\n",
      "LAG_6                             9423 non-null float64\n",
      "LAG_7                             9423 non-null float64\n",
      "LAG_8                             9423 non-null float64\n",
      "LAG_9                             9423 non-null float64\n",
      "LAG_10                            9423 non-null float64\n",
      "LAG_11                            9423 non-null float64\n",
      "DIFF_LAG_1                        9423 non-null float64\n",
      "DIFF_LAG_2                        9423 non-null float64\n",
      "DIFF_LAG_3                        9423 non-null float64\n",
      "DIFF_LAG_4                        9423 non-null float64\n",
      "DIFF_LAG_5                        9423 non-null float64\n",
      "DIFF_LAG_6                        9423 non-null float64\n",
      "DIFF_LAG_7                        9423 non-null float64\n",
      "DIFF_LAG_8                        9423 non-null float64\n",
      "DIFF_LAG_9                        9423 non-null float64\n",
      "DIFF_LAG_10                       9423 non-null float64\n",
      "DIFF_LAG_11                       9423 non-null float64\n",
      "MA_2                              9423 non-null float64\n",
      "MA_3                              9423 non-null float64\n",
      "MA_4                              9423 non-null float64\n",
      "MA_5                              9423 non-null float64\n",
      "MA_6                              9423 non-null float64\n",
      "MA_7                              9423 non-null float64\n",
      "MA_8                              9423 non-null float64\n",
      "MA_9                              9423 non-null float64\n",
      "MA_10                             9423 non-null float64\n",
      "MA_11                             9423 non-null float64\n",
      "STATE_DISTRITO FEDERAL            9423 non-null int64\n",
      "STATE_GOIAS                       9423 non-null int64\n",
      "STATE_MATO GROSSO                 9423 non-null int64\n",
      "STATE_MATO GROSSO DO SUL          9423 non-null int64\n",
      "STATE_ALAGOAS                     9423 non-null int64\n",
      "STATE_BAHIA                       9423 non-null int64\n",
      "STATE_CEARA                       9423 non-null int64\n",
      "STATE_MARANHAO                    9423 non-null int64\n",
      "STATE_PARAIBA                     9423 non-null int64\n",
      "STATE_PERNAMBUCO                  9423 non-null int64\n",
      "STATE_PIAUI                       9423 non-null int64\n",
      "STATE_RIO GRANDE DO NORTE         9423 non-null int64\n",
      "STATE_SERGIPE                     9423 non-null int64\n",
      "STATE_ACRE                        9423 non-null int64\n",
      "STATE_AMAPA                       9423 non-null int64\n",
      "STATE_AMAZONAS                    9423 non-null int64\n",
      "STATE_PARA                        9423 non-null int64\n",
      "STATE_RONDONIA                    9423 non-null int64\n",
      "STATE_RORAIMA                     9423 non-null int64\n",
      "STATE_TOCANTINS                   9423 non-null int64\n",
      "STATE_ESPIRITO SANTO              9423 non-null int64\n",
      "STATE_MINAS GERAIS                9423 non-null int64\n",
      "STATE_RIO DE JANEIRO              9423 non-null int64\n",
      "STATE_SAO PAULO                   9423 non-null int64\n",
      "STATE_PARANA                      9423 non-null int64\n",
      "STATE_RIO GRANDE DO SUL           9423 non-null int64\n",
      "STATE_SANTA CATARINA              9423 non-null int64\n",
      "ZONE_CENTRO OESTE                 9423 non-null int64\n",
      "ZONE_NORDESTE                     9423 non-null int64\n",
      "ZONE_NORTE                        9423 non-null int64\n",
      "ZONE_SUDESTE                      9423 non-null int64\n",
      "ZONE_SUL                          9423 non-null int64\n",
      "ACRE_DIFF_LAG_1                   9423 non-null float64\n",
      "ALAGOAS_DIFF_LAG_1                9423 non-null float64\n",
      "AMAPA_DIFF_LAG_1                  9423 non-null float64\n",
      "AMAZONAS_DIFF_LAG_1               9423 non-null float64\n",
      "BAHIA_DIFF_LAG_1                  9423 non-null float64\n",
      "CEARA_DIFF_LAG_1                  9423 non-null float64\n",
      "DISTRITO FEDERAL_DIFF_LAG_1       9423 non-null float64\n",
      "ESPIRITO SANTO_DIFF_LAG_1         9423 non-null float64\n",
      "GOIAS_DIFF_LAG_1                  9423 non-null float64\n",
      "MARANHAO_DIFF_LAG_1               9423 non-null float64\n",
      "MATO GROSSO_DIFF_LAG_1            9423 non-null float64\n",
      "MATO GROSSO DO SUL_DIFF_LAG_1     9423 non-null float64\n",
      "MINAS GERAIS_DIFF_LAG_1           9423 non-null float64\n",
      "PARA_DIFF_LAG_1                   9423 non-null float64\n",
      "PARAIBA_DIFF_LAG_1                9423 non-null float64\n",
      "PARANA_DIFF_LAG_1                 9423 non-null float64\n",
      "PERNAMBUCO_DIFF_LAG_1             9423 non-null float64\n",
      "PIAUI_DIFF_LAG_1                  9423 non-null float64\n",
      "RIO DE JANEIRO_DIFF_LAG_1         9423 non-null float64\n",
      "RIO GRANDE DO NORTE_DIFF_LAG_1    9423 non-null float64\n",
      "RIO GRANDE DO SUL_DIFF_LAG_1      9423 non-null float64\n",
      "RONDONIA_DIFF_LAG_1               9423 non-null float64\n",
      "RORAIMA_DIFF_LAG_1                9423 non-null float64\n",
      "SANTA CATARINA_DIFF_LAG_1         9423 non-null float64\n",
      "SAO PAULO_DIFF_LAG_1              9423 non-null float64\n",
      "SERGIPE_DIFF_LAG_1                9423 non-null float64\n",
      "TOCANTINS_DIFF_LAG_1              9423 non-null float64\n",
      "RANKING                           9423 non-null float64\n",
      "dtypes: float64(61), int64(36)\n",
      "memory usage: 7.0 MB\n"
     ]
    },
    {
     "data": {
      "text/plain": [
       "((9423, 100), None)"
      ]
     },
     "execution_count": 13,
     "metadata": {},
     "output_type": "execute_result"
    }
   ],
   "source": [
    "df_X_train.shape, X_train.info()"
   ]
  },
  {
   "cell_type": "code",
   "execution_count": 14,
   "metadata": {},
   "outputs": [
    {
     "data": {
      "text/html": [
       "<div>\n",
       "<style scoped>\n",
       "    .dataframe tbody tr th:only-of-type {\n",
       "        vertical-align: middle;\n",
       "    }\n",
       "\n",
       "    .dataframe tbody tr th {\n",
       "        vertical-align: top;\n",
       "    }\n",
       "\n",
       "    .dataframe thead th {\n",
       "        text-align: right;\n",
       "    }\n",
       "</style>\n",
       "<table border=\"1\" class=\"dataframe\">\n",
       "  <thead>\n",
       "    <tr style=\"text-align: right;\">\n",
       "      <th></th>\n",
       "      <th>DAY</th>\n",
       "      <th>MONTH</th>\n",
       "      <th>DAY_of_YEAR</th>\n",
       "      <th>WEEK_of_YEAR</th>\n",
       "      <th>LAG_0</th>\n",
       "      <th>LAG_1</th>\n",
       "      <th>LAG_2</th>\n",
       "      <th>LAG_3</th>\n",
       "      <th>LAG_4</th>\n",
       "      <th>LAG_5</th>\n",
       "      <th>...</th>\n",
       "      <th>RIO DE JANEIRO_DIFF_LAG_1</th>\n",
       "      <th>RIO GRANDE DO NORTE_DIFF_LAG_1</th>\n",
       "      <th>RIO GRANDE DO SUL_DIFF_LAG_1</th>\n",
       "      <th>RONDONIA_DIFF_LAG_1</th>\n",
       "      <th>RORAIMA_DIFF_LAG_1</th>\n",
       "      <th>SANTA CATARINA_DIFF_LAG_1</th>\n",
       "      <th>SAO PAULO_DIFF_LAG_1</th>\n",
       "      <th>SERGIPE_DIFF_LAG_1</th>\n",
       "      <th>TOCANTINS_DIFF_LAG_1</th>\n",
       "      <th>RANKING</th>\n",
       "    </tr>\n",
       "  </thead>\n",
       "  <tbody>\n",
       "    <tr>\n",
       "      <th>count</th>\n",
       "      <td>9423.000000</td>\n",
       "      <td>9423.000000</td>\n",
       "      <td>9423.000000</td>\n",
       "      <td>9423.000000</td>\n",
       "      <td>9423.000000</td>\n",
       "      <td>9423.000000</td>\n",
       "      <td>9423.000000</td>\n",
       "      <td>9423.000000</td>\n",
       "      <td>9423.000000</td>\n",
       "      <td>9423.000000</td>\n",
       "      <td>...</td>\n",
       "      <td>9423.000000</td>\n",
       "      <td>9423.000000</td>\n",
       "      <td>9423.000000</td>\n",
       "      <td>9423.000000</td>\n",
       "      <td>9423.000000</td>\n",
       "      <td>9423.000000</td>\n",
       "      <td>9423.000000</td>\n",
       "      <td>9423.000000</td>\n",
       "      <td>9423.000000</td>\n",
       "      <td>9423.000000</td>\n",
       "    </tr>\n",
       "    <tr>\n",
       "      <th>mean</th>\n",
       "      <td>15.659026</td>\n",
       "      <td>6.495702</td>\n",
       "      <td>182.226361</td>\n",
       "      <td>26.595989</td>\n",
       "      <td>1.961861</td>\n",
       "      <td>1.961804</td>\n",
       "      <td>1.961748</td>\n",
       "      <td>1.961697</td>\n",
       "      <td>1.961642</td>\n",
       "      <td>1.961584</td>\n",
       "      <td>...</td>\n",
       "      <td>0.001564</td>\n",
       "      <td>0.001622</td>\n",
       "      <td>0.001490</td>\n",
       "      <td>0.001410</td>\n",
       "      <td>0.001954</td>\n",
       "      <td>0.001553</td>\n",
       "      <td>0.001464</td>\n",
       "      <td>0.001688</td>\n",
       "      <td>0.001298</td>\n",
       "      <td>14.000000</td>\n",
       "    </tr>\n",
       "    <tr>\n",
       "      <th>std</th>\n",
       "      <td>8.805002</td>\n",
       "      <td>3.519777</td>\n",
       "      <td>107.504130</td>\n",
       "      <td>15.402975</td>\n",
       "      <td>0.199176</td>\n",
       "      <td>0.199229</td>\n",
       "      <td>0.199265</td>\n",
       "      <td>0.199326</td>\n",
       "      <td>0.199388</td>\n",
       "      <td>0.199453</td>\n",
       "      <td>...</td>\n",
       "      <td>0.014223</td>\n",
       "      <td>0.018493</td>\n",
       "      <td>0.016373</td>\n",
       "      <td>0.018034</td>\n",
       "      <td>0.017678</td>\n",
       "      <td>0.014054</td>\n",
       "      <td>0.014947</td>\n",
       "      <td>0.019442</td>\n",
       "      <td>0.019303</td>\n",
       "      <td>7.758644</td>\n",
       "    </tr>\n",
       "    <tr>\n",
       "      <th>min</th>\n",
       "      <td>1.000000</td>\n",
       "      <td>1.000000</td>\n",
       "      <td>1.000000</td>\n",
       "      <td>1.000000</td>\n",
       "      <td>1.415000</td>\n",
       "      <td>1.415000</td>\n",
       "      <td>1.415000</td>\n",
       "      <td>1.415000</td>\n",
       "      <td>1.415000</td>\n",
       "      <td>1.415000</td>\n",
       "      <td>...</td>\n",
       "      <td>-0.042000</td>\n",
       "      <td>-0.078000</td>\n",
       "      <td>-0.072000</td>\n",
       "      <td>-0.096000</td>\n",
       "      <td>-0.054000</td>\n",
       "      <td>-0.052000</td>\n",
       "      <td>-0.046000</td>\n",
       "      <td>-0.055000</td>\n",
       "      <td>-0.087000</td>\n",
       "      <td>1.000000</td>\n",
       "    </tr>\n",
       "    <tr>\n",
       "      <th>25%</th>\n",
       "      <td>8.000000</td>\n",
       "      <td>3.000000</td>\n",
       "      <td>87.000000</td>\n",
       "      <td>13.000000</td>\n",
       "      <td>1.848000</td>\n",
       "      <td>1.848000</td>\n",
       "      <td>1.848000</td>\n",
       "      <td>1.848000</td>\n",
       "      <td>1.848000</td>\n",
       "      <td>1.848000</td>\n",
       "      <td>...</td>\n",
       "      <td>-0.002000</td>\n",
       "      <td>-0.003000</td>\n",
       "      <td>-0.002000</td>\n",
       "      <td>-0.004000</td>\n",
       "      <td>-0.002000</td>\n",
       "      <td>-0.002000</td>\n",
       "      <td>-0.001000</td>\n",
       "      <td>-0.005000</td>\n",
       "      <td>-0.003000</td>\n",
       "      <td>7.500000</td>\n",
       "    </tr>\n",
       "    <tr>\n",
       "      <th>50%</th>\n",
       "      <td>16.000000</td>\n",
       "      <td>7.000000</td>\n",
       "      <td>182.000000</td>\n",
       "      <td>27.000000</td>\n",
       "      <td>1.966000</td>\n",
       "      <td>1.966000</td>\n",
       "      <td>1.966000</td>\n",
       "      <td>1.966000</td>\n",
       "      <td>1.966000</td>\n",
       "      <td>1.966000</td>\n",
       "      <td>...</td>\n",
       "      <td>0.001000</td>\n",
       "      <td>0.000000</td>\n",
       "      <td>0.000000</td>\n",
       "      <td>0.000000</td>\n",
       "      <td>0.000000</td>\n",
       "      <td>0.000000</td>\n",
       "      <td>0.000000</td>\n",
       "      <td>0.000000</td>\n",
       "      <td>0.000000</td>\n",
       "      <td>14.000000</td>\n",
       "    </tr>\n",
       "    <tr>\n",
       "      <th>75%</th>\n",
       "      <td>23.000000</td>\n",
       "      <td>10.000000</td>\n",
       "      <td>276.000000</td>\n",
       "      <td>40.000000</td>\n",
       "      <td>2.080000</td>\n",
       "      <td>2.080000</td>\n",
       "      <td>2.080000</td>\n",
       "      <td>2.080000</td>\n",
       "      <td>2.080000</td>\n",
       "      <td>2.080000</td>\n",
       "      <td>...</td>\n",
       "      <td>0.003000</td>\n",
       "      <td>0.003000</td>\n",
       "      <td>0.002000</td>\n",
       "      <td>0.005000</td>\n",
       "      <td>0.002000</td>\n",
       "      <td>0.003000</td>\n",
       "      <td>0.001000</td>\n",
       "      <td>0.006000</td>\n",
       "      <td>0.004000</td>\n",
       "      <td>20.500000</td>\n",
       "    </tr>\n",
       "    <tr>\n",
       "      <th>max</th>\n",
       "      <td>31.000000</td>\n",
       "      <td>12.000000</td>\n",
       "      <td>365.000000</td>\n",
       "      <td>53.000000</td>\n",
       "      <td>2.523000</td>\n",
       "      <td>2.523000</td>\n",
       "      <td>2.523000</td>\n",
       "      <td>2.523000</td>\n",
       "      <td>2.523000</td>\n",
       "      <td>2.523000</td>\n",
       "      <td>...</td>\n",
       "      <td>0.159000</td>\n",
       "      <td>0.204000</td>\n",
       "      <td>0.173000</td>\n",
       "      <td>0.168000</td>\n",
       "      <td>0.171000</td>\n",
       "      <td>0.160000</td>\n",
       "      <td>0.175000</td>\n",
       "      <td>0.194000</td>\n",
       "      <td>0.200000</td>\n",
       "      <td>27.000000</td>\n",
       "    </tr>\n",
       "  </tbody>\n",
       "</table>\n",
       "<p>8 rows × 97 columns</p>\n",
       "</div>"
      ],
      "text/plain": [
       "               DAY        MONTH  DAY_of_YEAR  WEEK_of_YEAR        LAG_0  \\\n",
       "count  9423.000000  9423.000000  9423.000000   9423.000000  9423.000000   \n",
       "mean     15.659026     6.495702   182.226361     26.595989     1.961861   \n",
       "std       8.805002     3.519777   107.504130     15.402975     0.199176   \n",
       "min       1.000000     1.000000     1.000000      1.000000     1.415000   \n",
       "25%       8.000000     3.000000    87.000000     13.000000     1.848000   \n",
       "50%      16.000000     7.000000   182.000000     27.000000     1.966000   \n",
       "75%      23.000000    10.000000   276.000000     40.000000     2.080000   \n",
       "max      31.000000    12.000000   365.000000     53.000000     2.523000   \n",
       "\n",
       "             LAG_1        LAG_2        LAG_3        LAG_4        LAG_5  \\\n",
       "count  9423.000000  9423.000000  9423.000000  9423.000000  9423.000000   \n",
       "mean      1.961804     1.961748     1.961697     1.961642     1.961584   \n",
       "std       0.199229     0.199265     0.199326     0.199388     0.199453   \n",
       "min       1.415000     1.415000     1.415000     1.415000     1.415000   \n",
       "25%       1.848000     1.848000     1.848000     1.848000     1.848000   \n",
       "50%       1.966000     1.966000     1.966000     1.966000     1.966000   \n",
       "75%       2.080000     2.080000     2.080000     2.080000     2.080000   \n",
       "max       2.523000     2.523000     2.523000     2.523000     2.523000   \n",
       "\n",
       "          ...       RIO DE JANEIRO_DIFF_LAG_1  RIO GRANDE DO NORTE_DIFF_LAG_1  \\\n",
       "count     ...                     9423.000000                     9423.000000   \n",
       "mean      ...                        0.001564                        0.001622   \n",
       "std       ...                        0.014223                        0.018493   \n",
       "min       ...                       -0.042000                       -0.078000   \n",
       "25%       ...                       -0.002000                       -0.003000   \n",
       "50%       ...                        0.001000                        0.000000   \n",
       "75%       ...                        0.003000                        0.003000   \n",
       "max       ...                        0.159000                        0.204000   \n",
       "\n",
       "       RIO GRANDE DO SUL_DIFF_LAG_1  RONDONIA_DIFF_LAG_1  RORAIMA_DIFF_LAG_1  \\\n",
       "count                   9423.000000          9423.000000         9423.000000   \n",
       "mean                       0.001490             0.001410            0.001954   \n",
       "std                        0.016373             0.018034            0.017678   \n",
       "min                       -0.072000            -0.096000           -0.054000   \n",
       "25%                       -0.002000            -0.004000           -0.002000   \n",
       "50%                        0.000000             0.000000            0.000000   \n",
       "75%                        0.002000             0.005000            0.002000   \n",
       "max                        0.173000             0.168000            0.171000   \n",
       "\n",
       "       SANTA CATARINA_DIFF_LAG_1  SAO PAULO_DIFF_LAG_1  SERGIPE_DIFF_LAG_1  \\\n",
       "count                9423.000000           9423.000000         9423.000000   \n",
       "mean                    0.001553              0.001464            0.001688   \n",
       "std                     0.014054              0.014947            0.019442   \n",
       "min                    -0.052000             -0.046000           -0.055000   \n",
       "25%                    -0.002000             -0.001000           -0.005000   \n",
       "50%                     0.000000              0.000000            0.000000   \n",
       "75%                     0.003000              0.001000            0.006000   \n",
       "max                     0.160000              0.175000            0.194000   \n",
       "\n",
       "       TOCANTINS_DIFF_LAG_1      RANKING  \n",
       "count           9423.000000  9423.000000  \n",
       "mean               0.001298    14.000000  \n",
       "std                0.019303     7.758644  \n",
       "min               -0.087000     1.000000  \n",
       "25%               -0.003000     7.500000  \n",
       "50%                0.000000    14.000000  \n",
       "75%                0.004000    20.500000  \n",
       "max                0.200000    27.000000  \n",
       "\n",
       "[8 rows x 97 columns]"
      ]
     },
     "execution_count": 14,
     "metadata": {},
     "output_type": "execute_result"
    }
   ],
   "source": [
    "X_train.describe()"
   ]
  },
  {
   "cell_type": "markdown",
   "metadata": {},
   "source": [
    "**Val set**"
   ]
  },
  {
   "cell_type": "code",
   "execution_count": 15,
   "metadata": {},
   "outputs": [],
   "source": [
    "######## SEASONAL ########\n",
    "df_X_val['DAY'] = diesel_val['DATA FINAL'].dt.day\n",
    "df_X_val['MONTH'] = diesel_val['DATA FINAL'].dt.month\n",
    "df_X_val['DAY_of_YEAR'] = diesel_val['DATA FINAL'].dt.dayofyear\n",
    "df_X_val['WEEK_of_YEAR'] = diesel_val['DATA FINAL'].dt.weekofyear\n",
    "\n",
    "######## LAG (Rezago :P ) ########\n",
    "for i in range(0,12): # 12 new features with lags from 11 weeks ago\n",
    "    df_X_val['LAG_{0}'.format(i)] = diesel_val['PREÇO MÉDIO REVENDA'].shift(i) \n",
    "for i in range(1,12): # 11 new features with lags between current and until 11 weeks ago\n",
    "    df_X_val['DIFF_LAG_{0}'.format(i)] = diesel_val.groupby(['ESTADO'])['PREÇO MÉDIO REVENDA'].diff(i) \n",
    "\n",
    "######## MA (moving average) ########\n",
    "for i in range(2,12): # 9 new features with a moving average calculated from 2 until 11 weeks of rolling\n",
    "    df_X_val['MA_{0}'.format(i)] = diesel_val.groupby(['ESTADO'])['PREÇO MÉDIO REVENDA'].rolling(i).mean().reset_index(level = 0, drop = True)\n",
    "\n",
    "######## From dataset ########\n",
    "df_X_val['DIFF'] = diesel_val['DIFF']\n",
    "\n",
    "######## Categorical ########\n",
    "df_X_val['STATE'] = diesel_val['ESTADO']\n",
    "df_X_val['ZONE'] = diesel_val['REGIÃO']\n",
    "df_X_val = OneHotEnconder.transform(df_X_val) # one hot encoder for Estado and Regiao \n",
    "\n",
    "######## The own time series for each state ########\n",
    "df_X_val['DATA FINAL'] = diesel_val['DATA FINAL']\n",
    "df_X_val['STATE'] = diesel_val['ESTADO']\n",
    "\n",
    "df_pivot = df_X_val.pivot(index = 'DATA FINAL', columns = 'STATE', values = 'DIFF_LAG_1')\n",
    "df_pivot.columns += '_DIFF_LAG_1'\n",
    "df_X_val = pd.merge(df_X_val, df_pivot, on = 'DATA FINAL', how = 'left')\n",
    "\n",
    "######## Ranking ########\n",
    "df_X_val['RANKING'] = df_X_val.groupby('DATA FINAL')['DIFF_LAG_1'].rank()\n",
    "\n",
    "######## DROPPING NAN ########\n",
    "df_X_val = df_X_val.dropna()\n",
    "\n",
    "######## x_val, y_val ########\n",
    "X_val = df_X_val.drop(['DIFF', 'STATE', 'DATA FINAL'], axis = 1)\n",
    "y_val = df_X_val['DIFF']"
   ]
  },
  {
   "cell_type": "markdown",
   "metadata": {},
   "source": [
    "**Test set**"
   ]
  },
  {
   "cell_type": "code",
   "execution_count": 16,
   "metadata": {},
   "outputs": [],
   "source": [
    "######## SEASONAL ########\n",
    "df_X_test['DAY'] = diesel_test['DATA FINAL'].dt.day\n",
    "df_X_test['MONTH'] = diesel_test['DATA FINAL'].dt.month\n",
    "df_X_test['DAY_of_YEAR'] = diesel_test['DATA FINAL'].dt.dayofyear\n",
    "df_X_test['WEEK_of_YEAR'] = diesel_test['DATA FINAL'].dt.weekofyear\n",
    "\n",
    "######## LAG (Rezago :P ) ########\n",
    "for i in range(0,12): # 12 new features with lags from 11 weeks ago\n",
    "    df_X_test['LAG_{0}'.format(i)] = diesel_test['PREÇO MÉDIO REVENDA'].shift(i) \n",
    "for i in range(1,12): # 11 new features with lags between current and until 11 weeks ago\n",
    "    df_X_test['DIFF_LAG_{0}'.format(i)] = diesel_test.groupby(['ESTADO'])['PREÇO MÉDIO REVENDA'].diff(i) \n",
    "\n",
    "######## MA (moving average) ########\n",
    "for i in range(2,12): # 9 new features with a moving average calculated from 2 until 11 weeks of rolling\n",
    "    df_X_test['MA_{0}'.format(i)] = diesel_test.groupby(['ESTADO'])['PREÇO MÉDIO REVENDA'].rolling(i).mean().reset_index(level = 0, drop = True)\n",
    "\n",
    "######## From dataset ########\n",
    "df_X_test['DIFF'] = diesel_test['DIFF']\n",
    "\n",
    "######## Categorical ########\n",
    "df_X_test['STATE'] = diesel_test['ESTADO']\n",
    "df_X_test['ZONE'] = diesel_test['REGIÃO']\n",
    "df_X_test = OneHotEnconder.transform(df_X_test) # one hot encoder for Estado and Regiao \n",
    "\n",
    "######## The own time series for each state ########\n",
    "df_X_test['DATA FINAL'] = diesel_test['DATA FINAL']\n",
    "df_X_test['STATE'] = diesel_test['ESTADO']\n",
    "\n",
    "df_pivot = df_X_test.pivot(index = 'DATA FINAL', columns = 'STATE', values = 'DIFF_LAG_1')\n",
    "df_pivot.columns += '_DIFF_LAG_1'\n",
    "df_X_test = pd.merge(df_X_test, df_pivot, on = 'DATA FINAL', how = 'left')\n",
    "\n",
    "######## Ranking ########\n",
    "df_X_test['RANKING'] = df_X_test.groupby('DATA FINAL')['DIFF_LAG_1'].rank()\n",
    "\n",
    "######## DROPPING NAN ########\n",
    "df_X_test = df_X_test.dropna()\n",
    "\n",
    "######## x_val, y_val ########\n",
    "X_test = df_X_test.drop(['DIFF', 'STATE', 'DATA FINAL'], axis = 1)\n",
    "y_test = df_X_test['DIFF']"
   ]
  },
  {
   "cell_type": "markdown",
   "metadata": {},
   "source": [
    "## Model"
   ]
  },
  {
   "cell_type": "markdown",
   "metadata": {},
   "source": [
    "### Random Forest Regressor"
   ]
  },
  {
   "cell_type": "code",
   "execution_count": 17,
   "metadata": {},
   "outputs": [],
   "source": [
    "from sklearn.ensemble import RandomForestRegressor"
   ]
  },
  {
   "cell_type": "code",
   "execution_count": 55,
   "metadata": {},
   "outputs": [],
   "source": [
    "clf = RandomForestRegressor(n_estimators = 1000, random_state = 21, min_samples_leaf = 128)\n",
    "clf.fit(X_train,y_train)\n",
    "preds = clf.predict(X_val)"
   ]
  },
  {
   "cell_type": "code",
   "execution_count": 56,
   "metadata": {},
   "outputs": [
    {
     "name": "stdout",
     "output_type": "stream",
     "text": [
      "error: 0.6538665888205328\n"
     ]
    }
   ],
   "source": [
    "from sklearn.metrics import mean_squared_log_error\n",
    "\n",
    "error = np.sqrt(mean_squared_log_error(\n",
    "    X_val['LAG_0'] + y_val, X_val['LAG_0'] + preds)) # Root mean squared logarithmic error \n",
    "print('error:', error*100)"
   ]
  },
  {
   "cell_type": "code",
   "execution_count": 57,
   "metadata": {},
   "outputs": [
    {
     "data": {
      "text/plain": [
       "<matplotlib.axes._subplots.AxesSubplot at 0x2b83fec9c88>"
      ]
     },
     "execution_count": 57,
     "metadata": {},
     "output_type": "execute_result"
    },
    {
     "data": {
      "image/png": "[encoded data removed]",
      "text/plain": [
       "<Figure size 432x288 with 1 Axes>"
      ]
     },
     "metadata": {
      "needs_background": "light"
     },
     "output_type": "display_data"
    }
   ],
   "source": [
    "y_val.plot(kind = 'line',alpha = 0.5, legend = True)\n",
    "pd.Series(preds).plot(kind = 'line', alpha = 0.5, legend = True, title = 'Real and predicted values for Diesel prices')"
   ]
  },
  {
   "cell_type": "markdown",
   "metadata": {},
   "source": [
    "### LightGBM"
   ]
  },
  {
   "cell_type": "code",
   "execution_count": 62,
   "metadata": {},
   "outputs": [],
   "source": [
    "from lightgbm import LGBMRegressor as lgbm"
   ]
  },
  {
   "cell_type": "code",
   "execution_count": 74,
   "metadata": {},
   "outputs": [],
   "source": [
    "clf = lgbm(random_state = 21, n_estimators = 100, learning_rate = 0.001, num_leaves = 2**6, subsamples = 0.9 )\n",
    "clf.fit(X_train,y_train)\n",
    "preds = clf.predict(X_val)"
   ]
  },
  {
   "cell_type": "code",
   "execution_count": 75,
   "metadata": {},
   "outputs": [
    {
     "name": "stdout",
     "output_type": "stream",
     "text": [
      "error: 0.6619530835526289\n"
     ]
    }
   ],
   "source": [
    "error = np.sqrt(mean_squared_log_error(\n",
    "    X_val['LAG_0'] + y_val, X_val['LAG_0'] + preds)) # Root mean squared logarithmic error \n",
    "print('error:', error*100)"
   ]
  },
  {
   "cell_type": "code",
   "execution_count": 76,
   "metadata": {},
   "outputs": [
    {
     "data": {
      "text/plain": [
       "<matplotlib.axes._subplots.AxesSubplot at 0x2b841302588>"
      ]
     },
     "execution_count": 76,
     "metadata": {},
     "output_type": "execute_result"
    },
    {
     "data": {
      "image/png": "[encoded data removed]",
      "text/plain": [
       "<Figure size 432x288 with 2 Axes>"
      ]
     },
     "metadata": {
      "needs_background": "light"
     },
     "output_type": "display_data"
    }
   ],
   "source": [
    "y_val.plot(kind = 'line',alpha = 0.5, legend = True)\n",
    "pd.Series(preds).plot(kind = 'line', alpha = 0.5, legend = True, title = 'Real and predicted values for Diesel prices' , secondary_y = True)"
   ]
  },
  {
   "cell_type": "markdown",
   "metadata": {},
   "source": [
    "LightGBM is quicker and more accurate in fitting variances along the time!"
   ]
  },
  {
   "cell_type": "markdown",
   "metadata": {},
   "source": [
    "## Feature selection"
   ]
  },
  {
   "cell_type": "code",
   "execution_count": 104,
   "metadata": {},
   "outputs": [
    {
     "name": "stdout",
     "output_type": "stream",
     "text": [
      "feature: DAY -> error: 0.668\n",
      "feature: MONTH -> error: 0.6678\n",
      "feature: WEEK_of_YEAR -> error: 0.6677\n",
      "feature: DIFF_LAG_1 -> error: 0.6666\n",
      "feature: MINAS GERAIS_DIFF_LAG_1 -> error: 0.6663\n",
      "feature: PARAIBA_DIFF_LAG_1 -> error: 0.6648\n"
     ]
    }
   ],
   "source": [
    "features_list = []\n",
    "accepted_error = 1000\n",
    "for feature in X_train.columns:\n",
    "    clf = lgbm(random_state = 21, n_estimators = 100, learning_rate = 0.001, num_leaves = 2**6, subsamples = 0.9 )\n",
    "    clf.fit(X_train[[feature]], y_train)\n",
    "    preds = clf.predict(X_val[[feature]])\n",
    "    \n",
    "    error = np.sqrt(mean_squared_log_error(X_val['LAG_0'] + y_val, X_val['LAG_0'] + preds))*100\n",
    "    if error <= accepted_error:\n",
    "        features_list.append(feature)\n",
    "        accepted_error = error\n",
    "        \n",
    "        print('feature:', feature, '-> error:',round(error, 4))               "
   ]
  },
  {
   "cell_type": "code",
   "execution_count": 105,
   "metadata": {},
   "outputs": [],
   "source": [
    "clf = lgbm(random_state = 21, n_estimators = 100, learning_rate = 0.001, num_leaves = 2**6, subsamples = 0.9 )\n",
    "clf.fit(X_train[features_list],y_train)\n",
    "preds = clf.predict(X_val[features_list])"
   ]
  },
  {
   "cell_type": "code",
   "execution_count": 106,
   "metadata": {},
   "outputs": [
    {
     "name": "stdout",
     "output_type": "stream",
     "text": [
      "error: 0.6586808111102694\n"
     ]
    }
   ],
   "source": [
    "error = np.sqrt(mean_squared_log_error(\n",
    "    X_val['LAG_0'] + y_val, X_val['LAG_0'] + preds)) # Root mean squared logarithmic error \n",
    "print('error:', error*100)"
   ]
  },
  {
   "cell_type": "code",
   "execution_count": 107,
   "metadata": {},
   "outputs": [
    {
     "data": {
      "text/plain": [
       "<matplotlib.axes._subplots.AxesSubplot at 0x2b843bf3240>"
      ]
     },
     "execution_count": 107,
     "metadata": {},
     "output_type": "execute_result"
    },
    {
     "data": {
      "image/png": "[encoded data removed]",
      "text/plain": [
       "<Figure size 432x288 with 2 Axes>"
      ]
     },
     "metadata": {
      "needs_background": "light"
     },
     "output_type": "display_data"
    }
   ],
   "source": [
    "y_val.plot(kind = 'line',alpha = .5, legend = True)\n",
    "pd.Series(preds).plot(kind = 'line', alpha = .5, legend = True, title = 'Real and predicted values for Diesel prices' , secondary_y = True)"
   ]
  },
  {
   "cell_type": "code",
   "execution_count": 109,
   "metadata": {},
   "outputs": [],
   "source": [
    "from sklearn.model_selection import RandomizedSearchCV"
   ]
  },
  {
   "cell_type": "code",
   "execution_count": null,
   "metadata": {},
   "outputs": [],
   "source": []
  },
  {
   "cell_type": "markdown",
   "metadata": {},
   "source": [
    "## Selecting features V1"
   ]
  },
  {
   "cell_type": "markdown",
   "metadata": {},
   "source": [
    "Let's create a new dataframe with features used to modeling"
   ]
  },
  {
   "cell_type": "code",
   "execution_count": 90,
   "metadata": {},
   "outputs": [],
   "source": [
    "df_X_train = pd.DataFrame(index = diesel_train.index)\n",
    "df_X_val   = pd.DataFrame(index = diesel_val.index)\n",
    "df_X_test  = pd.DataFrame(index = diesel_test.index)"
   ]
  },
  {
   "cell_type": "markdown",
   "metadata": {},
   "source": [
    "**train set**"
   ]
  },
  {
   "cell_type": "code",
   "execution_count": 91,
   "metadata": {},
   "outputs": [],
   "source": [
    "######## SEASONAL ########\n",
    "df_X_train['DAY'] = diesel_train['DATA FINAL'].dt.day\n",
    "df_X_train['MONTH'] = diesel_train['DATA FINAL'].dt.month\n",
    "df_X_train['DAY_of_YEAR'] = diesel_train['DATA FINAL'].dt.dayofyear\n",
    "\n",
    "######## LAG (Rezago :P ) ########\n",
    "df_X_train['LAG'] = diesel_train['PREÇO MÉDIO REVENDA']\n",
    "df_X_train['DIFF_LAG'] = diesel_train.groupby(['ESTADO'])['PREÇO MÉDIO REVENDA'].diff()\n",
    "\n",
    "######## MA (moving average) ########\n",
    "df_X_train['MA'] = diesel_train.groupby(['ESTADO'])['PREÇO MÉDIO REVENDA'].rolling(4).mean().reset_index(level = 0, drop = True)\n",
    "\n",
    "################\n",
    "df_X_train['DIFF'] = diesel_train['DIFF']\n",
    "df_X_train = df_X_train.dropna()\n",
    "\n",
    "X_train = df_X_train.drop(['DIFF'], axis = 1)\n",
    "y_train = df_X_train['DIFF']"
   ]
  },
  {
   "cell_type": "code",
   "execution_count": 93,
   "metadata": {},
   "outputs": [
    {
     "data": {
      "text/html": [
       "<div>\n",
       "<style scoped>\n",
       "    .dataframe tbody tr th:only-of-type {\n",
       "        vertical-align: middle;\n",
       "    }\n",
       "\n",
       "    .dataframe tbody tr th {\n",
       "        vertical-align: top;\n",
       "    }\n",
       "\n",
       "    .dataframe thead th {\n",
       "        text-align: right;\n",
       "    }\n",
       "</style>\n",
       "<table border=\"1\" class=\"dataframe\">\n",
       "  <thead>\n",
       "    <tr style=\"text-align: right;\">\n",
       "      <th></th>\n",
       "      <th>DAY</th>\n",
       "      <th>MONTH</th>\n",
       "      <th>DAY_of_YEAR</th>\n",
       "      <th>LAG</th>\n",
       "      <th>DIFF_LAG</th>\n",
       "      <th>MA</th>\n",
       "    </tr>\n",
       "  </thead>\n",
       "  <tbody>\n",
       "    <tr>\n",
       "      <th>count</th>\n",
       "      <td>9665.000000</td>\n",
       "      <td>9665.000000</td>\n",
       "      <td>9665.000000</td>\n",
       "      <td>9665.000000</td>\n",
       "      <td>9665.000000</td>\n",
       "      <td>9665.000000</td>\n",
       "    </tr>\n",
       "    <tr>\n",
       "      <th>mean</th>\n",
       "      <td>15.612519</td>\n",
       "      <td>6.505225</td>\n",
       "      <td>182.475841</td>\n",
       "      <td>1.951631</td>\n",
       "      <td>0.001822</td>\n",
       "      <td>1.948900</td>\n",
       "    </tr>\n",
       "    <tr>\n",
       "      <th>std</th>\n",
       "      <td>8.784286</td>\n",
       "      <td>3.480967</td>\n",
       "      <td>106.299947</td>\n",
       "      <td>0.208517</td>\n",
       "      <td>0.017622</td>\n",
       "      <td>0.210385</td>\n",
       "    </tr>\n",
       "    <tr>\n",
       "      <th>min</th>\n",
       "      <td>1.000000</td>\n",
       "      <td>1.000000</td>\n",
       "      <td>1.000000</td>\n",
       "      <td>1.313000</td>\n",
       "      <td>-0.177000</td>\n",
       "      <td>1.314000</td>\n",
       "    </tr>\n",
       "    <tr>\n",
       "      <th>25%</th>\n",
       "      <td>8.000000</td>\n",
       "      <td>3.000000</td>\n",
       "      <td>90.000000</td>\n",
       "      <td>1.841000</td>\n",
       "      <td>-0.002000</td>\n",
       "      <td>1.839250</td>\n",
       "    </tr>\n",
       "    <tr>\n",
       "      <th>50%</th>\n",
       "      <td>16.000000</td>\n",
       "      <td>7.000000</td>\n",
       "      <td>182.000000</td>\n",
       "      <td>1.959000</td>\n",
       "      <td>0.000000</td>\n",
       "      <td>1.957000</td>\n",
       "    </tr>\n",
       "    <tr>\n",
       "      <th>75%</th>\n",
       "      <td>23.000000</td>\n",
       "      <td>10.000000</td>\n",
       "      <td>276.000000</td>\n",
       "      <td>2.078000</td>\n",
       "      <td>0.003000</td>\n",
       "      <td>2.077000</td>\n",
       "    </tr>\n",
       "    <tr>\n",
       "      <th>max</th>\n",
       "      <td>31.000000</td>\n",
       "      <td>12.000000</td>\n",
       "      <td>365.000000</td>\n",
       "      <td>2.523000</td>\n",
       "      <td>0.211000</td>\n",
       "      <td>2.520500</td>\n",
       "    </tr>\n",
       "  </tbody>\n",
       "</table>\n",
       "</div>"
      ],
      "text/plain": [
       "               DAY        MONTH  DAY_of_YEAR          LAG     DIFF_LAG  \\\n",
       "count  9665.000000  9665.000000  9665.000000  9665.000000  9665.000000   \n",
       "mean     15.612519     6.505225   182.475841     1.951631     0.001822   \n",
       "std       8.784286     3.480967   106.299947     0.208517     0.017622   \n",
       "min       1.000000     1.000000     1.000000     1.313000    -0.177000   \n",
       "25%       8.000000     3.000000    90.000000     1.841000    -0.002000   \n",
       "50%      16.000000     7.000000   182.000000     1.959000     0.000000   \n",
       "75%      23.000000    10.000000   276.000000     2.078000     0.003000   \n",
       "max      31.000000    12.000000   365.000000     2.523000     0.211000   \n",
       "\n",
       "                MA  \n",
       "count  9665.000000  \n",
       "mean      1.948900  \n",
       "std       0.210385  \n",
       "min       1.314000  \n",
       "25%       1.839250  \n",
       "50%       1.957000  \n",
       "75%       2.077000  \n",
       "max       2.520500  "
      ]
     },
     "execution_count": 93,
     "metadata": {},
     "output_type": "execute_result"
    }
   ],
   "source": [
    "X_train.describe()"
   ]
  },
  {
   "cell_type": "markdown",
   "metadata": {},
   "source": [
    "**val set**"
   ]
  },
  {
   "cell_type": "code",
   "execution_count": 94,
   "metadata": {},
   "outputs": [],
   "source": [
    "####### SEASONAL ########\n",
    "df_X_val['DAY'] = diesel_val['DATA FINAL'].dt.day\n",
    "df_X_val['MONTH'] = diesel_val['DATA FINAL'].dt.month\n",
    "df_X_val['DAY_of_YEAR'] = diesel_val['DATA FINAL'].dt.dayofyear\n",
    "\n",
    "######## LAG (Rezago :P ) ########\n",
    "df_X_val['LAG'] = diesel_val['PREÇO MÉDIO REVENDA']\n",
    "df_X_val['DIFF_LAG'] = diesel_val.groupby(['ESTADO'])['PREÇO MÉDIO REVENDA'].diff()\n",
    "\n",
    "######## MA (moving average) ########\n",
    "df_X_val['MA'] = diesel_val.groupby(['ESTADO'])['PREÇO MÉDIO REVENDA'].rolling(4).mean().reset_index(level = 0, drop = True)\n",
    "\n",
    "################\n",
    "df_X_val['DIFF'] = diesel_val['DIFF']\n",
    "df_X_val = df_X_val.dropna()\n",
    "\n",
    "X_val = df_X_val.drop(['DIFF'], axis = 1)\n",
    "y_val = df_X_val['DIFF']"
   ]
  },
  {
   "cell_type": "markdown",
   "metadata": {},
   "source": [
    "**test set**"
   ]
  },
  {
   "cell_type": "code",
   "execution_count": 95,
   "metadata": {},
   "outputs": [],
   "source": [
    "######## SEASONAL ########\n",
    "df_X_test['DAY'] = diesel_test['DATA FINAL'].dt.day\n",
    "df_X_test['MONTH'] = diesel_test['DATA FINAL'].dt.month\n",
    "df_X_test['DAY_of_YEAR'] = diesel_test['DATA FINAL'].dt.dayofyear\n",
    "\n",
    "######## LAG (Rezago :P ) ########\n",
    "df_X_test['LAG'] = diesel_test['PREÇO MÉDIO REVENDA']\n",
    "df_X_test['DIFF_LAG'] = diesel_test.groupby(['ESTADO'])['PREÇO MÉDIO REVENDA'].diff()\n",
    "\n",
    "######## MA (moving average) ########\n",
    "df_X_test['MA'] = diesel_test.groupby(['ESTADO'])['PREÇO MÉDIO REVENDA'].rolling(4).mean().reset_index(level = 0, drop = True)\n",
    "\n",
    "################\n",
    "df_X_test['DIFF'] = diesel_test['DIFF']\n",
    "df_X_test = df_X_test.dropna()\n",
    "\n",
    "X_test = df_X_test.drop(['DIFF'], axis = 1)\n",
    "y_test = df_X_test['DIFF']"
   ]
  },
  {
   "cell_type": "markdown",
   "metadata": {},
   "source": [
    "## Model"
   ]
  },
  {
   "cell_type": "code",
   "execution_count": 96,
   "metadata": {},
   "outputs": [],
   "source": [
    "from sklearn.ensemble import RandomForestRegressor"
   ]
  },
  {
   "cell_type": "code",
   "execution_count": 97,
   "metadata": {},
   "outputs": [],
   "source": [
    "clf = RandomForestRegressor(n_estimators = 500, random_state = 21)\n",
    "clf.fit(X_train,y_train)\n",
    "preds = clf.predict(X_val)"
   ]
  },
  {
   "cell_type": "code",
   "execution_count": 98,
   "metadata": {},
   "outputs": [
    {
     "name": "stdout",
     "output_type": "stream",
     "text": [
      "error: 0.6855239815574414\n"
     ]
    }
   ],
   "source": [
    "from sklearn.metrics import mean_squared_log_error\n",
    "\n",
    "error = np.sqrt(mean_squared_log_error(\n",
    "    X_val['LAG'] + y_val, X_val['LAG'] + preds)) # Root mean squared logarithmic error \n",
    "print('error:', error*100)"
   ]
  },
  {
   "cell_type": "markdown",
   "metadata": {},
   "source": [
    "## Feature selection"
   ]
  },
  {
   "cell_type": "code",
   "execution_count": 19,
   "metadata": {},
   "outputs": [
    {
     "name": "stdout",
     "output_type": "stream",
     "text": [
      "feature: DAY -> error: 0.6706\n",
      "feature: MONTH -> error: 0.6621\n",
      "feature: DAY_of_YEAR -> error: 0.7716\n",
      "feature: LAG -> error: 0.7493\n",
      "feature: DIFF_LAG -> error: 0.6654\n",
      "feature: MA -> error: 0.6952\n"
     ]
    }
   ],
   "source": [
    "for feature in X_train.columns:\n",
    "    clf = RandomForestRegressor(n_estimators = 500, random_state = 21)\n",
    "    clf.fit(X_train[[feature]], y_train)\n",
    "    preds = clf.predict(X_val[[feature]])\n",
    "    \n",
    "    error = np.sqrt(mean_squared_log_error(X_val['LAG'] + y_val, X_val['LAG'] + preds))*100\n",
    "    print('feature:', feature, '-> error:',round(error, 4))"
   ]
  },
  {
   "cell_type": "code",
   "execution_count": null,
   "metadata": {},
   "outputs": [],
   "source": []
  }
 ],
 "metadata": {
  "kernelspec": {
   "display_name": "Python 3",
   "language": "python",
   "name": "python3"
  },
  "language_info": {
   "codemirror_mode": {
    "name": "ipython",
    "version": 3
   },
   "file_extension": ".py",
   "mimetype": "text/x-python",
   "name": "python",
   "nbconvert_exporter": "python",
   "pygments_lexer": "ipython3",
   "version": "3.7.1"
  },
  "toc": {
   "base_numbering": 1,
   "nav_menu": {},
   "number_sections": true,
   "sideBar": true,
   "skip_h1_title": false,
   "title_cell": "Table of Contents",
   "title_sidebar": "Contents",
   "toc_cell": false,
   "toc_position": {},
   "toc_section_display": true,
   "toc_window_display": false
  },
  "varInspector": {
   "cols": {
    "lenName": 16,
    "lenType": 16,
    "lenVar": 40
   },
   "kernels_config": {
    "python": {
     "delete_cmd_postfix": "",
     "delete_cmd_prefix": "del ",
     "library": "var_list.py",
     "varRefreshCmd": "print(var_dic_list())"
    },
    "r": {
     "delete_cmd_postfix": ") ",
     "delete_cmd_prefix": "rm(",
     "library": "var_list.r",
     "varRefreshCmd": "cat(var_dic_list()) "
    }
   },
   "types_to_exclude": [
    "module",
    "function",
    "builtin_function_or_method",
    "instance",
    "_Feature"
   ],
   "window_display": false
  }
 },
 "nbformat": 4,
 "nbformat_minor": 2
}
