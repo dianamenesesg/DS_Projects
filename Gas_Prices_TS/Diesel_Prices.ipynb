{
 "cells": [
  {
   "cell_type": "markdown",
   "metadata": {},
   "source": [
    "# First things first\n",
    "\n",
    "The National Agency of Petroleum, Natural Gas and Bio fuels (ANP in Portuguese) releases weekly reports of gas, diesel and other fuels prices used in transportation across the country. \n",
    "\n",
    "https://www.kaggle.com/matheusfreitag/gas-prices-in-brazil/data"
   ]
  },
  {
   "cell_type": "code",
   "execution_count": 1,
   "metadata": {},
   "outputs": [],
   "source": [
    "import pandas as pd\n",
    "import numpy as np\n",
    "%matplotlib inline"
   ]
  },
  {
   "cell_type": "code",
   "execution_count": 2,
   "metadata": {},
   "outputs": [
    {
     "data": {
      "text/html": [
       "<div>\n",
       "<style scoped>\n",
       "    .dataframe tbody tr th:only-of-type {\n",
       "        vertical-align: middle;\n",
       "    }\n",
       "\n",
       "    .dataframe tbody tr th {\n",
       "        vertical-align: top;\n",
       "    }\n",
       "\n",
       "    .dataframe thead th {\n",
       "        text-align: right;\n",
       "    }\n",
       "</style>\n",
       "<table border=\"1\" class=\"dataframe\">\n",
       "  <thead>\n",
       "    <tr style=\"text-align: right;\">\n",
       "      <th></th>\n",
       "      <th>DATA INICIAL</th>\n",
       "      <th>DATA FINAL</th>\n",
       "      <th>REGIÃO</th>\n",
       "      <th>ESTADO</th>\n",
       "      <th>PRODUTO</th>\n",
       "      <th>NÚMERO DE POSTOS PESQUISADOS</th>\n",
       "      <th>UNIDADE DE MEDIDA</th>\n",
       "      <th>PREÇO MÉDIO REVENDA</th>\n",
       "      <th>DESVIO PADRÃO REVENDA</th>\n",
       "      <th>PREÇO MÍNIMO REVENDA</th>\n",
       "      <th>PREÇO MÁXIMO REVENDA</th>\n",
       "      <th>MARGEM MÉDIA REVENDA</th>\n",
       "      <th>COEF DE VARIAÇÃO REVENDA</th>\n",
       "      <th>PREÇO MÉDIO DISTRIBUIÇÃO</th>\n",
       "      <th>DESVIO PADRÃO DISTRIBUIÇÃO</th>\n",
       "      <th>PREÇO MÍNIMO DISTRIBUIÇÃO</th>\n",
       "      <th>PREÇO MÁXIMO DISTRIBUIÇÃO</th>\n",
       "      <th>COEF DE VARIAÇÃO DISTRIBUIÇÃO</th>\n",
       "      <th>MÊS</th>\n",
       "      <th>ANO</th>\n",
       "    </tr>\n",
       "  </thead>\n",
       "  <tbody>\n",
       "    <tr>\n",
       "      <th>28933</th>\n",
       "      <td>2007-10-14</td>\n",
       "      <td>2007-10-20</td>\n",
       "      <td>SUL</td>\n",
       "      <td>SANTA CATARINA</td>\n",
       "      <td>GLP</td>\n",
       "      <td>418</td>\n",
       "      <td>R$/13Kg</td>\n",
       "      <td>35.402</td>\n",
       "      <td>1.422</td>\n",
       "      <td>31.000</td>\n",
       "      <td>39.90</td>\n",
       "      <td>6.137</td>\n",
       "      <td>0.040</td>\n",
       "      <td>29.265</td>\n",
       "      <td>2.613</td>\n",
       "      <td>23</td>\n",
       "      <td>34.5</td>\n",
       "      <td>0.089</td>\n",
       "      <td>10</td>\n",
       "      <td>2007</td>\n",
       "    </tr>\n",
       "    <tr>\n",
       "      <th>69267</th>\n",
       "      <td>2014-09-14</td>\n",
       "      <td>2014-09-20</td>\n",
       "      <td>SUDESTE</td>\n",
       "      <td>MINAS GERAIS</td>\n",
       "      <td>GASOLINA COMUM</td>\n",
       "      <td>973</td>\n",
       "      <td>R$/l</td>\n",
       "      <td>2.968</td>\n",
       "      <td>0.127</td>\n",
       "      <td>2.699</td>\n",
       "      <td>3.35</td>\n",
       "      <td>0.375</td>\n",
       "      <td>0.043</td>\n",
       "      <td>2.593</td>\n",
       "      <td>0.054</td>\n",
       "      <td>2.439</td>\n",
       "      <td>2.7479</td>\n",
       "      <td>0.021</td>\n",
       "      <td>9</td>\n",
       "      <td>2014</td>\n",
       "    </tr>\n",
       "    <tr>\n",
       "      <th>100549</th>\n",
       "      <td>2018-09-09</td>\n",
       "      <td>2018-09-15</td>\n",
       "      <td>NORTE</td>\n",
       "      <td>TOCANTINS</td>\n",
       "      <td>ETANOL HIDRATADO</td>\n",
       "      <td>36</td>\n",
       "      <td>R$/l</td>\n",
       "      <td>3.661</td>\n",
       "      <td>0.162</td>\n",
       "      <td>3.399</td>\n",
       "      <td>4.10</td>\n",
       "      <td>0.548</td>\n",
       "      <td>0.044</td>\n",
       "      <td>3.113</td>\n",
       "      <td>0.187</td>\n",
       "      <td>2.6799</td>\n",
       "      <td>3.2982</td>\n",
       "      <td>0.06</td>\n",
       "      <td>9</td>\n",
       "      <td>2018</td>\n",
       "    </tr>\n",
       "  </tbody>\n",
       "</table>\n",
       "</div>"
      ],
      "text/plain": [
       "       DATA INICIAL  DATA FINAL   REGIÃO          ESTADO           PRODUTO  \\\n",
       "28933    2007-10-14  2007-10-20      SUL  SANTA CATARINA               GLP   \n",
       "69267    2014-09-14  2014-09-20  SUDESTE    MINAS GERAIS    GASOLINA COMUM   \n",
       "100549   2018-09-09  2018-09-15    NORTE       TOCANTINS  ETANOL HIDRATADO   \n",
       "\n",
       "        NÚMERO DE POSTOS PESQUISADOS UNIDADE DE MEDIDA  PREÇO MÉDIO REVENDA  \\\n",
       "28933                            418           R$/13Kg               35.402   \n",
       "69267                            973              R$/l                2.968   \n",
       "100549                            36              R$/l                3.661   \n",
       "\n",
       "        DESVIO PADRÃO REVENDA  PREÇO MÍNIMO REVENDA  PREÇO MÁXIMO REVENDA  \\\n",
       "28933                   1.422                31.000                 39.90   \n",
       "69267                   0.127                 2.699                  3.35   \n",
       "100549                  0.162                 3.399                  4.10   \n",
       "\n",
       "       MARGEM MÉDIA REVENDA  COEF DE VARIAÇÃO REVENDA  \\\n",
       "28933                 6.137                     0.040   \n",
       "69267                 0.375                     0.043   \n",
       "100549                0.548                     0.044   \n",
       "\n",
       "       PREÇO MÉDIO DISTRIBUIÇÃO DESVIO PADRÃO DISTRIBUIÇÃO  \\\n",
       "28933                    29.265                      2.613   \n",
       "69267                     2.593                      0.054   \n",
       "100549                    3.113                      0.187   \n",
       "\n",
       "       PREÇO MÍNIMO DISTRIBUIÇÃO PREÇO MÁXIMO DISTRIBUIÇÃO  \\\n",
       "28933                         23                      34.5   \n",
       "69267                      2.439                    2.7479   \n",
       "100549                    2.6799                    3.2982   \n",
       "\n",
       "       COEF DE VARIAÇÃO DISTRIBUIÇÃO  MÊS   ANO  \n",
       "28933                          0.089   10  2007  \n",
       "69267                          0.021    9  2014  \n",
       "100549                          0.06    9  2018  "
      ]
     },
     "execution_count": 2,
     "metadata": {},
     "output_type": "execute_result"
    }
   ],
   "source": [
    "data = pd.read_csv('2004-2019.tsv', sep = '\\t', index_col = 0)\n",
    "data.sample(3) # Let's take a look"
   ]
  },
  {
   "cell_type": "markdown",
   "metadata": {},
   "source": [
    "## Diesel prices modeling"
   ]
  },
  {
   "cell_type": "code",
   "execution_count": 3,
   "metadata": {},
   "outputs": [],
   "source": [
    "diesel = data[data.PRODUTO == 'ÓLEO DIESEL'].copy()"
   ]
  },
  {
   "cell_type": "markdown",
   "metadata": {},
   "source": [
    "formating date columns (weekly instances from data.info())"
   ]
  },
  {
   "cell_type": "code",
   "execution_count": 4,
   "metadata": {},
   "outputs": [],
   "source": [
    "diesel['DATA INICIAL'] = pd.to_datetime(diesel['DATA INICIAL']) # Date columns are str instead of DateTime\n",
    "diesel['DATA FINAL'] = pd.to_datetime(diesel['DATA FINAL']) # Date columns are str instead of DateTime"
   ]
  },
  {
   "cell_type": "markdown",
   "metadata": {},
   "source": [
    "Dataset splits"
   ]
  },
  {
   "cell_type": "code",
   "execution_count": 5,
   "metadata": {},
   "outputs": [
    {
     "data": {
      "text/plain": [
       "((9773, 20), (9315, 20), (1593, 20))"
      ]
     },
     "execution_count": 5,
     "metadata": {},
     "output_type": "execute_result"
    }
   ],
   "source": [
    "diesel_train = diesel[diesel['DATA FINAL'] < '2011-05-15'] # 7 years \n",
    "diesel_val   = diesel[(diesel['DATA FINAL'] >= '2011-05-15') & (diesel['DATA FINAL'] < '2018-01-01')] # 7 years\n",
    "diesel_test  = diesel[diesel['DATA FINAL'] >= '2018-05-15'] # 1 year\n",
    "diesel_train.shape, diesel_val.shape, diesel_test.shape "
   ]
  },
  {
   "cell_type": "markdown",
   "metadata": {},
   "source": [
    "**Target definition**"
   ]
  },
  {
   "cell_type": "code",
   "execution_count": 6,
   "metadata": {},
   "outputs": [],
   "source": [
    "y_train = diesel_train['PREÇO MÉDIO REVENDA']\n",
    "y_val   = diesel_val['PREÇO MÉDIO REVENDA']\n",
    "y_test  = diesel_test['PREÇO MÉDIO REVENDA']"
   ]
  },
  {
   "cell_type": "markdown",
   "metadata": {},
   "source": [
    "Mini exploration"
   ]
  },
  {
   "cell_type": "code",
   "execution_count": 7,
   "metadata": {},
   "outputs": [
    {
     "data": {
      "text/plain": [
       "<matplotlib.axes._subplots.AxesSubplot at 0x279a7afe898>"
      ]
     },
     "execution_count": 7,
     "metadata": {},
     "output_type": "execute_result"
    },
    {
     "data": {
      "image/png": "[encoded data removed]",
      "text/plain": [
       "<Figure size 432x288 with 1 Axes>"
      ]
     },
     "metadata": {
      "needs_background": "light"
     },
     "output_type": "display_data"
    }
   ],
   "source": [
    "diesel_train.plot(x = 'DATA FINAL', y = 'PREÇO MÉDIO REVENDA') # The target is not stationary!!!! "
   ]
  },
  {
   "cell_type": "markdown",
   "metadata": {},
   "source": [
    "After seeing both variance and mean changing through time, let's created the variable current_price - future_price and examine its plot"
   ]
  },
  {
   "cell_type": "code",
   "execution_count": 8,
   "metadata": {},
   "outputs": [],
   "source": [
    "def target_diff(x):\n",
    "    \"\"\" Compute the difference between two consecutives rows in a serie \"\"\"\n",
    "    x = x.diff() # First discrete difference for a Serie\n",
    "    x = x.shift(-1) # shifting its result at the same level (leaving last element as nan)\n",
    "    return x"
   ]
  },
  {
   "cell_type": "code",
   "execution_count": 9,
   "metadata": {},
   "outputs": [
    {
     "name": "stderr",
     "output_type": "stream",
     "text": [
      "C:\\Users\\vipac\\Anaconda3\\lib\\site-packages\\ipykernel_launcher.py:1: SettingWithCopyWarning: \n",
      "A value is trying to be set on a copy of a slice from a DataFrame.\n",
      "Try using .loc[row_indexer,col_indexer] = value instead\n",
      "\n",
      "See the caveats in the documentation: http://pandas.pydata.org/pandas-docs/stable/indexing.html#indexing-view-versus-copy\n",
      "  \"\"\"Entry point for launching an IPython kernel.\n",
      "C:\\Users\\vipac\\Anaconda3\\lib\\site-packages\\ipykernel_launcher.py:2: SettingWithCopyWarning: \n",
      "A value is trying to be set on a copy of a slice from a DataFrame.\n",
      "Try using .loc[row_indexer,col_indexer] = value instead\n",
      "\n",
      "See the caveats in the documentation: http://pandas.pydata.org/pandas-docs/stable/indexing.html#indexing-view-versus-copy\n",
      "  \n",
      "C:\\Users\\vipac\\Anaconda3\\lib\\site-packages\\ipykernel_launcher.py:3: SettingWithCopyWarning: \n",
      "A value is trying to be set on a copy of a slice from a DataFrame.\n",
      "Try using .loc[row_indexer,col_indexer] = value instead\n",
      "\n",
      "See the caveats in the documentation: http://pandas.pydata.org/pandas-docs/stable/indexing.html#indexing-view-versus-copy\n",
      "  This is separate from the ipykernel package so we can avoid doing imports until\n"
     ]
    }
   ],
   "source": [
    "diesel_train['DIFF'] = diesel_train.groupby(['ESTADO'])['PREÇO MÉDIO REVENDA'].apply(target_diff)\n",
    "diesel_val['DIFF']   = diesel_val.groupby(['ESTADO'])['PREÇO MÉDIO REVENDA'].apply(target_diff)\n",
    "diesel_test['DIFF']  = diesel_test.groupby(['ESTADO'])['PREÇO MÉDIO REVENDA'].apply(target_diff)"
   ]
  },
  {
   "cell_type": "code",
   "execution_count": 10,
   "metadata": {},
   "outputs": [
    {
     "data": {
      "text/plain": [
       "<matplotlib.axes._subplots.AxesSubplot at 0x279a7459b70>"
      ]
     },
     "execution_count": 10,
     "metadata": {},
     "output_type": "execute_result"
    },
    {
     "data": {
      "image/png": "[encoded data removed]",
      "text/plain": [
       "<Figure size 432x288 with 1 Axes>"
      ]
     },
     "metadata": {
      "needs_background": "light"
     },
     "output_type": "display_data"
    }
   ],
   "source": [
    "diesel_train.plot(x = 'DATA FINAL', y = 'DIFF') # these behaviors are better for Time Series"
   ]
  },
  {
   "cell_type": "markdown",
   "metadata": {},
   "source": [
    "## Selecting features"
   ]
  },
  {
   "cell_type": "markdown",
   "metadata": {},
   "source": [
    "Let's create a new dataframe with features used to modeling"
   ]
  },
  {
   "cell_type": "code",
   "execution_count": 11,
   "metadata": {},
   "outputs": [],
   "source": [
    "df_X_train = pd.DataFrame(index = diesel_train.index)\n",
    "df_X_val   = pd.DataFrame(index = diesel_val.index)\n",
    "df_X_test  = pd.DataFrame(index = diesel_test.index)"
   ]
  },
  {
   "cell_type": "markdown",
   "metadata": {},
   "source": [
    "**Train set**"
   ]
  },
  {
   "cell_type": "code",
   "execution_count": 12,
   "metadata": {},
   "outputs": [],
   "source": [
    "######## SEASONAL ########\n",
    "df_X_train['DAY'] = diesel_train['DATA FINAL'].dt.day\n",
    "df_X_train['MONTH'] = diesel_train['DATA FINAL'].dt.month\n",
    "df_X_train['DAY_of_YEAR'] = diesel_train['DATA FINAL'].dt.dayofyear\n",
    "\n",
    "######## LAG (Rezago :P ) ########\n",
    "df_X_train['LAG'] = diesel_train['PREÇO MÉDIO REVENDA']\n",
    "df_X_train['DIFF_LAG'] = diesel_train.groupby(['ESTADO'])['PREÇO MÉDIO REVENDA'].diff()\n",
    "\n",
    "######## MA (moving average) ########\n",
    "df_X_train['MA'] = diesel_train.groupby(['ESTADO'])['PREÇO MÉDIO REVENDA'].rolling(4).mean().reset_index(level = 0, drop = True)\n",
    "\n",
    "################\n",
    "df_X_train['DIFF'] = diesel_train['DIFF']\n",
    "df_X_train = df_X_train.dropna()\n",
    "\n",
    "X_train = df_X_train.drop(['DIFF'], axis = 1)\n",
    "y_train = df_X_train['DIFF']"
   ]
  },
  {
   "cell_type": "code",
   "execution_count": 13,
   "metadata": {},
   "outputs": [
    {
     "data": {
      "text/html": [
       "<div>\n",
       "<style scoped>\n",
       "    .dataframe tbody tr th:only-of-type {\n",
       "        vertical-align: middle;\n",
       "    }\n",
       "\n",
       "    .dataframe tbody tr th {\n",
       "        vertical-align: top;\n",
       "    }\n",
       "\n",
       "    .dataframe thead th {\n",
       "        text-align: right;\n",
       "    }\n",
       "</style>\n",
       "<table border=\"1\" class=\"dataframe\">\n",
       "  <thead>\n",
       "    <tr style=\"text-align: right;\">\n",
       "      <th></th>\n",
       "      <th>DAY</th>\n",
       "      <th>MONTH</th>\n",
       "      <th>DAY_of_YEAR</th>\n",
       "      <th>LAG</th>\n",
       "      <th>DIFF_LAG</th>\n",
       "      <th>MA</th>\n",
       "    </tr>\n",
       "  </thead>\n",
       "  <tbody>\n",
       "    <tr>\n",
       "      <th>count</th>\n",
       "      <td>9665.000000</td>\n",
       "      <td>9665.000000</td>\n",
       "      <td>9665.000000</td>\n",
       "      <td>9665.000000</td>\n",
       "      <td>9665.000000</td>\n",
       "      <td>9665.000000</td>\n",
       "    </tr>\n",
       "    <tr>\n",
       "      <th>mean</th>\n",
       "      <td>15.612519</td>\n",
       "      <td>6.505225</td>\n",
       "      <td>182.475841</td>\n",
       "      <td>1.951631</td>\n",
       "      <td>0.001822</td>\n",
       "      <td>1.948900</td>\n",
       "    </tr>\n",
       "    <tr>\n",
       "      <th>std</th>\n",
       "      <td>8.784286</td>\n",
       "      <td>3.480967</td>\n",
       "      <td>106.299947</td>\n",
       "      <td>0.208517</td>\n",
       "      <td>0.017622</td>\n",
       "      <td>0.210385</td>\n",
       "    </tr>\n",
       "    <tr>\n",
       "      <th>min</th>\n",
       "      <td>1.000000</td>\n",
       "      <td>1.000000</td>\n",
       "      <td>1.000000</td>\n",
       "      <td>1.313000</td>\n",
       "      <td>-0.177000</td>\n",
       "      <td>1.314000</td>\n",
       "    </tr>\n",
       "    <tr>\n",
       "      <th>25%</th>\n",
       "      <td>8.000000</td>\n",
       "      <td>3.000000</td>\n",
       "      <td>90.000000</td>\n",
       "      <td>1.841000</td>\n",
       "      <td>-0.002000</td>\n",
       "      <td>1.839250</td>\n",
       "    </tr>\n",
       "    <tr>\n",
       "      <th>50%</th>\n",
       "      <td>16.000000</td>\n",
       "      <td>7.000000</td>\n",
       "      <td>182.000000</td>\n",
       "      <td>1.959000</td>\n",
       "      <td>0.000000</td>\n",
       "      <td>1.957000</td>\n",
       "    </tr>\n",
       "    <tr>\n",
       "      <th>75%</th>\n",
       "      <td>23.000000</td>\n",
       "      <td>10.000000</td>\n",
       "      <td>276.000000</td>\n",
       "      <td>2.078000</td>\n",
       "      <td>0.003000</td>\n",
       "      <td>2.077000</td>\n",
       "    </tr>\n",
       "    <tr>\n",
       "      <th>max</th>\n",
       "      <td>31.000000</td>\n",
       "      <td>12.000000</td>\n",
       "      <td>365.000000</td>\n",
       "      <td>2.523000</td>\n",
       "      <td>0.211000</td>\n",
       "      <td>2.520500</td>\n",
       "    </tr>\n",
       "  </tbody>\n",
       "</table>\n",
       "</div>"
      ],
      "text/plain": [
       "               DAY        MONTH  DAY_of_YEAR          LAG     DIFF_LAG  \\\n",
       "count  9665.000000  9665.000000  9665.000000  9665.000000  9665.000000   \n",
       "mean     15.612519     6.505225   182.475841     1.951631     0.001822   \n",
       "std       8.784286     3.480967   106.299947     0.208517     0.017622   \n",
       "min       1.000000     1.000000     1.000000     1.313000    -0.177000   \n",
       "25%       8.000000     3.000000    90.000000     1.841000    -0.002000   \n",
       "50%      16.000000     7.000000   182.000000     1.959000     0.000000   \n",
       "75%      23.000000    10.000000   276.000000     2.078000     0.003000   \n",
       "max      31.000000    12.000000   365.000000     2.523000     0.211000   \n",
       "\n",
       "                MA  \n",
       "count  9665.000000  \n",
       "mean      1.948900  \n",
       "std       0.210385  \n",
       "min       1.314000  \n",
       "25%       1.839250  \n",
       "50%       1.957000  \n",
       "75%       2.077000  \n",
       "max       2.520500  "
      ]
     },
     "execution_count": 13,
     "metadata": {},
     "output_type": "execute_result"
    }
   ],
   "source": [
    "X_train.describe()"
   ]
  },
  {
   "cell_type": "markdown",
   "metadata": {},
   "source": [
    "**Val set**"
   ]
  },
  {
   "cell_type": "code",
   "execution_count": 14,
   "metadata": {},
   "outputs": [],
   "source": [
    "######## SEASONAL ########\n",
    "df_X_val['DAY'] = diesel_val['DATA FINAL'].dt.day\n",
    "df_X_val['MONTH'] = diesel_val['DATA FINAL'].dt.month\n",
    "df_X_val['DAY_of_YEAR'] = diesel_val['DATA FINAL'].dt.dayofyear\n",
    "\n",
    "######## LAG (Rezago :P ) ########\n",
    "df_X_val['LAG'] = diesel_val['PREÇO MÉDIO REVENDA']\n",
    "df_X_val['DIFF_LAG'] = diesel_val.groupby(['ESTADO'])['PREÇO MÉDIO REVENDA'].diff()\n",
    "\n",
    "######## MA (moving average) ########\n",
    "df_X_val['MA'] = diesel_val.groupby(['ESTADO'])['PREÇO MÉDIO REVENDA'].rolling(4).mean().reset_index(level = 0, drop = True)\n",
    "\n",
    "################\n",
    "df_X_val['DIFF'] = diesel_val['DIFF']\n",
    "df_X_val = df_X_val.dropna()\n",
    "\n",
    "X_val = df_X_val.drop(['DIFF'], axis = 1)\n",
    "y_val = df_X_val['DIFF']"
   ]
  },
  {
   "cell_type": "markdown",
   "metadata": {},
   "source": [
    "**Test set**"
   ]
  },
  {
   "cell_type": "code",
   "execution_count": 15,
   "metadata": {},
   "outputs": [],
   "source": [
    "######## SEASONAL ########\n",
    "df_X_test['DAY'] = diesel_test['DATA FINAL'].dt.day\n",
    "df_X_test['MONTH'] = diesel_test['DATA FINAL'].dt.month\n",
    "df_X_test['DAY_of_YEAR'] = diesel_test['DATA FINAL'].dt.dayofyear\n",
    "\n",
    "######## LAG (Rezago :P ) ########\n",
    "df_X_test['LAG'] = diesel_test['PREÇO MÉDIO REVENDA']\n",
    "df_X_test['DIFF_LAG'] = diesel_test.groupby(['ESTADO'])['PREÇO MÉDIO REVENDA'].diff()\n",
    "\n",
    "######## MA (moving average) ########\n",
    "df_X_test['MA'] = diesel_test.groupby(['ESTADO'])['PREÇO MÉDIO REVENDA'].rolling(4).mean().reset_index(level = 0, drop = True)\n",
    "\n",
    "################\n",
    "df_X_test['DIFF'] = diesel_test['DIFF']\n",
    "df_X_test = df_X_test.dropna()\n",
    "\n",
    "X_test = df_X_test.drop(['DIFF'], axis = 1)\n",
    "y_test = df_X_test['DIFF']"
   ]
  },
  {
   "cell_type": "markdown",
   "metadata": {},
   "source": [
    "## Model"
   ]
  },
  {
   "cell_type": "code",
   "execution_count": 16,
   "metadata": {},
   "outputs": [],
   "source": [
    "from sklearn.ensemble import RandomForestRegressor"
   ]
  },
  {
   "cell_type": "code",
   "execution_count": 17,
   "metadata": {},
   "outputs": [],
   "source": [
    "clf = RandomForestRegressor(n_estimators = 500, random_state = 21)\n",
    "clf.fit(X_train,y_train)\n",
    "preds = clf.predict(X_val)"
   ]
  },
  {
   "cell_type": "code",
   "execution_count": 18,
   "metadata": {},
   "outputs": [
    {
     "name": "stdout",
     "output_type": "stream",
     "text": [
      "error: 0.6855239815574414\n"
     ]
    }
   ],
   "source": [
    "from sklearn.metrics import mean_squared_log_error\n",
    "\n",
    "error = np.sqrt(mean_squared_log_error(\n",
    "    X_val['LAG'] + y_val, X_val['LAG'] + preds)) # Root mean squared logarithmic error \n",
    "print('error:', error*100)"
   ]
  },
  {
   "cell_type": "markdown",
   "metadata": {},
   "source": [
    "## Feature selection"
   ]
  },
  {
   "cell_type": "code",
   "execution_count": 19,
   "metadata": {},
   "outputs": [
    {
     "name": "stdout",
     "output_type": "stream",
     "text": [
      "feature: DAY -> error: 0.6706\n",
      "feature: MONTH -> error: 0.6621\n",
      "feature: DAY_of_YEAR -> error: 0.7716\n",
      "feature: LAG -> error: 0.7493\n",
      "feature: DIFF_LAG -> error: 0.6654\n",
      "feature: MA -> error: 0.6952\n"
     ]
    }
   ],
   "source": [
    "for feature in X_train.columns:\n",
    "    clf = RandomForestRegressor(n_estimators = 500, random_state = 21)\n",
    "    clf.fit(X_train[[feature]], y_train)\n",
    "    preds = clf.predict(X_val[[feature]])\n",
    "    \n",
    "    error = np.sqrt(mean_squared_log_error(X_val['LAG'] + y_val, X_val['LAG'] + preds))*100\n",
    "    print('feature:', feature, '-> error:',round(error, 4))"
   ]
  },
  {
   "cell_type": "code",
   "execution_count": null,
   "metadata": {},
   "outputs": [],
   "source": []
  }
 ],
 "metadata": {
  "kernelspec": {
   "display_name": "Python 3",
   "language": "python",
   "name": "python3"
  },
  "language_info": {
   "codemirror_mode": {
    "name": "ipython",
    "version": 3
   },
   "file_extension": ".py",
   "mimetype": "text/x-python",
   "name": "python",
   "nbconvert_exporter": "python",
   "pygments_lexer": "ipython3",
   "version": "3.7.1"
  },
  "toc": {
   "base_numbering": 1,
   "nav_menu": {},
   "number_sections": true,
   "sideBar": true,
   "skip_h1_title": false,
   "title_cell": "Table of Contents",
   "title_sidebar": "Contents",
   "toc_cell": false,
   "toc_position": {},
   "toc_section_display": true,
   "toc_window_display": false
  },
  "varInspector": {
   "cols": {
    "lenName": 16,
    "lenType": 16,
    "lenVar": 40
   },
   "kernels_config": {
    "python": {
     "delete_cmd_postfix": "",
     "delete_cmd_prefix": "del ",
     "library": "var_list.py",
     "varRefreshCmd": "print(var_dic_list())"
    },
    "r": {
     "delete_cmd_postfix": ") ",
     "delete_cmd_prefix": "rm(",
     "library": "var_list.r",
     "varRefreshCmd": "cat(var_dic_list()) "
    }
   },
   "types_to_exclude": [
    "module",
    "function",
    "builtin_function_or_method",
    "instance",
    "_Feature"
   ],
   "window_display": false
  }
 },
 "nbformat": 4,
 "nbformat_minor": 2
}
