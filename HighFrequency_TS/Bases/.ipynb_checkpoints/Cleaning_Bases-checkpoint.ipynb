{
 "cells": [
  {
   "cell_type": "code",
   "execution_count": 1,
   "metadata": {},
   "outputs": [],
   "source": [
    "import sys\n",
    "import warnings\n",
    "\n",
    "if not sys.warnoptions:\n",
    "    warnings.simplefilter(\"ignore\")"
   ]
  },
  {
   "cell_type": "code",
   "execution_count": 2,
   "metadata": {},
   "outputs": [],
   "source": [
    "# Data manipulation\n",
    "import numpy as np\n",
    "import pandas as pd\n",
    "import datetime\n",
    "\n",
    "# Plotting\n",
    "import matplotlib.pyplot as plt\n",
    "import seaborn\n",
    "import matplotlib.mlab as mlab\n",
    "\n",
    "# Statistical manipulation\n",
    "from scipy.stats import norm\n",
    "\n",
    "# Tabulate data\n",
    "from tabulate import tabulate\n",
    "\n",
    "df_cpa = pd.read_csv(\"C:\\\\Users\\\\vipac\\\\Desktop\\\\ITAU\\\\ValueAtRisk\\\\Bases\\\\OFER_CPA_20180731.txt\", \n",
    "                     sep=\";\",low_memory=False,header=1)"
   ]
  },
  {
   "cell_type": "code",
   "execution_count": 3,
   "metadata": {},
   "outputs": [],
   "source": [
    "df_cpa.columns = ['Data_Sessão',\n",
    "'Símbolo_do_Instrumento',\n",
    "'Sentido_Of_Compra',\n",
    "'Sequência',\n",
    "'GenerationID_Of_Compra',\n",
    "'Cód_do_Evento_da_Of_Compra',\n",
    "'Hora_Prioridade',\n",
    "'Ind_de_Prioridade_Of_Compra',\n",
    "'Preço_Of_Compra',\n",
    "'Qtd_Total_Of_Compra',\n",
    "'Qtd_Negociada_Of_Compra',\n",
    "'Data_Oferta_Compra',\n",
    "'Data_de_Entrada_Of_Compra',\n",
    "'Estado_Of_Compra',\n",
    "'Condição_Oferta',\n",
    "'Corretora']"
   ]
  },
  {
   "cell_type": "code",
   "execution_count": 5,
   "metadata": {},
   "outputs": [],
   "source": [
    "list = ['SUZB3                                             ',\n",
    "'MGLU3                                             ',\n",
    "'FIBR3                                             ',\n",
    "'BTOW3                                             ',\n",
    "'VALE3                                             ',\n",
    "'BRKM5                                             ',\n",
    "'EMBR3                                             ',\n",
    "'PETR4                                             ',\n",
    "'CPFE3                                             ',\n",
    "'KLBN4                                             ',\n",
    "'BRFS3                                             ',\n",
    "'KROT3                                             ',\n",
    "'ELET6                                             ',\n",
    "'QUAL3                                             ',\n",
    "'UGPA3                                             ',\n",
    "'ECOR3                                             ',\n",
    "'ELET3                                             ',\n",
    "'CCRO3                                             ',\n",
    "'SBSP3                                             ',\n",
    "'GOLL4                                             ']"
   ]
  },
  {
   "cell_type": "code",
   "execution_count": 6,
   "metadata": {},
   "outputs": [],
   "source": [
    "df_cpa = df_cpa[df_cpa[\"Símbolo_do_Instrumento\"].isin(list)] # elimina assets no estudiados\n",
    "\n",
    "df_cpa.drop(['Data_Sessão',\n",
    "\n",
    "'Sentido_Of_Compra',\n",
    "'Sequência',\n",
    "'GenerationID_Of_Compra',\n",
    "'Cód_do_Evento_da_Of_Compra',\n",
    "\n",
    "'Ind_de_Prioridade_Of_Compra',\n",
    "\n",
    "'Qtd_Total_Of_Compra',\n",
    "'Qtd_Negociada_Of_Compra',\n",
    "'Data_Oferta_Compra',\n",
    "'Data_de_Entrada_Of_Compra',\n",
    "'Estado_Of_Compra',\n",
    "'Condição_Oferta',\n",
    "'Corretora'],inplace = True, axis = 1)"
   ]
  },
  {
   "cell_type": "code",
   "execution_count": null,
   "metadata": {},
   "outputs": [],
   "source": [
    "df_cpa.to_csv(\"C:\\\\Users\\\\vipac\\\\Desktop\\\\ITAU\\\\ValueAtRisk\\\\Bases\\\\CPA\\\\OFER_CPA_20180731.csv\", \n",
    "              index=False)\n",
    "df_vda.to_csv(\"C:\\\\Users\\\\vipac\\\\Desktop\\\\ITAU\\\\ValueAtRisk\\\\Bases\\\\VDA\\\\OFER_VDA_20180731.csv\", \n",
    "              #index=False)"
   ]
  },
  {
   "cell_type": "code",
   "execution_count": null,
   "metadata": {},
   "outputs": [],
   "source": []
  }
 ],
 "metadata": {
  "kernelspec": {
   "display_name": "Python 3",
   "language": "python",
   "name": "python3"
  },
  "language_info": {
   "codemirror_mode": {
    "name": "ipython",
    "version": 3
   },
   "file_extension": ".py",
   "mimetype": "text/x-python",
   "name": "python",
   "nbconvert_exporter": "python",
   "pygments_lexer": "ipython3",
   "version": "3.6.5"
  }
 },
 "nbformat": 4,
 "nbformat_minor": 2
}
