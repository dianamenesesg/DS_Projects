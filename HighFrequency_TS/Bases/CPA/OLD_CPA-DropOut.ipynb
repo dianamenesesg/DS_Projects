{
 "cells": [
  {
   "cell_type": "code",
   "execution_count": 1,
   "metadata": {},
   "outputs": [],
   "source": [
    "import sys\n",
    "import warnings\n",
    "\n",
    "if not sys.warnoptions:\n",
    "    warnings.simplefilter(\"ignore\")"
   ]
  },
  {
   "cell_type": "code",
   "execution_count": 1,
   "metadata": {},
   "outputs": [],
   "source": [
    "# Data manipulation\n",
    "import numpy as np\n",
    "import pandas as pd\n",
    "#import datetime\n",
    "from scipy.stats import kurtosis\n",
    "from scipy.stats import skew\n",
    "from scipy.stats import jarque_bera\n",
    "from scipy.stats import t\n",
    "\n",
    "# Plotting\n",
    "import matplotlib.pyplot as plt\n",
    "import seaborn\n",
    "import matplotlib.mlab as mlab\n",
    "\n",
    "# Statistical manipulation\n",
    "from scipy.stats import norm\n",
    "\n",
    "# Tabulate data\n",
    "from tabulate import tabulate\n",
    "#df_vda = pd.read_csv(\"C:\\\\Users\\\\vipac\\\\Desktop\\\\ITAU\\\\ValueAtRisk\\\\Bases\\\\VDA\\\\OFER_VDA_20180731.csv\")"
   ]
  },
  {
   "cell_type": "code",
   "execution_count": null,
   "metadata": {},
   "outputs": [],
   "source": [
    "df_cpa = pd.DataFrame()\n",
    "\n",
    "period = [(7,11),(7,13),(7,20),(7,25),(7,31), (7, 6), (7, 13), \n",
    "          (8,22),(8,28),(8,10),(8,14),(8,16),(8,21),(8,31),(8,7), \n",
    "          (9,6),(9,21),(9,5), (9,11),(9,14),(9,24),(9,27),\n",
    "          #(10,26),(10,22),(10,5),(10,16),(10,29),(10,30),(10,8), \n",
    "          (11,22),(11,14),(11,16)]\n",
    "for per in period:\n",
    "    mth, day = per\n",
    "    load_path = \"C:\\\\Users\\\\vipac\\\\Desktop\\\\ITAU\\\\ValueAtRisk\\\\Bases\\\\CPA\\\\OFER_CPA_2018{}{}.txt\".format(str(mth).zfill(2), str(day).zfill(2))\n",
    "    print(load_path)\n",
    "    df_temp = pd.read_csv(load_path)\n",
    "    df_cpa = pd.concat([df_cpa, df_temp])"
   ]
  },
  {
   "cell_type": "code",
   "execution_count": 2,
   "metadata": {},
   "outputs": [],
   "source": [
    "# Load\n",
    "df_cpa1 = pd.read_csv(\"C:\\\\Users\\\\vipac\\\\Desktop\\\\ITAU\\\\ValueAtRisk\\\\Bases\\\\CPA\\\\OFER_CPA_20180706.csv\")\n",
    "df_cpa2 = pd.read_csv(\"C:\\\\Users\\\\vipac\\\\Desktop\\\\ITAU\\\\ValueAtRisk\\\\Bases\\\\CPA\\\\OFER_CPA_20180713.csv\")\n",
    "df_cpa3 = pd.read_csv(\"C:\\\\Users\\\\vipac\\\\Desktop\\\\ITAU\\\\ValueAtRisk\\\\Bases\\\\CPA\\\\OFER_CPA_20180731.csv\")\n",
    "df_cpa4 = pd.read_csv(\"C:\\\\Users\\\\vipac\\\\Desktop\\\\ITAU\\\\ValueAtRisk\\\\Bases\\\\CPA\\\\OFER_CPA_20180807.csv\")\n",
    "df_cpa5 = pd.read_csv(\"C:\\\\Users\\\\vipac\\\\Desktop\\\\ITAU\\\\ValueAtRisk\\\\Bases\\\\CPA\\\\OFER_CPA_20180822.csv\")\n",
    "df_cpa6 = pd.read_csv(\"C:\\\\Users\\\\vipac\\\\Desktop\\\\ITAU\\\\ValueAtRisk\\\\Bases\\\\CPA\\\\OFER_CPA_20180828.csv\")\n",
    "df_cpa7 = pd.read_csv(\"C:\\\\Users\\\\vipac\\\\Desktop\\\\ITAU\\\\ValueAtRisk\\\\Bases\\\\CPA\\\\OFER_CPA_20180905.csv\")\n",
    "df_cpa8 = pd.read_csv(\"C:\\\\Users\\\\vipac\\\\Desktop\\\\ITAU\\\\ValueAtRisk\\\\Bases\\\\CPA\\\\OFER_CPA_20180906.csv\")\n",
    "df_cpa9 = pd.read_csv(\"C:\\\\Users\\\\vipac\\\\Desktop\\\\ITAU\\\\ValueAtRisk\\\\Bases\\\\CPA\\\\OFER_CPA_20180921.csv\")\n",
    "#df_cpa10 = pd.read_csv(\"C:\\\\Users\\\\vipac\\\\Desktop\\\\ITAU\\\\ValueAtRisk\\\\Bases\\\\CPA\\\\OFER_CPA_20181016.csv\")\n",
    "#df_cpa11 = pd.read_csv(\"C:\\\\Users\\\\vipac\\\\Desktop\\\\ITAU\\\\ValueAtRisk\\\\Bases\\\\CPA\\\\OFER_CPA_20181022.csv\")\n",
    "#df_cpa12 = pd.read_csv(\"C:\\\\Users\\\\vipac\\\\Desktop\\\\ITAU\\\\ValueAtRisk\\\\Bases\\\\CPA\\\\OFER_CPA_20181122.csv\")"
   ]
  },
  {
   "cell_type": "code",
   "execution_count": 3,
   "metadata": {},
   "outputs": [],
   "source": [
    "df_cpa = pd.concat([df_cpa1, df_cpa2, df_cpa3, df_cpa4, df_cpa5, df_cpa6, df_cpa7, df_cpa8, df_cpa9], ignore_index=True)\n",
    "#df_cpa = pd.concat([df_cpa1, df_cpa2, df_cpa3, df_cpa4, df_cpa5, df_cpa6, df_cpa7, df_cpa8, df_cpa9, df_cpa10, df_cpa11, df_cpa12], ignore_index=True)"
   ]
  },
  {
   "cell_type": "code",
   "execution_count": 4,
   "metadata": {},
   "outputs": [],
   "source": [
    "SUZB3 = df_cpa.loc[df_cpa.Símbolo_do_Instrumento=='SUZB3                                             ']\n",
    "SUZB3 = SUZB3.sort_values(by=['Hora_Prioridade'])\n",
    "\n",
    "MGLU3 = df_cpa.loc[df_cpa.Símbolo_do_Instrumento=='MGLU3                                             ']\n",
    "MGLU3 = MGLU3.sort_values(by=['Hora_Prioridade'])\n",
    "\n",
    "FIBR3 = df_cpa.loc[df_cpa.Símbolo_do_Instrumento=='FIBR3                                             ']\n",
    "FIBR3 = FIBR3.sort_values(by=['Hora_Prioridade'])\n",
    "\n",
    "BTOW3 = df_cpa.loc[df_cpa.Símbolo_do_Instrumento=='BTOW3                                             ']\n",
    "BTOW3 = BTOW3.sort_values(by=['Hora_Prioridade'])\n",
    "\n",
    "VALE3 = df_cpa.loc[df_cpa.Símbolo_do_Instrumento=='VALE3                                             ']\n",
    "VALE3 = VALE3.sort_values(by=['Hora_Prioridade'])\n",
    "\n",
    "BRKM5 = df_cpa.loc[df_cpa.Símbolo_do_Instrumento=='BRKM5                                             ']\n",
    "BRKM5 = BRKM5.sort_values(by=['Hora_Prioridade'])\n",
    "\n",
    "EMBR3 = df_cpa.loc[df_cpa.Símbolo_do_Instrumento=='EMBR3                                             ']\n",
    "EMBR3 = EMBR3.sort_values(by=['Hora_Prioridade'])\n",
    "\n",
    "PETR4 = df_cpa.loc[df_cpa.Símbolo_do_Instrumento=='PETR4                                             ']\n",
    "PETR4 = PETR4.sort_values(by=['Hora_Prioridade'])\n",
    "\n",
    "CPFE3 = df_cpa.loc[df_cpa.Símbolo_do_Instrumento=='CPFE3                                             ']\n",
    "CPFE3 = CPFE3.sort_values(by=['Hora_Prioridade'])\n",
    "\n",
    "KLBN4 = df_cpa.loc[df_cpa.Símbolo_do_Instrumento=='KLBN4                                             ']\n",
    "KLBN4 = KLBN4.sort_values(by=['Hora_Prioridade'])\n",
    "\n",
    "BRFS3 = df_cpa.loc[df_cpa.Símbolo_do_Instrumento=='BRFS3                                             ']\n",
    "BRFS3 = BRFS3.sort_values(by=['Hora_Prioridade'])\n",
    "\n",
    "KROT3 = df_cpa.loc[df_cpa.Símbolo_do_Instrumento=='KROT3                                             ']\n",
    "KROT3 = KROT3.sort_values(by=['Hora_Prioridade'])\n",
    "\n",
    "ELET6 = df_cpa.loc[df_cpa.Símbolo_do_Instrumento=='ELET6                                             ']\n",
    "ELET6 = ELET6.sort_values(by=['Hora_Prioridade'])\n",
    "\n",
    "QUAL3 = df_cpa.loc[df_cpa.Símbolo_do_Instrumento=='QUAL3                                             ']\n",
    "QUAL3 = QUAL3.sort_values(by=['Hora_Prioridade'])\n",
    "\n",
    "UGPA3 = df_cpa.loc[df_cpa.Símbolo_do_Instrumento=='UGPA3                                             ']\n",
    "UGPA3 = UGPA3.sort_values(by=['Hora_Prioridade'])\n",
    "\n",
    "ECOR3 = df_cpa.loc[df_cpa.Símbolo_do_Instrumento=='ECOR3                                             ']\n",
    "ECOR3 = ECOR3.sort_values(by=['Hora_Prioridade'])\n",
    "\n",
    "ELET3 = df_cpa.loc[df_cpa.Símbolo_do_Instrumento=='ELET3                                             ']\n",
    "ELET3 = ELET3.sort_values(by=['Hora_Prioridade'])\n",
    "\n",
    "CCRO3 = df_cpa.loc[df_cpa.Símbolo_do_Instrumento=='CCRO3                                             ']\n",
    "CCRO3 = CCRO3.sort_values(by=['Hora_Prioridade'])\n",
    "\n",
    "SBSP3 = df_cpa.loc[df_cpa.Símbolo_do_Instrumento=='SBSP3                                             ']\n",
    "SBSP3 = SBSP3.sort_values(by=['Hora_Prioridade'])\n",
    "\n",
    "GOLL4 = df_cpa.loc[df_cpa.Símbolo_do_Instrumento=='GOLL4                                             ']\n",
    "GOLL4 = GOLL4.sort_values(by=['Hora_Prioridade'])\n",
    "#GOLL4['return'] = GOLL4.Preço_Of_Compra.pct_change()\n",
    "#is_inf = GOLL4['return'].iloc[:] == np.inf\n",
    "#GOLL4['return'] = GOLL4['return'].loc[~is_inf, ]\n",
    "#mean_GOLL4 = np.mean(GOLL4['return'])\n",
    "#std_GOLL4 = np.std(GOLL4['return'])\n"
   ]
  },
  {
   "cell_type": "code",
   "execution_count": 5,
   "metadata": {},
   "outputs": [],
   "source": [
    "# Transforma para segundos o horario de prioridade\n",
    "def time_to_second(data):\n",
    "    data['parts'] = data['Hora_Prioridade'].apply(lambda x: x.split(':'))\n",
    "    data['seconds'] = data['parts'].apply(lambda x: round(int(x[0])*(60*60) + int(x[1])*60 + float(x[2])))\n",
    "\n",
    "# calcula a media de preco da acao num intervalo de 5minutos    \n",
    "def media_temp(data, gran = 300):\n",
    "    init = data['seconds'].iloc[0]\n",
    "    end = data['seconds'].iloc[-1]\n",
    "    lista = []\n",
    "    media = []\n",
    "    for i in range(len(data)):\n",
    "        if data['seconds'].iloc[i] - init <= gran:\n",
    "            lista.append(data['Preço_Of_Compra'].iloc[i])\n",
    "        else:\n",
    "            media.append(np.sum(lista) / len(lista))\n",
    "            lista = []\n",
    "            init = data['seconds'].iloc[i]\n",
    "    \n",
    "    headers = ['mean']\n",
    "    \n",
    "    df = pd.DataFrame(data = media, columns = headers)\n",
    "    df['return'] = df['mean'].pct_change()\n",
    "        \n",
    "    return df"
   ]
  },
  {
   "cell_type": "code",
   "execution_count": 6,
   "metadata": {},
   "outputs": [
    {
     "name": "stderr",
     "output_type": "stream",
     "text": [
      "C:\\Users\\vipac\\Anaconda3\\lib\\site-packages\\ipykernel_launcher.py:16: RuntimeWarning: invalid value encountered in double_scalars\n",
      "  app.launch_new_instance()\n"
     ]
    }
   ],
   "source": [
    "# SUZB3\n",
    "time_to_second(SUZB3)\n",
    "SUZB3      = media_temp(SUZB3)\n",
    "mean_SUZB3 = np.mean(SUZB3['return'])\n",
    "std_SUZB3  = np.std(SUZB3['return'])\n",
    "\n",
    "# MGLU3\n",
    "time_to_second(MGLU3)\n",
    "MGLU3      = media_temp(MGLU3)\n",
    "mean_MGLU3 = np.mean(MGLU3['return'])\n",
    "std_MGLU3  = np.std(MGLU3['return'])\n",
    "\n",
    "# FIBR3\n",
    "time_to_second(FIBR3)\n",
    "FIBR3      = media_temp(FIBR3)\n",
    "mean_FIBR3 = np.mean(FIBR3['return'])\n",
    "std_FIBR3  = np.std(FIBR3['return'])\n",
    "\n",
    "# BTOW3\n",
    "time_to_second(BTOW3)\n",
    "BTOW3      = media_temp(BTOW3)\n",
    "mean_BTOW3 = np.mean(BTOW3['return'])\n",
    "std_BTOW3  = np.std(BTOW3['return'])\n",
    "\n",
    "# VALE3\n",
    "time_to_second(VALE3)\n",
    "VALE3      = media_temp(VALE3)\n",
    "mean_VALE3 = np.mean(VALE3['return'])\n",
    "std_VALE3  = np.std(VALE3['return'])\n",
    "\n",
    "# BRKM5\n",
    "time_to_second(BRKM5)\n",
    "BRKM5      = media_temp(BRKM5)\n",
    "mean_BRKM5 = np.mean(BRKM5['return'])\n",
    "std_BRKM5  = np.std(BRKM5['return'])\n",
    "\n",
    "# EMBR3\n",
    "time_to_second(EMBR3)\n",
    "EMBR3      = media_temp(EMBR3)\n",
    "mean_EMBR3 = np.mean(EMBR3['return'])\n",
    "std_EMBR3  = np.std(EMBR3['return'])\n",
    "\n",
    "# PETR4\n",
    "time_to_second(PETR4)\n",
    "PETR4      = media_temp(PETR4)\n",
    "mean_PETR4 = np.mean(PETR4['return'])\n",
    "std_PETR4  = np.std(PETR4['return'])\n",
    "\n",
    "# CPFE3\n",
    "time_to_second(CPFE3)\n",
    "CPFE3      = media_temp(CPFE3)\n",
    "mean_CPFE3 = np.mean(CPFE3['return'])\n",
    "std_CPFE3  = np.std(CPFE3['return'])\n",
    "\n",
    "# KLBN4\n",
    "time_to_second(KLBN4)\n",
    "KLBN4      = media_temp(KLBN4)\n",
    "mean_KLBN4 = np.mean(KLBN4['return'])\n",
    "std_KLBN4  = np.std(KLBN4['return'])\n",
    "\n",
    "# BRFS3\n",
    "time_to_second(BRFS3)\n",
    "BRFS3      = media_temp(BRFS3)\n",
    "mean_BRFS3 = np.mean(BRFS3['return'])\n",
    "std_BRFS3  = np.std(BRFS3['return'])\n",
    "\n",
    "# KROT3\n",
    "time_to_second(KROT3)\n",
    "KROT3      = media_temp(KROT3)\n",
    "mean_KROT3 = np.mean(KROT3['return'])\n",
    "std_KROT3  = np.std(KROT3['return'])\n",
    "\n",
    "# ELET6\n",
    "time_to_second(ELET6)\n",
    "ELET6      = media_temp(ELET6)\n",
    "mean_ELET6 = np.mean(ELET6['return'])\n",
    "std_ELET6  = np.std(ELET6['return'])\n",
    "\n",
    "# QUAL3\n",
    "time_to_second(QUAL3)\n",
    "QUAL3      = media_temp(QUAL3)\n",
    "mean_QUAL3 = np.mean(QUAL3['return'])\n",
    "std_QUAL3  = np.std(QUAL3['return'])\n",
    "\n",
    "# UGPA3\n",
    "time_to_second(UGPA3)\n",
    "UGPA3      = media_temp(UGPA3)\n",
    "mean_UGPA3 = np.mean(UGPA3['return'])\n",
    "std_UGPA3  = np.std(UGPA3['return'])\n",
    "\n",
    "# ECOR3\n",
    "time_to_second(ECOR3)\n",
    "ECOR3      = media_temp(ECOR3)\n",
    "mean_ECOR3 = np.mean(ECOR3['return'])\n",
    "std_ECOR3  = np.std(ECOR3['return'])\n",
    "\n",
    "# ELET3\n",
    "time_to_second(ELET3)\n",
    "ELET3      = media_temp(ELET3)\n",
    "mean_ELET3 = np.mean(ELET3['return'])\n",
    "std_ELET3  = np.std(ELET3['return'])\n",
    "\n",
    "# CCRO3\n",
    "time_to_second(CCRO3)\n",
    "CCRO3      = media_temp(CCRO3)\n",
    "mean_CCRO3 = np.mean(CCRO3['return'])\n",
    "std_CCRO3  = np.std(CCRO3['return'])\n",
    "\n",
    "# SBSP3\n",
    "time_to_second(SBSP3)\n",
    "SBSP3      = media_temp(SBSP3)\n",
    "mean_SBSP3 = np.mean(SBSP3['return'])\n",
    "std_SBSP3  = np.std(SBSP3['return'])\n",
    "\n",
    "# GOLL4\n",
    "time_to_second(GOLL4)\n",
    "GOLL4      = media_temp(GOLL4)\n",
    "mean_GOLL4 = np.mean(GOLL4['return'])\n",
    "std_GOLL4  = np.std(GOLL4['return'])"
   ]
  },
  {
   "cell_type": "code",
   "execution_count": 14,
   "metadata": {},
   "outputs": [],
   "source": [
    "GOLL4['log_return'] = np.log(1 + GOLL4['return'])"
   ]
  },
  {
   "cell_type": "code",
   "execution_count": 18,
   "metadata": {},
   "outputs": [
    {
     "data": {
      "text/html": [
       "<div>\n",
       "<style scoped>\n",
       "    .dataframe tbody tr th:only-of-type {\n",
       "        vertical-align: middle;\n",
       "    }\n",
       "\n",
       "    .dataframe tbody tr th {\n",
       "        vertical-align: top;\n",
       "    }\n",
       "\n",
       "    .dataframe thead th {\n",
       "        text-align: right;\n",
       "    }\n",
       "</style>\n",
       "<table border=\"1\" class=\"dataframe\">\n",
       "  <thead>\n",
       "    <tr style=\"text-align: right;\">\n",
       "      <th></th>\n",
       "      <th>mean</th>\n",
       "      <th>return</th>\n",
       "      <th>log_return</th>\n",
       "    </tr>\n",
       "  </thead>\n",
       "  <tbody>\n",
       "    <tr>\n",
       "      <th>0</th>\n",
       "      <td>10.588750</td>\n",
       "      <td>NaN</td>\n",
       "      <td>NaN</td>\n",
       "    </tr>\n",
       "    <tr>\n",
       "      <th>1</th>\n",
       "      <td>11.810361</td>\n",
       "      <td>0.115369</td>\n",
       "      <td>0.109185</td>\n",
       "    </tr>\n",
       "    <tr>\n",
       "      <th>2</th>\n",
       "      <td>10.693540</td>\n",
       "      <td>-0.094563</td>\n",
       "      <td>-0.099337</td>\n",
       "    </tr>\n",
       "    <tr>\n",
       "      <th>3</th>\n",
       "      <td>11.576142</td>\n",
       "      <td>0.082536</td>\n",
       "      <td>0.079306</td>\n",
       "    </tr>\n",
       "    <tr>\n",
       "      <th>4</th>\n",
       "      <td>10.833007</td>\n",
       "      <td>-0.064195</td>\n",
       "      <td>-0.066349</td>\n",
       "    </tr>\n",
       "    <tr>\n",
       "      <th>5</th>\n",
       "      <td>13.013877</td>\n",
       "      <td>0.201317</td>\n",
       "      <td>0.183419</td>\n",
       "    </tr>\n",
       "    <tr>\n",
       "      <th>6</th>\n",
       "      <td>11.241148</td>\n",
       "      <td>-0.136218</td>\n",
       "      <td>-0.146435</td>\n",
       "    </tr>\n",
       "    <tr>\n",
       "      <th>7</th>\n",
       "      <td>11.375636</td>\n",
       "      <td>0.011964</td>\n",
       "      <td>0.011893</td>\n",
       "    </tr>\n",
       "    <tr>\n",
       "      <th>8</th>\n",
       "      <td>11.223267</td>\n",
       "      <td>-0.013394</td>\n",
       "      <td>-0.013485</td>\n",
       "    </tr>\n",
       "    <tr>\n",
       "      <th>9</th>\n",
       "      <td>11.401479</td>\n",
       "      <td>0.015879</td>\n",
       "      <td>0.015754</td>\n",
       "    </tr>\n",
       "  </tbody>\n",
       "</table>\n",
       "</div>"
      ],
      "text/plain": [
       "        mean    return  log_return\n",
       "0  10.588750       NaN         NaN\n",
       "1  11.810361  0.115369    0.109185\n",
       "2  10.693540 -0.094563   -0.099337\n",
       "3  11.576142  0.082536    0.079306\n",
       "4  10.833007 -0.064195   -0.066349\n",
       "5  13.013877  0.201317    0.183419\n",
       "6  11.241148 -0.136218   -0.146435\n",
       "7  11.375636  0.011964    0.011893\n",
       "8  11.223267 -0.013394   -0.013485\n",
       "9  11.401479  0.015879    0.015754"
      ]
     },
     "execution_count": 18,
     "metadata": {},
     "output_type": "execute_result"
    }
   ],
   "source": [
    "GOLL4.head(10)"
   ]
  },
  {
   "cell_type": "code",
   "execution_count": 24,
   "metadata": {
    "scrolled": true
   },
   "outputs": [
    {
     "data": {
      "text/plain": [
       "(1.0453437664804153, 0.001931380119913961, 0.015805074847639038)"
      ]
     },
     "execution_count": 24,
     "metadata": {},
     "output_type": "execute_result"
    }
   ],
   "source": [
    "t.fit(GOLL4['return'][1:]) # test de t-distribution"
   ]
  },
  {
   "cell_type": "code",
   "execution_count": 16,
   "metadata": {},
   "outputs": [
    {
     "data": {
      "image/png": "[encoded data removed]",
      "text/plain": [
       "<Figure size 432x288 with 1 Axes>"
      ]
     },
     "metadata": {},
     "output_type": "display_data"
    }
   ],
   "source": [
    "# Check correlationsof squared observations\n",
    "from statsmodels.graphics.tsaplots import plot_acf\n",
    "\n",
    "# square the dataset\n",
    "squared_data = GOLL4['log_return'].apply(lambda x: x**2)\n",
    "# create acf plot\n",
    "plot_acf(squared_data)\n",
    "plt.show()"
   ]
  },
  {
   "cell_type": "code",
   "execution_count": 22,
   "metadata": {},
   "outputs": [
    {
     "name": "stdout",
     "output_type": "stream",
     "text": [
      "Iteration:      1,   Func. Count:      4,   Neg. LLF: -26.086828389159276\n",
      "Iteration:      2,   Func. Count:     11,   Neg. LLF: -26.248678760446804\n",
      "Iteration:      3,   Func. Count:     15,   Neg. LLF: -26.608839203817542\n",
      "Iteration:      4,   Func. Count:     22,   Neg. LLF: -26.628052697514892\n",
      "Iteration:      5,   Func. Count:     26,   Neg. LLF: -26.629928121679946\n",
      "Iteration:      6,   Func. Count:     30,   Neg. LLF: -26.63033525656157\n",
      "Iteration:      7,   Func. Count:     34,   Neg. LLF: -26.63055773733841\n",
      "Iteration:      8,   Func. Count:     38,   Neg. LLF: -26.630559270385106\n",
      "Optimization terminated successfully.    (Exit mode 0)\n",
      "            Current function value: -26.63055927041419\n",
      "            Iterations: 8\n",
      "            Function evaluations: 38\n",
      "            Gradient evaluations: 8\n"
     ]
    },
    {
     "data": {
      "image/png": "[encoded data removed]",
      "text/plain": [
       "<Figure size 432x288 with 1 Axes>"
      ]
     },
     "metadata": {},
     "output_type": "display_data"
    }
   ],
   "source": [
    "from arch import arch_model\n",
    "\n",
    "n_test = 10\n",
    "train, test = GOLL4['return'][1:-n_test], GOLL4['return'][-n_test:]\n",
    "# define model\n",
    "model = arch_model(train, mean='Zero', vol='ARCH', p=1)\n",
    "# fit model\n",
    "model_fit = model.fit()\n",
    "# forecast the test set\n",
    "yhat = model_fit.forecast(horizon=n_test)\n",
    "# plot the actual variance\n",
    "var = [i*0.01 for i in range(0,100)]\n",
    "plt.plot(var[-n_test:])\n",
    "# plot forecast variance\n",
    "plt.plot(yhat.variance.values[-1, :])\n",
    "plt.show()\n"
   ]
  },
  {
   "cell_type": "code",
   "execution_count": 62,
   "metadata": {},
   "outputs": [
    {
     "name": "stdout",
     "output_type": "stream",
     "text": [
      "[0 1 2 3 4 5 6 7 8 9]\n"
     ]
    }
   ],
   "source": [
    "#yhat.variance.values[-1, :]\n",
    "x = np.arange(0,10)\n"
   ]
  },
  {
   "cell_type": "code",
   "execution_count": 65,
   "metadata": {},
   "outputs": [
    {
     "name": "stdout",
     "output_type": "stream",
     "text": [
      "Iteration:      1,   Func. Count:      5,   Neg. LLF: -93.40141990359636\n",
      "Iteration:      2,   Func. Count:     11,   Neg. LLF: -101.34619054204708\n",
      "Iteration:      3,   Func. Count:     16,   Neg. LLF: -110.2927084570746\n",
      "Iteration:      4,   Func. Count:     21,   Neg. LLF: -150.27128230454002\n",
      "Iteration:      5,   Func. Count:     33,   Neg. LLF: -153.5413230052288\n",
      "Iteration:      6,   Func. Count:     40,   Neg. LLF: -153.4959542323127\n",
      "Iteration:      7,   Func. Count:     47,   Neg. LLF: -153.24085859182495\n",
      "Iteration:      8,   Func. Count:     53,   Neg. LLF: -152.8485576396174\n",
      "Iteration:      9,   Func. Count:     59,   Neg. LLF: -152.0173386439526\n",
      "Iteration:     10,   Func. Count:     65,   Neg. LLF: -151.39605758370732\n",
      "Iteration:     11,   Func. Count:     72,   Neg. LLF: -151.1178367688017\n",
      "Iteration:     12,   Func. Count:     78,   Neg. LLF: -150.39795569957002\n",
      "Iteration:     13,   Func. Count:     84,   Neg. LLF: -144.83512675308188\n",
      "Iteration:     14,   Func. Count:     89,   Neg. LLF: -136.60978262811136\n",
      "Iteration:     15,   Func. Count:     94,   Neg. LLF: -136.63873319119833\n",
      "Iteration:     16,   Func. Count:     99,   Neg. LLF: -136.67595407825797\n",
      "Iteration:     17,   Func. Count:    104,   Neg. LLF: -136.67597262067312\n",
      "Optimization terminated successfully.    (Exit mode 0)\n",
      "            Current function value: -136.6759718843799\n",
      "            Iterations: 17\n",
      "            Function evaluations: 105\n",
      "            Gradient evaluations: 17\n"
     ]
    },
    {
     "data": {
      "image/png": "[encoded data removed]",
      "text/plain": [
       "<Figure size 432x288 with 1 Axes>"
      ]
     },
     "metadata": {},
     "output_type": "display_data"
    }
   ],
   "source": [
    "n_test = 10\n",
    "train, test = GOLL4['return'][1:-n_test], GOLL4['return'][-n_test:]\n",
    "# define model\n",
    "model = arch_model(train, mean='Zero', vol='GARCH', p=1, q =1)\n",
    "# fit model\n",
    "model_fit = model.fit()\n",
    "# forecast the test set\n",
    "yhat = model_fit.forecast(horizon=n_test)\n",
    "# plot the actual variance\n",
    "var = GOLL4['return']*std_GOLL4\n",
    "#var = [i*0.01 for i in range(0,100)]\n",
    "plt.plot(x, var[-n_test:])\n",
    "# plot forecast variance\n",
    "plt.plot(x, yhat.variance.values[-1, :])\n",
    "plt.legend(loc = 'best')\n",
    "plt.show()\n"
   ]
  },
  {
   "cell_type": "code",
   "execution_count": 71,
   "metadata": {},
   "outputs": [
    {
     "data": {
      "text/html": [
       "<div>\n",
       "<style scoped>\n",
       "    .dataframe tbody tr th:only-of-type {\n",
       "        vertical-align: middle;\n",
       "    }\n",
       "\n",
       "    .dataframe tbody tr th {\n",
       "        vertical-align: top;\n",
       "    }\n",
       "\n",
       "    .dataframe thead th {\n",
       "        text-align: right;\n",
       "    }\n",
       "</style>\n",
       "<table border=\"1\" class=\"dataframe\">\n",
       "  <thead>\n",
       "    <tr style=\"text-align: right;\">\n",
       "      <th></th>\n",
       "      <th>mean</th>\n",
       "      <th>return</th>\n",
       "      <th>log_return</th>\n",
       "    </tr>\n",
       "  </thead>\n",
       "  <tbody>\n",
       "    <tr>\n",
       "      <th>85</th>\n",
       "      <td>11.322917</td>\n",
       "      <td>-0.025577</td>\n",
       "      <td>-0.025910</td>\n",
       "    </tr>\n",
       "    <tr>\n",
       "      <th>86</th>\n",
       "      <td>11.513333</td>\n",
       "      <td>0.016817</td>\n",
       "      <td>0.016677</td>\n",
       "    </tr>\n",
       "    <tr>\n",
       "      <th>87</th>\n",
       "      <td>11.057628</td>\n",
       "      <td>-0.039581</td>\n",
       "      <td>-0.040385</td>\n",
       "    </tr>\n",
       "    <tr>\n",
       "      <th>88</th>\n",
       "      <td>8.883931</td>\n",
       "      <td>-0.196579</td>\n",
       "      <td>-0.218876</td>\n",
       "    </tr>\n",
       "    <tr>\n",
       "      <th>89</th>\n",
       "      <td>8.883683</td>\n",
       "      <td>-0.000028</td>\n",
       "      <td>-0.000028</td>\n",
       "    </tr>\n",
       "    <tr>\n",
       "      <th>90</th>\n",
       "      <td>5.608606</td>\n",
       "      <td>-0.368662</td>\n",
       "      <td>-0.459914</td>\n",
       "    </tr>\n",
       "    <tr>\n",
       "      <th>91</th>\n",
       "      <td>5.219423</td>\n",
       "      <td>-0.069390</td>\n",
       "      <td>-0.071915</td>\n",
       "    </tr>\n",
       "    <tr>\n",
       "      <th>92</th>\n",
       "      <td>13.913529</td>\n",
       "      <td>1.665722</td>\n",
       "      <td>0.980475</td>\n",
       "    </tr>\n",
       "    <tr>\n",
       "      <th>93</th>\n",
       "      <td>11.054664</td>\n",
       "      <td>-0.205474</td>\n",
       "      <td>-0.230009</td>\n",
       "    </tr>\n",
       "    <tr>\n",
       "      <th>94</th>\n",
       "      <td>10.909712</td>\n",
       "      <td>-0.013112</td>\n",
       "      <td>-0.013199</td>\n",
       "    </tr>\n",
       "    <tr>\n",
       "      <th>95</th>\n",
       "      <td>10.970440</td>\n",
       "      <td>0.005566</td>\n",
       "      <td>0.005551</td>\n",
       "    </tr>\n",
       "    <tr>\n",
       "      <th>96</th>\n",
       "      <td>11.125802</td>\n",
       "      <td>0.014162</td>\n",
       "      <td>0.014063</td>\n",
       "    </tr>\n",
       "    <tr>\n",
       "      <th>97</th>\n",
       "      <td>11.470916</td>\n",
       "      <td>0.031019</td>\n",
       "      <td>0.030548</td>\n",
       "    </tr>\n",
       "    <tr>\n",
       "      <th>98</th>\n",
       "      <td>11.537389</td>\n",
       "      <td>0.005795</td>\n",
       "      <td>0.005778</td>\n",
       "    </tr>\n",
       "    <tr>\n",
       "      <th>99</th>\n",
       "      <td>11.467305</td>\n",
       "      <td>-0.006075</td>\n",
       "      <td>-0.006093</td>\n",
       "    </tr>\n",
       "    <tr>\n",
       "      <th>100</th>\n",
       "      <td>6.500000</td>\n",
       "      <td>-0.433171</td>\n",
       "      <td>-0.567698</td>\n",
       "    </tr>\n",
       "    <tr>\n",
       "      <th>101</th>\n",
       "      <td>11.228571</td>\n",
       "      <td>0.727473</td>\n",
       "      <td>0.546659</td>\n",
       "    </tr>\n",
       "    <tr>\n",
       "      <th>102</th>\n",
       "      <td>NaN</td>\n",
       "      <td>0.000000</td>\n",
       "      <td>0.000000</td>\n",
       "    </tr>\n",
       "    <tr>\n",
       "      <th>103</th>\n",
       "      <td>8.900000</td>\n",
       "      <td>-0.207379</td>\n",
       "      <td>-0.232410</td>\n",
       "    </tr>\n",
       "    <tr>\n",
       "      <th>104</th>\n",
       "      <td>8.150000</td>\n",
       "      <td>-0.084270</td>\n",
       "      <td>-0.088033</td>\n",
       "    </tr>\n",
       "  </tbody>\n",
       "</table>\n",
       "</div>"
      ],
      "text/plain": [
       "          mean    return  log_return\n",
       "85   11.322917 -0.025577   -0.025910\n",
       "86   11.513333  0.016817    0.016677\n",
       "87   11.057628 -0.039581   -0.040385\n",
       "88    8.883931 -0.196579   -0.218876\n",
       "89    8.883683 -0.000028   -0.000028\n",
       "90    5.608606 -0.368662   -0.459914\n",
       "91    5.219423 -0.069390   -0.071915\n",
       "92   13.913529  1.665722    0.980475\n",
       "93   11.054664 -0.205474   -0.230009\n",
       "94   10.909712 -0.013112   -0.013199\n",
       "95   10.970440  0.005566    0.005551\n",
       "96   11.125802  0.014162    0.014063\n",
       "97   11.470916  0.031019    0.030548\n",
       "98   11.537389  0.005795    0.005778\n",
       "99   11.467305 -0.006075   -0.006093\n",
       "100   6.500000 -0.433171   -0.567698\n",
       "101  11.228571  0.727473    0.546659\n",
       "102        NaN  0.000000    0.000000\n",
       "103   8.900000 -0.207379   -0.232410\n",
       "104   8.150000 -0.084270   -0.088033"
      ]
     },
     "execution_count": 71,
     "metadata": {},
     "output_type": "execute_result"
    }
   ],
   "source": [
    "GOLL4.tail(20)"
   ]
  },
  {
   "cell_type": "code",
   "execution_count": 70,
   "metadata": {},
   "outputs": [
    {
     "data": {
      "text/plain": [
       "[<matplotlib.lines.Line2D at 0x262851cda58>]"
      ]
     },
     "execution_count": 70,
     "metadata": {},
     "output_type": "execute_result"
    },
    {
     "data": {
      "image/png": "[encoded data removed]",
      "text/plain": [
       "<Figure size 432x288 with 1 Axes>"
      ]
     },
     "metadata": {},
     "output_type": "display_data"
    }
   ],
   "source": [
    "pyplot.plot(EMBR3['return'])"
   ]
  },
  {
   "cell_type": "code",
   "execution_count": 67,
   "metadata": {},
   "outputs": [
    {
     "name": "stdout",
     "output_type": "stream",
     "text": [
      "Iteration:      1,   Func. Count:     33,   Neg. LLF: 50.22157561649052\n",
      "Iteration:      2,   Func. Count:     71,   Neg. LLF: 49.70879553327738\n",
      "Iteration:      3,   Func. Count:    105,   Neg. LLF: 46.96601179389913\n",
      "Iteration:      4,   Func. Count:    139,   Neg. LLF: 43.150024581110884\n",
      "Iteration:      5,   Func. Count:    173,   Neg. LLF: 40.828992048141366\n",
      "Iteration:      6,   Func. Count:    207,   Neg. LLF: 38.992363781870246\n",
      "Iteration:      7,   Func. Count:    241,   Neg. LLF: 35.112197370694886\n",
      "Iteration:      8,   Func. Count:    275,   Neg. LLF: 30.857248977933615\n",
      "Iteration:      9,   Func. Count:    309,   Neg. LLF: 29.787366499484644\n",
      "Iteration:     10,   Func. Count:    343,   Neg. LLF: 28.255322797463457\n",
      "Iteration:     11,   Func. Count:    376,   Neg. LLF: 26.9575620781371\n",
      "Iteration:     12,   Func. Count:    411,   Neg. LLF: 26.715237243964012\n",
      "Iteration:     13,   Func. Count:    445,   Neg. LLF: 26.284910985345856\n",
      "Iteration:     14,   Func. Count:    479,   Neg. LLF: 25.972466428974734\n",
      "Iteration:     15,   Func. Count:    513,   Neg. LLF: 25.84080346847072\n",
      "Iteration:     16,   Func. Count:    547,   Neg. LLF: 25.62886973794714\n",
      "Iteration:     17,   Func. Count:    580,   Neg. LLF: 25.51608042589468\n",
      "Iteration:     18,   Func. Count:    614,   Neg. LLF: 25.499360009926598\n",
      "Iteration:     19,   Func. Count:    648,   Neg. LLF: 25.494252616938546\n",
      "Iteration:     20,   Func. Count:    681,   Neg. LLF: 25.49211572918722\n",
      "Iteration:     21,   Func. Count:    714,   Neg. LLF: 25.485422641765627\n",
      "Iteration:     22,   Func. Count:    747,   Neg. LLF: 25.479684417073145\n",
      "Iteration:     23,   Func. Count:    780,   Neg. LLF: 25.477822092885017\n",
      "Iteration:     24,   Func. Count:    813,   Neg. LLF: 25.47752595045116\n",
      "Iteration:     25,   Func. Count:    846,   Neg. LLF: 25.477511609501164\n",
      "Iteration:     26,   Func. Count:    879,   Neg. LLF: 25.47750807330303\n",
      "Optimization terminated successfully.    (Exit mode 0)\n",
      "            Current function value: 25.477507568348365\n",
      "            Iterations: 26\n",
      "            Function evaluations: 880\n",
      "            Gradient evaluations: 26\n"
     ]
    },
    {
     "data": {
      "image/png": "[encoded data removed]",
      "text/plain": [
       "<Figure size 432x288 with 1 Axes>"
      ]
     },
     "metadata": {},
     "output_type": "display_data"
    }
   ],
   "source": [
    "# example of ARCH model\n",
    "from random import gauss\n",
    "from random import seed\n",
    "from matplotlib import pyplot\n",
    "from arch import arch_model\n",
    "# seed pseudorandom number generator\n",
    "seed(1)\n",
    "# create dataset\n",
    "data = [gauss(0, i*0.01) for i in range(0,100)]\n",
    "pyplot.plot(data)\n",
    "# split into train/test\n",
    "n_test = 10\n",
    "train, test = data[:-n_test], data[-n_test:]\n",
    "# define model\n",
    "model = arch_model(train, mean='Zero', vol='GARCH', p=15, q=15)\n",
    "# fit model\n",
    "model_fit = model.fit()\n",
    "# forecast the test set\n",
    "yhat = model_fit.forecast(horizon=n_test)\n",
    "# plot the actual variance\n",
    "var = [i*0.01 for i in range(0,100)]\n",
    "pyplot.plot(var[-n_test:])\n",
    "# plot forecast variance\n",
    "pyplot.plot(yhat.variance.values[-1, :])\n",
    "pyplot.show()\n"
   ]
  },
  {
   "cell_type": "code",
   "execution_count": null,
   "metadata": {},
   "outputs": [],
   "source": []
  },
  {
   "cell_type": "code",
   "execution_count": null,
   "metadata": {},
   "outputs": [],
   "source": []
  },
  {
   "cell_type": "code",
   "execution_count": null,
   "metadata": {},
   "outputs": [],
   "source": []
  },
  {
   "cell_type": "code",
   "execution_count": null,
   "metadata": {},
   "outputs": [],
   "source": []
  },
  {
   "cell_type": "code",
   "execution_count": null,
   "metadata": {},
   "outputs": [],
   "source": []
  },
  {
   "cell_type": "code",
   "execution_count": null,
   "metadata": {},
   "outputs": [],
   "source": []
  },
  {
   "cell_type": "code",
   "execution_count": null,
   "metadata": {},
   "outputs": [],
   "source": []
  },
  {
   "cell_type": "code",
   "execution_count": null,
   "metadata": {},
   "outputs": [],
   "source": []
  },
  {
   "cell_type": "code",
   "execution_count": null,
   "metadata": {},
   "outputs": [],
   "source": []
  },
  {
   "cell_type": "code",
   "execution_count": null,
   "metadata": {},
   "outputs": [],
   "source": []
  },
  {
   "cell_type": "code",
   "execution_count": null,
   "metadata": {},
   "outputs": [],
   "source": []
  },
  {
   "cell_type": "code",
   "execution_count": null,
   "metadata": {},
   "outputs": [],
   "source": []
  },
  {
   "cell_type": "code",
   "execution_count": null,
   "metadata": {},
   "outputs": [],
   "source": []
  },
  {
   "cell_type": "code",
   "execution_count": null,
   "metadata": {},
   "outputs": [],
   "source": []
  },
  {
   "cell_type": "code",
   "execution_count": null,
   "metadata": {},
   "outputs": [],
   "source": []
  },
  {
   "cell_type": "code",
   "execution_count": null,
   "metadata": {},
   "outputs": [],
   "source": []
  },
  {
   "cell_type": "code",
   "execution_count": null,
   "metadata": {},
   "outputs": [],
   "source": []
  },
  {
   "cell_type": "code",
   "execution_count": null,
   "metadata": {},
   "outputs": [],
   "source": []
  },
  {
   "cell_type": "code",
   "execution_count": null,
   "metadata": {},
   "outputs": [],
   "source": []
  },
  {
   "cell_type": "code",
   "execution_count": null,
   "metadata": {},
   "outputs": [],
   "source": []
  },
  {
   "cell_type": "code",
   "execution_count": null,
   "metadata": {},
   "outputs": [],
   "source": []
  },
  {
   "cell_type": "code",
   "execution_count": null,
   "metadata": {},
   "outputs": [],
   "source": []
  },
  {
   "cell_type": "code",
   "execution_count": null,
   "metadata": {},
   "outputs": [],
   "source": []
  },
  {
   "cell_type": "code",
   "execution_count": null,
   "metadata": {},
   "outputs": [],
   "source": []
  },
  {
   "cell_type": "code",
   "execution_count": null,
   "metadata": {},
   "outputs": [],
   "source": []
  },
  {
   "cell_type": "code",
   "execution_count": null,
   "metadata": {},
   "outputs": [],
   "source": []
  },
  {
   "cell_type": "code",
   "execution_count": null,
   "metadata": {},
   "outputs": [],
   "source": []
  },
  {
   "cell_type": "code",
   "execution_count": null,
   "metadata": {},
   "outputs": [],
   "source": []
  },
  {
   "cell_type": "code",
   "execution_count": null,
   "metadata": {},
   "outputs": [],
   "source": []
  },
  {
   "cell_type": "code",
   "execution_count": null,
   "metadata": {},
   "outputs": [],
   "source": []
  },
  {
   "cell_type": "code",
   "execution_count": null,
   "metadata": {},
   "outputs": [],
   "source": []
  },
  {
   "cell_type": "code",
   "execution_count": null,
   "metadata": {},
   "outputs": [],
   "source": []
  },
  {
   "cell_type": "code",
   "execution_count": null,
   "metadata": {},
   "outputs": [],
   "source": []
  },
  {
   "cell_type": "code",
   "execution_count": null,
   "metadata": {},
   "outputs": [],
   "source": []
  },
  {
   "cell_type": "code",
   "execution_count": null,
   "metadata": {},
   "outputs": [],
   "source": []
  },
  {
   "cell_type": "code",
   "execution_count": 47,
   "metadata": {},
   "outputs": [],
   "source": [
    "from arch import arch_model"
   ]
  },
  {
   "cell_type": "code",
   "execution_count": 50,
   "metadata": {},
   "outputs": [],
   "source": [
    "am = arch_model(GOLL4['return'][1:])"
   ]
  },
  {
   "cell_type": "code",
   "execution_count": 51,
   "metadata": {},
   "outputs": [
    {
     "name": "stdout",
     "output_type": "stream",
     "text": [
      "Iteration:      1,   Func. Count:      6,   Neg. LLF: -89.37074261622764\n",
      "Iteration:      2,   Func. Count:     17,   Neg. LLF: -89.38472838941522\n",
      "Iteration:      3,   Func. Count:     24,   Neg. LLF: -96.26937660746356\n",
      "Iteration:      4,   Func. Count:     30,   Neg. LLF: -120.76220176199516\n",
      "Iteration:      5,   Func. Count:     37,   Neg. LLF: -125.98815058557226\n",
      "Iteration:      6,   Func. Count:     45,   Neg. LLF: -126.0578632920418\n",
      "Iteration:      7,   Func. Count:     53,   Neg. LLF: -126.69607097850079\n",
      "Iteration:      8,   Func. Count:     60,   Neg. LLF: -127.53458849429437\n",
      "Iteration:      9,   Func. Count:     67,   Neg. LLF: -128.59318714750793\n",
      "Iteration:     10,   Func. Count:     74,   Neg. LLF: -129.31218484268206\n",
      "Iteration:     11,   Func. Count:     80,   Neg. LLF: -129.62217834175263\n",
      "Iteration:     12,   Func. Count:     86,   Neg. LLF: -129.86509336471633\n",
      "Iteration:     13,   Func. Count:     92,   Neg. LLF: -129.90722126090407\n",
      "Iteration:     14,   Func. Count:     98,   Neg. LLF: -129.9273271078065\n",
      "Iteration:     15,   Func. Count:    104,   Neg. LLF: -129.929027955023\n",
      "Iteration:     16,   Func. Count:    115,   Neg. LLF: -129.92902803423036\n",
      "Iteration:     17,   Func. Count:    125,   Neg. LLF: -129.92902817970037\n",
      "Iteration:     18,   Func. Count:    135,   Neg. LLF: -129.92902844836442\n",
      "Iteration:     19,   Func. Count:    141,   Neg. LLF: -129.92806981159583\n",
      "Optimization terminated successfully.    (Exit mode 0)\n",
      "            Current function value: -129.9280684124239\n",
      "            Iterations: 20\n",
      "            Function evaluations: 141\n",
      "            Gradient evaluations: 19\n"
     ]
    },
    {
     "data": {
      "text/html": [
       "<table class=\"simpletable\">\n",
       "<caption>Constant Mean - GARCH Model Results</caption>\n",
       "<tr>\n",
       "  <th>Dep. Variable:</th>       <td>return</td>       <th>  R-squared:         </th>  <td>  -0.001</td> \n",
       "</tr>\n",
       "<tr>\n",
       "  <th>Mean Model:</th>       <td>Constant Mean</td>   <th>  Adj. R-squared:    </th>  <td>  -0.001</td> \n",
       "</tr>\n",
       "<tr>\n",
       "  <th>Vol Model:</th>            <td>GARCH</td>       <th>  Log-Likelihood:    </th> <td>   129.928</td>\n",
       "</tr>\n",
       "<tr>\n",
       "  <th>Distribution:</th>        <td>Normal</td>       <th>  AIC:               </th> <td>  -251.856</td>\n",
       "</tr>\n",
       "<tr>\n",
       "  <th>Method:</th>        <td>Maximum Likelihood</td> <th>  BIC:               </th> <td>  -241.279</td>\n",
       "</tr>\n",
       "<tr>\n",
       "  <th></th>                        <td></td>          <th>  No. Observations:  </th>     <td>104</td>   \n",
       "</tr>\n",
       "<tr>\n",
       "  <th>Date:</th>           <td>Sat, Dec 08 2018</td>  <th>  Df Residuals:      </th>     <td>100</td>   \n",
       "</tr>\n",
       "<tr>\n",
       "  <th>Time:</th>               <td>18:52:21</td>      <th>  Df Model:          </th>      <td>4</td>    \n",
       "</tr>\n",
       "</table>\n",
       "<table class=\"simpletable\">\n",
       "<caption>Mean Model</caption>\n",
       "<tr>\n",
       "   <td></td>     <th>coef</th>     <th>std err</th>      <th>t</th>       <th>P>|t|</th>      <th>95.0% Conf. Int.</th>   \n",
       "</tr>\n",
       "<tr>\n",
       "  <th>mu</th> <td>2.7223e-03</td> <td>2.787e-03</td> <td>    0.977</td> <td>    0.329</td> <td>[-2.740e-03,8.185e-03]</td>\n",
       "</tr>\n",
       "</table>\n",
       "<table class=\"simpletable\">\n",
       "<caption>Volatility Model</caption>\n",
       "<tr>\n",
       "      <td></td>        <th>coef</th>     <th>std err</th>      <th>t</th>       <th>P>|t|</th>      <th>95.0% Conf. Int.</th>   \n",
       "</tr>\n",
       "<tr>\n",
       "  <th>omega</th>    <td>1.6060e-04</td> <td>1.000e-04</td> <td>    1.606</td> <td>    0.108</td> <td>[-3.545e-05,3.567e-04]</td>\n",
       "</tr>\n",
       "<tr>\n",
       "  <th>alpha[1]</th> <td>    0.4554</td> <td>    0.154</td> <td>    2.962</td> <td>3.058e-03</td>    <td>[  0.154,  0.757]</td>  \n",
       "</tr>\n",
       "<tr>\n",
       "  <th>beta[1]</th>  <td>    0.5446</td> <td>5.836e-02</td> <td>    9.332</td> <td>1.041e-20</td>    <td>[  0.430,  0.659]</td>  \n",
       "</tr>\n",
       "</table><br/><br/>Covariance estimator: robust"
      ],
      "text/plain": [
       "<class 'statsmodels.iolib.summary.Summary'>\n",
       "\"\"\"\n",
       "                     Constant Mean - GARCH Model Results                      \n",
       "==============================================================================\n",
       "Dep. Variable:                 return   R-squared:                      -0.001\n",
       "Mean Model:             Constant Mean   Adj. R-squared:                 -0.001\n",
       "Vol Model:                      GARCH   Log-Likelihood:                129.928\n",
       "Distribution:                  Normal   AIC:                          -251.856\n",
       "Method:            Maximum Likelihood   BIC:                          -241.279\n",
       "                                        No. Observations:                  104\n",
       "Date:                Sat, Dec 08 2018   Df Residuals:                      100\n",
       "Time:                        18:52:21   Df Model:                            4\n",
       "                                  Mean Model                                 \n",
       "=============================================================================\n",
       "                 coef    std err          t      P>|t|       95.0% Conf. Int.\n",
       "-----------------------------------------------------------------------------\n",
       "mu         2.7223e-03  2.787e-03      0.977      0.329 [-2.740e-03,8.185e-03]\n",
       "                               Volatility Model                              \n",
       "=============================================================================\n",
       "                 coef    std err          t      P>|t|       95.0% Conf. Int.\n",
       "-----------------------------------------------------------------------------\n",
       "omega      1.6060e-04  1.000e-04      1.606      0.108 [-3.545e-05,3.567e-04]\n",
       "alpha[1]       0.4554      0.154      2.962  3.058e-03      [  0.154,  0.757]\n",
       "beta[1]        0.5446  5.836e-02      9.332  1.041e-20      [  0.430,  0.659]\n",
       "=============================================================================\n",
       "\n",
       "Covariance estimator: robust\n",
       "\"\"\""
      ]
     },
     "execution_count": 51,
     "metadata": {},
     "output_type": "execute_result"
    }
   ],
   "source": [
    "res = am.fit()\n",
    "res.summary()"
   ]
  },
  {
   "cell_type": "code",
   "execution_count": 54,
   "metadata": {},
   "outputs": [],
   "source": [
    "fcast = res.forecast ( method = 'simulation', simulations = 10, horizon = 5 )"
   ]
  },
  {
   "cell_type": "code",
   "execution_count": null,
   "metadata": {},
   "outputs": [],
   "source": []
  },
  {
   "cell_type": "code",
   "execution_count": null,
   "metadata": {},
   "outputs": [],
   "source": []
  },
  {
   "cell_type": "code",
   "execution_count": null,
   "metadata": {},
   "outputs": [],
   "source": []
  },
  {
   "cell_type": "code",
   "execution_count": 8,
   "metadata": {},
   "outputs": [],
   "source": [
    "best = [\n",
    "SUZB3,\n",
    "MGLU3,\n",
    "FIBR3,\n",
    "BTOW3,\n",
    "VALE3,\n",
    "BRKM5,\n",
    "EMBR3,\n",
    "PETR4,\n",
    "CPFE3,\n",
    "KLBN4]\n",
    "\n",
    "worst = [\n",
    "BRFS3,\n",
    "KROT3,\n",
    "ELET6,\n",
    "QUAL3,\n",
    "UGPA3,\n",
    "ECOR3,\n",
    "ELET3,\n",
    "CCRO3,\n",
    "SBSP3,\n",
    "GOLL4]"
   ]
  },
  {
   "cell_type": "code",
   "execution_count": 40,
   "metadata": {
    "scrolled": true
   },
   "outputs": [
    {
     "name": "stderr",
     "output_type": "stream",
     "text": [
      "C:\\Users\\vipac\\Anaconda3\\lib\\site-packages\\ipykernel_launcher.py:3: MatplotlibDeprecationWarning: scipy.stats.norm.pdf\n",
      "  This is separate from the ipykernel package so we can avoid doing imports until\n"
     ]
    },
    {
     "data": {
      "image/png": "[encoded data removed]",
      "text/plain": [
       "<Figure size 432x288 with 1 Axes>"
      ]
     },
     "metadata": {},
     "output_type": "display_data"
    }
   ],
   "source": [
    "SUZB3['return'].hist(bins = 100, histtype = 'stepfilled', alpha = 1,density = True)\n",
    "x = np.linspace(mean_SUZB3 - 3*std_SUZB3, mean_SUZB3 + 3*std_SUZB3,100)\n",
    "plt.plot(x,mlab.normpdf(x, mean_SUZB3,std_SUZB3),\"r\")\n",
    "plt.show()"
   ]
  },
  {
   "cell_type": "code",
   "execution_count": 10,
   "metadata": {
    "scrolled": true
   },
   "outputs": [
    {
     "name": "stderr",
     "output_type": "stream",
     "text": [
      "C:\\Users\\vipac\\Anaconda3\\lib\\site-packages\\matplotlib\\axes\\_axes.py:6462: UserWarning: The 'normed' kwarg is deprecated, and has been replaced by the 'density' kwarg.\n",
      "  warnings.warn(\"The 'normed' kwarg is deprecated, and has been \"\n",
      "C:\\Users\\vipac\\Anaconda3\\lib\\site-packages\\matplotlib\\axes\\_axes.py:6462: UserWarning: The 'normed' kwarg is deprecated, and has been replaced by the 'density' kwarg.\n",
      "  warnings.warn(\"The 'normed' kwarg is deprecated, and has been \"\n",
      "C:\\Users\\vipac\\Anaconda3\\lib\\site-packages\\matplotlib\\axes\\_axes.py:6462: UserWarning: The 'normed' kwarg is deprecated, and has been replaced by the 'density' kwarg.\n",
      "  warnings.warn(\"The 'normed' kwarg is deprecated, and has been \"\n",
      "C:\\Users\\vipac\\Anaconda3\\lib\\site-packages\\matplotlib\\axes\\_axes.py:6462: UserWarning: The 'normed' kwarg is deprecated, and has been replaced by the 'density' kwarg.\n",
      "  warnings.warn(\"The 'normed' kwarg is deprecated, and has been \"\n",
      "C:\\Users\\vipac\\Anaconda3\\lib\\site-packages\\matplotlib\\axes\\_axes.py:6462: UserWarning: The 'normed' kwarg is deprecated, and has been replaced by the 'density' kwarg.\n",
      "  warnings.warn(\"The 'normed' kwarg is deprecated, and has been \"\n",
      "C:\\Users\\vipac\\Anaconda3\\lib\\site-packages\\matplotlib\\axes\\_axes.py:6462: UserWarning: The 'normed' kwarg is deprecated, and has been replaced by the 'density' kwarg.\n",
      "  warnings.warn(\"The 'normed' kwarg is deprecated, and has been \"\n",
      "C:\\Users\\vipac\\Anaconda3\\lib\\site-packages\\matplotlib\\axes\\_axes.py:6462: UserWarning: The 'normed' kwarg is deprecated, and has been replaced by the 'density' kwarg.\n",
      "  warnings.warn(\"The 'normed' kwarg is deprecated, and has been \"\n",
      "C:\\Users\\vipac\\Anaconda3\\lib\\site-packages\\matplotlib\\axes\\_axes.py:6462: UserWarning: The 'normed' kwarg is deprecated, and has been replaced by the 'density' kwarg.\n",
      "  warnings.warn(\"The 'normed' kwarg is deprecated, and has been \"\n",
      "C:\\Users\\vipac\\Anaconda3\\lib\\site-packages\\matplotlib\\axes\\_axes.py:6462: UserWarning: The 'normed' kwarg is deprecated, and has been replaced by the 'density' kwarg.\n",
      "  warnings.warn(\"The 'normed' kwarg is deprecated, and has been \"\n",
      "C:\\Users\\vipac\\Anaconda3\\lib\\site-packages\\matplotlib\\axes\\_axes.py:6462: UserWarning: The 'normed' kwarg is deprecated, and has been replaced by the 'density' kwarg.\n",
      "  warnings.warn(\"The 'normed' kwarg is deprecated, and has been \"\n"
     ]
    },
    {
     "data": {
      "image/png": "[encoded data removed]",
      "text/plain": [
       "<Figure size 432x288 with 1 Axes>"
      ]
     },
     "metadata": {},
     "output_type": "display_data"
    },
    {
     "data": {
      "image/png": "[encoded data removed]",
      "text/plain": [
       "<Figure size 432x288 with 1 Axes>"
      ]
     },
     "metadata": {},
     "output_type": "display_data"
    },
    {
     "data": {
      "image/png": "[encoded data removed]",
      "text/plain": [
       "<Figure size 432x288 with 1 Axes>"
      ]
     },
     "metadata": {},
     "output_type": "display_data"
    },
    {
     "data": {
      "image/png": "[encoded data removed]",
      "text/plain": [
       "<Figure size 432x288 with 1 Axes>"
      ]
     },
     "metadata": {},
     "output_type": "display_data"
    },
    {
     "data": {
      "image/png": "[encoded data removed]",
      "text/plain": [
       "<Figure size 432x288 with 1 Axes>"
      ]
     },
     "metadata": {},
     "output_type": "display_data"
    },
    {
     "data": {
      "image/png": "[encoded data removed]",
      "text/plain": [
       "<Figure size 432x288 with 1 Axes>"
      ]
     },
     "metadata": {},
     "output_type": "display_data"
    },
    {
     "data": {
      "image/png": "[encoded data removed]",
      "text/plain": [
       "<Figure size 432x288 with 1 Axes>"
      ]
     },
     "metadata": {},
     "output_type": "display_data"
    },
    {
     "data": {
      "image/png": "[encoded data removed]",
      "text/plain": [
       "<Figure size 432x288 with 1 Axes>"
      ]
     },
     "metadata": {},
     "output_type": "display_data"
    },
    {
     "data": {
      "image/png": "[encoded data removed]",
      "text/plain": [
       "<Figure size 432x288 with 1 Axes>"
      ]
     },
     "metadata": {},
     "output_type": "display_data"
    },
    {
     "data": {
      "image/png": "[encoded data removed]",
      "text/plain": [
       "<Figure size 432x288 with 1 Axes>"
      ]
     },
     "metadata": {},
     "output_type": "display_data"
    }
   ],
   "source": [
    "for i in best:\n",
    "    i.hist(column = 'return', bins = 100, normed = True, histtype = 'stepfilled', alpha = 1, label = 'i')\n",
    "    plt.ylabel('Frequency')"
   ]
  },
  {
   "cell_type": "code",
   "execution_count": 11,
   "metadata": {},
   "outputs": [
    {
     "name": "stderr",
     "output_type": "stream",
     "text": [
      "C:\\Users\\vipac\\Anaconda3\\lib\\site-packages\\matplotlib\\axes\\_axes.py:6462: UserWarning: The 'normed' kwarg is deprecated, and has been replaced by the 'density' kwarg.\n",
      "  warnings.warn(\"The 'normed' kwarg is deprecated, and has been \"\n",
      "C:\\Users\\vipac\\Anaconda3\\lib\\site-packages\\matplotlib\\axes\\_axes.py:6462: UserWarning: The 'normed' kwarg is deprecated, and has been replaced by the 'density' kwarg.\n",
      "  warnings.warn(\"The 'normed' kwarg is deprecated, and has been \"\n",
      "C:\\Users\\vipac\\Anaconda3\\lib\\site-packages\\matplotlib\\axes\\_axes.py:6462: UserWarning: The 'normed' kwarg is deprecated, and has been replaced by the 'density' kwarg.\n",
      "  warnings.warn(\"The 'normed' kwarg is deprecated, and has been \"\n",
      "C:\\Users\\vipac\\Anaconda3\\lib\\site-packages\\matplotlib\\axes\\_axes.py:6462: UserWarning: The 'normed' kwarg is deprecated, and has been replaced by the 'density' kwarg.\n",
      "  warnings.warn(\"The 'normed' kwarg is deprecated, and has been \"\n",
      "C:\\Users\\vipac\\Anaconda3\\lib\\site-packages\\matplotlib\\axes\\_axes.py:6462: UserWarning: The 'normed' kwarg is deprecated, and has been replaced by the 'density' kwarg.\n",
      "  warnings.warn(\"The 'normed' kwarg is deprecated, and has been \"\n",
      "C:\\Users\\vipac\\Anaconda3\\lib\\site-packages\\matplotlib\\axes\\_axes.py:6462: UserWarning: The 'normed' kwarg is deprecated, and has been replaced by the 'density' kwarg.\n",
      "  warnings.warn(\"The 'normed' kwarg is deprecated, and has been \"\n",
      "C:\\Users\\vipac\\Anaconda3\\lib\\site-packages\\matplotlib\\axes\\_axes.py:6462: UserWarning: The 'normed' kwarg is deprecated, and has been replaced by the 'density' kwarg.\n",
      "  warnings.warn(\"The 'normed' kwarg is deprecated, and has been \"\n",
      "C:\\Users\\vipac\\Anaconda3\\lib\\site-packages\\matplotlib\\axes\\_axes.py:6462: UserWarning: The 'normed' kwarg is deprecated, and has been replaced by the 'density' kwarg.\n",
      "  warnings.warn(\"The 'normed' kwarg is deprecated, and has been \"\n",
      "C:\\Users\\vipac\\Anaconda3\\lib\\site-packages\\matplotlib\\axes\\_axes.py:6462: UserWarning: The 'normed' kwarg is deprecated, and has been replaced by the 'density' kwarg.\n",
      "  warnings.warn(\"The 'normed' kwarg is deprecated, and has been \"\n",
      "C:\\Users\\vipac\\Anaconda3\\lib\\site-packages\\matplotlib\\axes\\_axes.py:6462: UserWarning: The 'normed' kwarg is deprecated, and has been replaced by the 'density' kwarg.\n",
      "  warnings.warn(\"The 'normed' kwarg is deprecated, and has been \"\n"
     ]
    },
    {
     "data": {
      "image/png": "[encoded data removed]",
      "text/plain": [
       "<Figure size 432x288 with 1 Axes>"
      ]
     },
     "metadata": {},
     "output_type": "display_data"
    },
    {
     "data": {
      "image/png": "[encoded data removed]",
      "text/plain": [
       "<Figure size 432x288 with 1 Axes>"
      ]
     },
     "metadata": {},
     "output_type": "display_data"
    },
    {
     "data": {
      "image/png": "[encoded data removed]",
      "text/plain": [
       "<Figure size 432x288 with 1 Axes>"
      ]
     },
     "metadata": {},
     "output_type": "display_data"
    },
    {
     "data": {
      "image/png": "[encoded data removed]",
      "text/plain": [
       "<Figure size 432x288 with 1 Axes>"
      ]
     },
     "metadata": {},
     "output_type": "display_data"
    },
    {
     "data": {
      "image/png": "[encoded data removed]",
      "text/plain": [
       "<Figure size 432x288 with 1 Axes>"
      ]
     },
     "metadata": {},
     "output_type": "display_data"
    },
    {
     "data": {
      "image/png": "[encoded data removed]",
      "text/plain": [
       "<Figure size 432x288 with 1 Axes>"
      ]
     },
     "metadata": {},
     "output_type": "display_data"
    },
    {
     "data": {
      "image/png": "[encoded data removed]",
      "text/plain": [
       "<Figure size 432x288 with 1 Axes>"
      ]
     },
     "metadata": {},
     "output_type": "display_data"
    },
    {
     "data": {
      "image/png": "[encoded data removed]",
      "text/plain": [
       "<Figure size 432x288 with 1 Axes>"
      ]
     },
     "metadata": {},
     "output_type": "display_data"
    },
    {
     "data": {
      "image/png": "[encoded data removed]",
      "text/plain": [
       "<Figure size 432x288 with 1 Axes>"
      ]
     },
     "metadata": {},
     "output_type": "display_data"
    },
    {
     "data": {
      "image/png": "[encoded data removed]",
      "text/plain": [
       "<Figure size 432x288 with 1 Axes>"
      ]
     },
     "metadata": {},
     "output_type": "display_data"
    }
   ],
   "source": [
    "for i in worst:\n",
    "    i.hist(column = 'return', bins = 100, normed = True, histtype = 'stepfilled', alpha = 1, label = i)"
   ]
  },
  {
   "cell_type": "code",
   "execution_count": 36,
   "metadata": {
    "scrolled": true
   },
   "outputs": [
    {
     "name": "stdout",
     "output_type": "stream",
     "text": [
      "CL_best        SUZB3     MGLU3      FIBR3      BTOW3      VALE3      BRKM5      EMBR3      PETR4       CPFE3      KLBN4\n",
      "---------  ---------  --------  ---------  ---------  ---------  ---------  ---------  ---------  ----------  ---------\n",
      "90%        -0.124662  -1.08002  -0.519679  -0.161067  -0.477222  -0.582663  -0.589467  -0.352852  -0.0493235  -0.874245\n",
      "95%        -0.161732  -1.41534  -0.674996  -0.208371  -0.622868  -0.760764  -0.767121  -0.458321  -0.0634544  -1.14706\n",
      "CL_worst        BRFS3      KROT3      ELET6      QUAL3      UGPA3      ECOR3      ELET3      CCRO3      SBSP3      GOLL4\n",
      "----------  ---------  ---------  ---------  ---------  ---------  ---------  ---------  ---------  ---------  ---------\n",
      "90%         -0.183841  -0.166812  -0.521005  -0.15289   -0.629988  -0.185747  -0.211944  -0.461746  -0.14017   -0.23831\n",
      "95%         -0.239061  -0.216325  -0.67823   -0.197942  -0.821499  -0.240481  -0.272544  -0.600871  -0.181772  -0.308516\n"
     ]
    }
   ],
   "source": [
    "VaR_90 = [\n",
    "norm.ppf(1-0.9, mean_SUZB3, std_SUZB3),\n",
    "norm.ppf(1-0.9, mean_MGLU3, std_MGLU3),\n",
    "norm.ppf(1-0.9, mean_FIBR3, std_FIBR3),\n",
    "norm.ppf(1-0.9, mean_BTOW3, std_BTOW3),\n",
    "norm.ppf(1-0.9, mean_VALE3, std_VALE3),\n",
    "norm.ppf(1-0.9, mean_BRKM5, std_BRKM5),\n",
    "norm.ppf(1-0.9, mean_EMBR3, std_EMBR3),\n",
    "norm.ppf(1-0.9, mean_PETR4, std_PETR4),\n",
    "norm.ppf(1-0.9, mean_CPFE3, std_CPFE3),\n",
    "norm.ppf(1-0.9, mean_KLBN4, std_KLBN4),\n",
    "norm.ppf(1-0.9, mean_BRFS3, std_BRFS3),\n",
    "norm.ppf(1-0.9, mean_KROT3, std_KROT3),\n",
    "norm.ppf(1-0.9, mean_ELET6, std_ELET6),\n",
    "norm.ppf(1-0.9, mean_QUAL3, std_QUAL3),\n",
    "norm.ppf(1-0.9, mean_UGPA3, std_UGPA3),\n",
    "norm.ppf(1-0.9, mean_ECOR3, std_ECOR3),\n",
    "norm.ppf(1-0.9, mean_ELET3, std_ELET3),\n",
    "norm.ppf(1-0.9, mean_CCRO3, std_CCRO3),\n",
    "norm.ppf(1-0.9, mean_SBSP3, std_SBSP3),\n",
    "norm.ppf(1-0.9, mean_GOLL4, std_GOLL4)]\n",
    "\n",
    "VaR_95 = [\n",
    "norm.ppf(1-0.95, mean_SUZB3, std_SUZB3),\n",
    "norm.ppf(1-0.95, mean_MGLU3, std_MGLU3),\n",
    "norm.ppf(1-0.95, mean_FIBR3, std_FIBR3),\n",
    "norm.ppf(1-0.95, mean_BTOW3, std_BTOW3),\n",
    "norm.ppf(1-0.95, mean_VALE3, std_VALE3),\n",
    "norm.ppf(1-0.95, mean_BRKM5, std_BRKM5),\n",
    "norm.ppf(1-0.95, mean_EMBR3, std_EMBR3),\n",
    "norm.ppf(1-0.95, mean_PETR4, std_PETR4),\n",
    "norm.ppf(1-0.95, mean_CPFE3, std_CPFE3),\n",
    "norm.ppf(1-0.95, mean_KLBN4, std_KLBN4),\n",
    "norm.ppf(1-0.95, mean_BRFS3, std_BRFS3),\n",
    "norm.ppf(1-0.95, mean_KROT3, std_KROT3),\n",
    "norm.ppf(1-0.95, mean_ELET6, std_ELET6),\n",
    "norm.ppf(1-0.95, mean_QUAL3, std_QUAL3),\n",
    "norm.ppf(1-0.95, mean_UGPA3, std_UGPA3),\n",
    "norm.ppf(1-0.95, mean_ECOR3, std_ECOR3),\n",
    "norm.ppf(1-0.95, mean_ELET3, std_ELET3),\n",
    "norm.ppf(1-0.95, mean_CCRO3, std_CCRO3),\n",
    "norm.ppf(1-0.95, mean_SBSP3, std_SBSP3),\n",
    "norm.ppf(1-0.95, mean_GOLL4, std_GOLL4)\n",
    "]\n",
    "\n",
    "print(tabulate([['90%', VaR_90[0], VaR_90[1], VaR_90[2], VaR_90[3], VaR_90[4], VaR_90[5], VaR_90[6], VaR_90[7], VaR_90[8], VaR_90[9]],\n",
    "                ['95%', VaR_95[0], VaR_95[1], VaR_95[2], VaR_95[3], VaR_95[4], VaR_95[5], VaR_95[6], VaR_95[7], VaR_95[8], VaR_95[9]]], \n",
    "               headers = ['CL_best', 'SUZB3', 'MGLU3','FIBR3', 'BTOW3', 'VALE3', 'BRKM5', 'EMBR3','PETR4', 'CPFE3', 'KLBN4']))\n",
    "\n",
    "\n",
    "\n",
    "print(tabulate([['90%', VaR_90[10], VaR_90[11], VaR_90[12], VaR_90[13], VaR_90[14], VaR_90[15], VaR_90[16], VaR_90[17], VaR_90[18], VaR_90[19]],\n",
    "                ['95%', VaR_95[10], VaR_95[11], VaR_95[12], VaR_95[13], VaR_95[14], VaR_95[15], VaR_95[16], VaR_95[17], VaR_95[18], VaR_95[19]]], \n",
    "               headers = ['CL_worst', 'BRFS3', 'KROT3','ELET6', 'QUAL3', 'UGPA3', 'ECOR3', 'ELET3','CCRO3', 'SBSP3', 'GOLL4']))"
   ]
  },
  {
   "cell_type": "code",
   "execution_count": 13,
   "metadata": {},
   "outputs": [
    {
     "data": {
      "text/html": [
       "<div>\n",
       "<style scoped>\n",
       "    .dataframe tbody tr th:only-of-type {\n",
       "        vertical-align: middle;\n",
       "    }\n",
       "\n",
       "    .dataframe tbody tr th {\n",
       "        vertical-align: top;\n",
       "    }\n",
       "\n",
       "    .dataframe thead th {\n",
       "        text-align: right;\n",
       "    }\n",
       "</style>\n",
       "<table border=\"1\" class=\"dataframe\">\n",
       "  <thead>\n",
       "    <tr style=\"text-align: right;\">\n",
       "      <th></th>\n",
       "      <th>mean</th>\n",
       "      <th>return</th>\n",
       "    </tr>\n",
       "  </thead>\n",
       "  <tbody>\n",
       "    <tr>\n",
       "      <th>0</th>\n",
       "      <td>43.325714</td>\n",
       "      <td>NaN</td>\n",
       "    </tr>\n",
       "    <tr>\n",
       "      <th>1</th>\n",
       "      <td>38.589362</td>\n",
       "      <td>-0.109320</td>\n",
       "    </tr>\n",
       "    <tr>\n",
       "      <th>2</th>\n",
       "      <td>44.747905</td>\n",
       "      <td>0.159592</td>\n",
       "    </tr>\n",
       "    <tr>\n",
       "      <th>3</th>\n",
       "      <td>45.031827</td>\n",
       "      <td>0.006345</td>\n",
       "    </tr>\n",
       "    <tr>\n",
       "      <th>4</th>\n",
       "      <td>45.872858</td>\n",
       "      <td>0.018676</td>\n",
       "    </tr>\n",
       "  </tbody>\n",
       "</table>\n",
       "</div>"
      ],
      "text/plain": [
       "        mean    return\n",
       "0  43.325714       NaN\n",
       "1  38.589362 -0.109320\n",
       "2  44.747905  0.159592\n",
       "3  45.031827  0.006345\n",
       "4  45.872858  0.018676"
      ]
     },
     "execution_count": 13,
     "metadata": {},
     "output_type": "execute_result"
    }
   ],
   "source": [
    "SUZB3.head(5)"
   ]
  },
  {
   "cell_type": "code",
   "execution_count": null,
   "metadata": {},
   "outputs": [],
   "source": [
    "for i in best:\n",
    "    i.sort_values('return', inplace = True, ascending = True)"
   ]
  },
  {
   "cell_type": "code",
   "execution_count": 10,
   "metadata": {
    "scrolled": true
   },
   "outputs": [
    {
     "name": "stdout",
     "output_type": "stream",
     "text": [
      "Index best         SUZB3     MGLU3     FIBR3     BTOW3     VALE3     BRKM5     EMBR3     PETR4     CPFE3     KLBN4\n",
      "--------------  --------  --------  --------  --------  --------  --------  --------  --------  --------  --------\n",
      "Kurtosis index  92.5548   28.0477   66.5541   22.482    86.1418   76.8145   56.589    16.4221   35.2699   40.9267\n",
      "skew index       9.53193   4.10201   7.79079   2.83331   9.10294   8.44916   6.43124   2.59027  -1.41377   6.00502\n",
      "Index worst        BRFS3     KROT3     ELET6     QUAL3     UGPA3     ECOR3     ELET3     CCRO3     SBSP3     GOLL4\n",
      "--------------  --------  --------  --------  --------  --------  --------  --------  --------  --------  --------\n",
      "Kurtosis index  22.2145   54.2766   46.072    23.4323   31.0169   37.3447   30.0154   46.9838   87.6053   8.33202\n",
      "skew index       3.24169   6.67127   6.02131   3.23525   4.39256   5.40468   2.47778   5.78212   9.22175  0.673245\n"
     ]
    }
   ],
   "source": [
    "kurto_index = []\n",
    "for i in best:\n",
    "    kurto_index.append(kurtosis(i['return'][1:]))\n",
    "for i in worst:\n",
    "    kurto_index.append(kurtosis(i['return'][1:]))\n",
    "\n",
    "skew_index = []\n",
    "for i in best:\n",
    "    skew_index.append(skew(i['return'][1:]))\n",
    "for i in worst:\n",
    "    skew_index.append(skew(i['return'][1:]))\n",
    "    \n",
    "\n",
    "    \n",
    "print(tabulate([['Kurtosis index', kurto_index[0], kurto_index[1], kurto_index[2], kurto_index[3], kurto_index[4], kurto_index[5], kurto_index[6], kurto_index[7], kurto_index[8], kurto_index[9]],\n",
    "                ['skew index', skew_index[0], skew_index[1], skew_index[2], skew_index[3], skew_index[4], skew_index[5], skew_index[6], skew_index[7], skew_index[8], skew_index[9]]], \n",
    "               headers = ['Index best', 'SUZB3', 'MGLU3','FIBR3', 'BTOW3', 'VALE3', 'BRKM5', 'EMBR3','PETR4', 'CPFE3', 'KLBN4']))\n",
    "\n",
    "\n",
    "print(tabulate([['Kurtosis index ', kurto_index[10], kurto_index[11], kurto_index[12], kurto_index[13], kurto_index[14], kurto_index[15], kurto_index[16], kurto_index[17], kurto_index[18], kurto_index[19]],\n",
    "                ['skew index', skew_index[10], skew_index[11], skew_index[12], skew_index[13], skew_index[14], skew_index[15], skew_index[16], skew_index[17], skew_index[18], skew_index[19]]], \n",
    "               headers = ['Index worst', 'BRFS3', 'KROT3','ELET6', 'QUAL3', 'UGPA3', 'ECOR3', 'ELET3','CCRO3', 'SBSP3', 'GOLL4']))"
   ]
  },
  {
   "cell_type": "code",
   "execution_count": 12,
   "metadata": {
    "scrolled": true
   },
   "outputs": [
    {
     "data": {
      "text/plain": [
       "[9.53,\n",
       " 4.1,\n",
       " 7.79,\n",
       " 2.83,\n",
       " 9.1,\n",
       " 8.45,\n",
       " 6.43,\n",
       " 2.59,\n",
       " -1.41,\n",
       " 6.01,\n",
       " 3.24,\n",
       " 6.67,\n",
       " 6.02,\n",
       " 3.24,\n",
       " 4.39,\n",
       " 5.4,\n",
       " 2.48,\n",
       " 5.78,\n",
       " 9.22,\n",
       " 0.67]"
      ]
     },
     "execution_count": 12,
     "metadata": {},
     "output_type": "execute_result"
    }
   ],
   "source": [
    "myList = list(np.around(np.array(skew_index),2))\n",
    "myList"
   ]
  },
  {
   "cell_type": "code",
   "execution_count": 10,
   "metadata": {},
   "outputs": [
    {
     "data": {
      "text/plain": [
       "[array([5426.28,    0.  ]),\n",
       " array([18453.56,     0.  ]),\n",
       " array([31011.87,     0.  ]),\n",
       " array([20697.2,     0. ]),\n",
       " array([23490.69,     0.  ]),\n",
       " array([21640.81,     0.  ]),\n",
       " array([34588.99,     0.  ]),\n",
       " array([33330.9,     0. ]),\n",
       " array([1166.59,    0.  ]),\n",
       " array([17544.75,     0.  ]),\n",
       " array([2175.47,    0.  ]),\n",
       " array([18042.34,     0.  ]),\n",
       " array([33814.5,     0. ]),\n",
       " array([14741.16,     0.  ]),\n",
       " array([32914.16,     0.  ]),\n",
       " array([26552.77,     0.  ]),\n",
       " array([3646.15,    0.  ]),\n",
       " array([28651.89,     0.  ]),\n",
       " array([11748.3,     0. ]),\n",
       " array([12053.24,     0.  ])]"
      ]
     },
     "execution_count": 10,
     "metadata": {},
     "output_type": "execute_result"
    }
   ],
   "source": [
    "JB_index = []\n",
    "for i in best:\n",
    "    JB_index.append(jarque_bera(i['return'][1:]))\n",
    "for i in worst:\n",
    "    JB_index.append(jarque_bera(i['return'][1:]))\n",
    "\n",
    "jar = list(np.around(np.array(JB_index),2))\n",
    "jar"
   ]
  },
  {
   "cell_type": "code",
   "execution_count": 11,
   "metadata": {},
   "outputs": [],
   "source": [
    "kurto_index = []\n",
    "for i in best:\n",
    "    kurto_index.append(kurtosis(i['return'][1:]))\n",
    "for i in worst:\n",
    "    kurto_index.append(kurtosis(i['return'][1:]))\n",
    "\n",
    "skew_index = []\n",
    "for i in best:\n",
    "    skew_index.append(skew(i['return'][1:]))\n",
    "for i in worst:\n",
    "    skew_index.append(skew(i['return'][1:]))\n",
    "\n",
    "print(tabulate([['Kurtosis index', kurto_index[0], kurto_index[1], kurto_index[2], kurto_index[3], kurto_index[4], kurto_index[5], kurto_index[6], kurto_index[7], kurto_index[8], kurto_index[9]],\n",
    "                ['skew index', skew_index[0], skew_index[1], skew_index[2], skew_index[3], skew_index[4], skew_index[5], skew_index[6], skew_index[7], skew_index[8], skew_index[9]]], \n",
    "               headers = ['Index best', 'SUZB3', 'MGLU3','FIBR3', 'BTOW3', 'VALE3', 'BRKM5', 'EMBR3','PETR4', 'CPFE3', 'KLBN4']))\n",
    "\n",
    "\n",
    "print(tabulate([['Kurtosis index ', kurto_index[10], kurto_index[11], kurto_index[12], kurto_index[13], kurto_index[14], kurto_index[15], kurto_index[16], kurto_index[17], kurto_index[18], kurto_index[19]],\n",
    "                ['skew index', skew_index[10], skew_index[11], skew_index[12], skew_index[13], skew_index[14], skew_index[15], skew_index[16], skew_index[17], skew_index[18], skew_index[19]]], \n",
    "               headers = ['Index worst', 'BRFS3', 'KROT3','ELET6', 'QUAL3', 'UGPA3', 'ECOR3', 'ELET3','CCRO3', 'SBSP3', 'GOLL4']))"
   ]
  },
  {
   "cell_type": "code",
   "execution_count": 34,
   "metadata": {},
   "outputs": [
    {
     "data": {
      "text/plain": [
       "[2.97221914902826,\n",
       " 7.83798617421526,\n",
       " 9.095345767968416,\n",
       " 7.5785125097132156,\n",
       " 8.179338213573075,\n",
       " 8.076985573035808,\n",
       " 9.364864893708233,\n",
       " 8.918333344223203,\n",
       " 1.4044594133120059,\n",
       " 7.970508885407335,\n",
       " 3.1629302974105746,\n",
       " 6.73487854348844,\n",
       " 9.267381727123757,\n",
       " 5.966040284738411,\n",
       " 9.136968310893097,\n",
       " 8.267633894644744,\n",
       " 2.9348926192611997,\n",
       " 8.718768878776029,\n",
       " 5.482778209981417,\n",
       " 6.324950524942188]"
      ]
     },
     "execution_count": 34,
     "metadata": {},
     "output_type": "execute_result"
    }
   ],
   "source": [
    "skew_index"
   ]
  },
  {
   "cell_type": "code",
   "execution_count": null,
   "metadata": {},
   "outputs": [],
   "source": []
  },
  {
   "cell_type": "code",
   "execution_count": null,
   "metadata": {},
   "outputs": [],
   "source": []
  },
  {
   "cell_type": "code",
   "execution_count": null,
   "metadata": {},
   "outputs": [],
   "source": []
  },
  {
   "cell_type": "code",
   "execution_count": null,
   "metadata": {},
   "outputs": [],
   "source": []
  },
  {
   "cell_type": "markdown",
   "metadata": {},
   "source": [
    "# Expected Shortfall"
   ]
  },
  {
   "cell_type": "code",
   "execution_count": 11,
   "metadata": {},
   "outputs": [],
   "source": [
    "# SUZB3\n",
    "SUZB3.sort_values('return', inplace = True, ascending = True)\n",
    "\n",
    "# MGLU3\n",
    "MGLU3.sort_values('return', inplace = True, ascending = True)\n",
    "\n",
    "# FIBR3\n",
    "FIBR3.sort_values('return', inplace = True, ascending = True)\n",
    "\n",
    "# BTOW3\n",
    "BTOW3.sort_values('return', inplace = True, ascending = True)\n",
    "\n",
    "# VALE3\n",
    "VALE3.sort_values('return', inplace = True, ascending = True)\n",
    "\n",
    "# BRKM5\n",
    "BRKM5.sort_values('return', inplace = True, ascending = True)\n",
    "\n",
    "# EMBR3\n",
    "EMBR3.sort_values('return', inplace = True, ascending = True)\n",
    "\n",
    "# PETR4\n",
    "PETR4.sort_values('return', inplace = True, ascending = True)\n",
    "\n",
    "# CPFE3\n",
    "CPFE3.sort_values('return', inplace = True, ascending = True)\n",
    "\n",
    "# KLBN4\n",
    "KLBN4.sort_values('return', inplace = True, ascending = True)\n",
    "\n",
    "# BRFS3\n",
    "BRFS3.sort_values('return', inplace = True, ascending = True)\n",
    "\n",
    "# KROT3\n",
    "KROT3.sort_values('return', inplace = True, ascending = True)\n",
    "\n",
    "# ELET6\n",
    "ELET6.sort_values('return', inplace = True, ascending = True)\n",
    "\n",
    "# QUAL3\n",
    "QUAL3.sort_values('return', inplace = True, ascending = True)\n",
    "\n",
    "# UGPA3\n",
    "UGPA3.sort_values('return', inplace = True, ascending = True)\n",
    "\n",
    "# ECOR3\n",
    "ECOR3.sort_values('return', inplace = True, ascending = True)\n",
    "\n",
    "# ELET3\n",
    "ELET3.sort_values('return', inplace = True, ascending = True)\n",
    "\n",
    "# CCRO3\n",
    "CCRO3.sort_values('return', inplace = True, ascending = True)\n",
    "\n",
    "# SBSP3\n",
    "SBSP3.sort_values('return', inplace = True, ascending = True)\n",
    "\n",
    "# GOLL4\n",
    "GOLL4.sort_values('return', inplace = True, ascending = True)"
   ]
  },
  {
   "cell_type": "code",
   "execution_count": 12,
   "metadata": {},
   "outputs": [
    {
     "name": "stdout",
     "output_type": "stream",
     "text": [
      "CL_best         SUZB3       MGLU3       FIBR3       BTOW3       VALE3       BRKM5       EMBR3       PETR4       CPFE3      KLBN4\n",
      "---------  ----------  ----------  ----------  ----------  ----------  ----------  ----------  ----------  ----------  ---------\n",
      "90%        -0.0294558  -0.0265923  -0.0163942  -0.0319108  -0.0179333  -0.0189125  -0.0221078  -0.0174731  -0.0141509  -0.115174\n",
      "95%        -0.0440674  -0.0888576  -0.0664997  -0.0529762  -0.0422093  -0.120148   -0.0538966  -0.0582566  -0.0351348  -0.177107\n",
      "CL_worst         BRFS3       KROT3       ELET6       QUAL3       UGPA3       ECOR3       ELET3       CCRO3       SBSP3       GOLL4\n",
      "----------  ----------  ----------  ----------  ----------  ----------  ----------  ----------  ----------  ----------  ----------\n",
      "90%         -0.022163   -0.0187937  -0.0288427  -0.0305964  -0.0237697  -0.015068   -0.0223405  -0.025386   -0.0162307  -0.0484707\n",
      "95%         -0.0654729  -0.0255653  -0.0396339  -0.0472045  -0.0428327  -0.0291199  -0.105484   -0.0617183  -0.0246727  -0.12997\n"
     ]
    }
   ],
   "source": [
    "ES_90 = [\n",
    "SUZB3['return'].quantile(0.1),\n",
    "MGLU3['return'].quantile(0.1),\n",
    "FIBR3['return'].quantile(0.1),\n",
    "BTOW3['return'].quantile(0.1),\n",
    "VALE3['return'].quantile(0.1),\n",
    "BRKM5['return'].quantile(0.1),\n",
    "EMBR3['return'].quantile(0.1),\n",
    "PETR4['return'].quantile(0.1),\n",
    "CPFE3['return'].quantile(0.1),\n",
    "KLBN4['return'].quantile(0.1),\n",
    "BRFS3['return'].quantile(0.1),\n",
    "KROT3['return'].quantile(0.1),\n",
    "ELET6['return'].quantile(0.1),\n",
    "QUAL3['return'].quantile(0.1),\n",
    "UGPA3['return'].quantile(0.1),\n",
    "ECOR3['return'].quantile(0.1),\n",
    "ELET3['return'].quantile(0.1),\n",
    "CCRO3['return'].quantile(0.1),\n",
    "SBSP3['return'].quantile(0.1),\n",
    "GOLL4['return'].quantile(0.1)    \n",
    "]\n",
    "\n",
    "ES_95 = [\n",
    "SUZB3['return'].quantile(0.05),\n",
    "MGLU3['return'].quantile(0.05),\n",
    "FIBR3['return'].quantile(0.05),\n",
    "BTOW3['return'].quantile(0.05),\n",
    "VALE3['return'].quantile(0.05),\n",
    "BRKM5['return'].quantile(0.05),\n",
    "EMBR3['return'].quantile(0.05),\n",
    "PETR4['return'].quantile(0.05),\n",
    "CPFE3['return'].quantile(0.05),\n",
    "KLBN4['return'].quantile(0.05),\n",
    "BRFS3['return'].quantile(0.05),\n",
    "KROT3['return'].quantile(0.05),\n",
    "ELET6['return'].quantile(0.05),\n",
    "QUAL3['return'].quantile(0.05),\n",
    "UGPA3['return'].quantile(0.05),\n",
    "ECOR3['return'].quantile(0.05),\n",
    "ELET3['return'].quantile(0.05),\n",
    "CCRO3['return'].quantile(0.05),\n",
    "SBSP3['return'].quantile(0.05),\n",
    "GOLL4['return'].quantile(0.05)    \n",
    "]\n",
    "\n",
    "print(tabulate([['90%', ES_90[0], ES_90[1], ES_90[2], ES_90[3], ES_90[4], ES_90[5], ES_90[6], ES_90[7], ES_90[8], ES_90[9]],\n",
    "                ['95%', ES_95[0], ES_95[1], ES_95[2], ES_95[3], ES_95[4], ES_95[5], ES_95[6], ES_95[7], ES_95[8], ES_95[9]]], \n",
    "               headers = ['CL_best', 'SUZB3', 'MGLU3','FIBR3', 'BTOW3', 'VALE3', 'BRKM5', 'EMBR3','PETR4', 'CPFE3', 'KLBN4']))\n",
    "\n",
    "\n",
    "\n",
    "print(tabulate([['90%', ES_90[10], ES_90[11], ES_90[12], ES_90[13], ES_90[14], ES_90[15], ES_90[16], ES_90[17], ES_90[18], ES_90[19]],\n",
    "                ['95%', ES_95[10], ES_95[11], ES_95[12], ES_95[13], ES_95[14], ES_95[15], ES_95[16], ES_95[17], ES_95[18], ES_95[19]]], \n",
    "               headers = ['CL_worst', 'BRFS3', 'KROT3','ELET6', 'QUAL3', 'UGPA3', 'ECOR3', 'ELET3','CCRO3', 'SBSP3', 'GOLL4']))"
   ]
  },
  {
   "cell_type": "code",
   "execution_count": null,
   "metadata": {},
   "outputs": [],
   "source": []
  }
 ],
 "metadata": {
  "kernelspec": {
   "display_name": "Python 3",
   "language": "python",
   "name": "python3"
  },
  "language_info": {
   "codemirror_mode": {
    "name": "ipython",
    "version": 3
   },
   "file_extension": ".py",
   "mimetype": "text/x-python",
   "name": "python",
   "nbconvert_exporter": "python",
   "pygments_lexer": "ipython3",
   "version": "3.6.5"
  }
 },
 "nbformat": 4,
 "nbformat_minor": 2
}
