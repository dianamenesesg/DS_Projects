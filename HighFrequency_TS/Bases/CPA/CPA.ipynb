{
 "cells": [
  {
   "cell_type": "markdown",
   "metadata": {},
   "source": [
    "# First things first"
   ]
  },
  {
   "cell_type": "code",
   "execution_count": null,
   "metadata": {},
   "outputs": [],
   "source": [
    "import os, sys\n",
    "import warnings\n",
    "\n",
    "main_path = os.getcwd()\n",
    "\n",
    "if not sys.warnoptions:\n",
    "    warnings.simplefilter(\"ignore\")"
   ]
  },
  {
   "cell_type": "code",
   "execution_count": 2,
   "metadata": {},
   "outputs": [],
   "source": [
    "# Data manipulation\n",
    "import numpy as np\n",
    "import pandas as pd\n",
    "import datetime\n",
    "from scipy.stats import kurtosis\n",
    "from scipy.stats import skew\n",
    "from scipy.stats import jarque_bera\n",
    "\n",
    "# Plotting\n",
    "import matplotlib.pyplot as plt\n",
    "import seaborn\n",
    "import matplotlib.mlab as mlab\n",
    "\n",
    "# Statistical manipulation\n",
    "from scipy.stats import norm\n",
    "\n",
    "# Tabulate data\n",
    "from tabulate import tabulate\n",
    "\n",
    "#df_vda = pd.read_csv(os.path.join(main_path, r\"Bases\\VDA\\OFER_VDA_20180731.csv\"))"
   ]
  },
  {
   "cell_type": "code",
   "execution_count": 12,
   "metadata": {},
   "outputs": [],
   "source": [
    "# Load\n",
    "\n",
    "df_cpa1 = pd.read_csv(os.path.join(main_path, r\"Bases\\\\CPA\\\\OFER_CPA_20180706.csv\"))\n",
    "df_cpa2 = pd.read_csv(os.path.join(main_path, r\"Bases\\\\CPA\\\\OFER_CPA_20180713.csv\"))\n",
    "df_cpa3 = pd.read_csv(os.path.join(main_path, r\"Bases\\\\CPA\\\\OFER_CPA_20180731.csv\"))\n",
    "df_cpa4 = pd.read_csv(os.path.join(main_path, r\"Bases\\\\CPA\\\\OFER_CPA_20180807.csv\"))\n",
    "df_cpa5 = pd.read_csv(os.path.join(main_path, r\"Bases\\\\CPA\\\\OFER_CPA_20180822.csv\"))\n",
    "df_cpa6 = pd.read_csv(os.path.join(main_path, r\"Bases\\\\CPA\\\\OFER_CPA_20180828.csv\"))\n",
    "df_cpa7 = pd.read_csv(os.path.join(main_path, r\"Bases\\\\CPA\\\\OFER_CPA_20180905.csv\"))\n",
    "df_cpa8 = pd.read_csv(os.path.join(main_path, r\"Bases\\\\CPA\\\\OFER_CPA_20180906.csv\"))\n",
    "df_cpa9 = pd.read_csv(os.path.join(main_path, r\"Bases\\\\CPA\\\\OFER_CPA_20180921.csv\"))\n",
    "df_cpa10 = pd.read_csv(os.path.join(main_path, r\"Bases\\\\CPA\\\\OFER_CPA_20181016.csv\"))\n",
    "df_cpa11 = pd.read_csv(os.path.join(main_path, r\"Bases\\\\CPA\\\\OFER_CPA_20181022.csv\"))\n",
    "df_cpa12 = pd.read_csv(os.path.join(main_path, r\"Bases\\\\CPA\\\\OFER_CPA_20181122.csv\"))"
   ]
  },
  {
   "cell_type": "code",
   "execution_count": 4,
   "metadata": {},
   "outputs": [],
   "source": [
    "#df_cpa = pd.concat([df_cpa1, df_cpa2, df_cpa3, df_cpa4, df_cpa5, df_cpa6, df_cpa7, df_cpa8, df_cpa9], ignore_index=True)\n",
    "df_cpa = pd.concat([df_cpa1, df_cpa2, df_cpa3, df_cpa4, df_cpa5, df_cpa6, df_cpa7, df_cpa8, df_cpa9, df_cpa10, df_cpa11, df_cpa12], ignore_index=True)"
   ]
  },
  {
   "cell_type": "code",
   "execution_count": 11,
   "metadata": {},
   "outputs": [
    {
     "data": {
      "text/html": [
       "<div>\n",
       "<style scoped>\n",
       "    .dataframe tbody tr th:only-of-type {\n",
       "        vertical-align: middle;\n",
       "    }\n",
       "\n",
       "    .dataframe tbody tr th {\n",
       "        vertical-align: top;\n",
       "    }\n",
       "\n",
       "    .dataframe thead th {\n",
       "        text-align: right;\n",
       "    }\n",
       "</style>\n",
       "<table border=\"1\" class=\"dataframe\">\n",
       "  <thead>\n",
       "    <tr style=\"text-align: right;\">\n",
       "      <th></th>\n",
       "      <th>Símbolo_do_Instrumento</th>\n",
       "      <th>Hora_Prioridade</th>\n",
       "      <th>Preço_Of_Compra</th>\n",
       "    </tr>\n",
       "  </thead>\n",
       "  <tbody>\n",
       "    <tr>\n",
       "      <th>0</th>\n",
       "      <td>BRFS3                                         ...</td>\n",
       "      <td>17:29:58.471000</td>\n",
       "      <td>43.42</td>\n",
       "    </tr>\n",
       "    <tr>\n",
       "      <th>1</th>\n",
       "      <td>BRFS3                                         ...</td>\n",
       "      <td>14:17:46.540000</td>\n",
       "      <td>39.40</td>\n",
       "    </tr>\n",
       "    <tr>\n",
       "      <th>2</th>\n",
       "      <td>BRFS3                                         ...</td>\n",
       "      <td>16:05:32.471000</td>\n",
       "      <td>40.20</td>\n",
       "    </tr>\n",
       "    <tr>\n",
       "      <th>3</th>\n",
       "      <td>BRFS3                                         ...</td>\n",
       "      <td>16:14:16.485000</td>\n",
       "      <td>40.22</td>\n",
       "    </tr>\n",
       "    <tr>\n",
       "      <th>4</th>\n",
       "      <td>BRFS3                                         ...</td>\n",
       "      <td>16:40:55.636000</td>\n",
       "      <td>40.30</td>\n",
       "    </tr>\n",
       "  </tbody>\n",
       "</table>\n",
       "</div>"
      ],
      "text/plain": [
       "                              Símbolo_do_Instrumento  Hora_Prioridade  \\\n",
       "0  BRFS3                                         ...  17:29:58.471000   \n",
       "1  BRFS3                                         ...  14:17:46.540000   \n",
       "2  BRFS3                                         ...  16:05:32.471000   \n",
       "3  BRFS3                                         ...  16:14:16.485000   \n",
       "4  BRFS3                                         ...  16:40:55.636000   \n",
       "\n",
       "   Preço_Of_Compra  \n",
       "0            43.42  \n",
       "1            39.40  \n",
       "2            40.20  \n",
       "3            40.22  \n",
       "4            40.30  "
      ]
     },
     "execution_count": 11,
     "metadata": {},
     "output_type": "execute_result"
    }
   ],
   "source": [
    "df_cpa1.head()"
   ]
  },
  {
   "cell_type": "code",
   "execution_count": 13,
   "metadata": {},
   "outputs": [],
   "source": [
    "SUZB31 = df_cpa1.loc[df_cpa.Símbolo_do_Instrumento=='SUZB3                                             ']\n",
    "SUZB31 = SUZB31.sort_values(by=['Hora_Prioridade'])"
   ]
  },
  {
   "cell_type": "code",
   "execution_count": 14,
   "metadata": {},
   "outputs": [
    {
     "data": {
      "text/html": [
       "<div>\n",
       "<style scoped>\n",
       "    .dataframe tbody tr th:only-of-type {\n",
       "        vertical-align: middle;\n",
       "    }\n",
       "\n",
       "    .dataframe tbody tr th {\n",
       "        vertical-align: top;\n",
       "    }\n",
       "\n",
       "    .dataframe thead th {\n",
       "        text-align: right;\n",
       "    }\n",
       "</style>\n",
       "<table border=\"1\" class=\"dataframe\">\n",
       "  <thead>\n",
       "    <tr style=\"text-align: right;\">\n",
       "      <th></th>\n",
       "      <th>Símbolo_do_Instrumento</th>\n",
       "      <th>Hora_Prioridade</th>\n",
       "      <th>Preço_Of_Compra</th>\n",
       "    </tr>\n",
       "  </thead>\n",
       "  <tbody>\n",
       "    <tr>\n",
       "      <th>876350</th>\n",
       "      <td>SUZB3                                         ...</td>\n",
       "      <td>19:45:00.077000</td>\n",
       "      <td>45.00</td>\n",
       "    </tr>\n",
       "    <tr>\n",
       "      <th>879015</th>\n",
       "      <td>SUZB3                                         ...</td>\n",
       "      <td>19:45:00.077000</td>\n",
       "      <td>44.96</td>\n",
       "    </tr>\n",
       "    <tr>\n",
       "      <th>879288</th>\n",
       "      <td>SUZB3                                         ...</td>\n",
       "      <td>19:45:00.077000</td>\n",
       "      <td>45.00</td>\n",
       "    </tr>\n",
       "    <tr>\n",
       "      <th>880707</th>\n",
       "      <td>SUZB3                                         ...</td>\n",
       "      <td>19:45:00.077000</td>\n",
       "      <td>45.00</td>\n",
       "    </tr>\n",
       "    <tr>\n",
       "      <th>888910</th>\n",
       "      <td>SUZB3                                         ...</td>\n",
       "      <td>19:45:00.077000</td>\n",
       "      <td>45.20</td>\n",
       "    </tr>\n",
       "    <tr>\n",
       "      <th>890243</th>\n",
       "      <td>SUZB3                                         ...</td>\n",
       "      <td>19:45:00.077000</td>\n",
       "      <td>43.50</td>\n",
       "    </tr>\n",
       "    <tr>\n",
       "      <th>875671</th>\n",
       "      <td>SUZB3                                         ...</td>\n",
       "      <td>19:45:00.077000</td>\n",
       "      <td>44.50</td>\n",
       "    </tr>\n",
       "    <tr>\n",
       "      <th>895929</th>\n",
       "      <td>SUZB3                                         ...</td>\n",
       "      <td>19:45:00.077000</td>\n",
       "      <td>45.43</td>\n",
       "    </tr>\n",
       "    <tr>\n",
       "      <th>841292</th>\n",
       "      <td>SUZB3                                         ...</td>\n",
       "      <td>19:45:00.077000</td>\n",
       "      <td>42.70</td>\n",
       "    </tr>\n",
       "    <tr>\n",
       "      <th>841296</th>\n",
       "      <td>SUZB3                                         ...</td>\n",
       "      <td>19:45:00.077000</td>\n",
       "      <td>37.00</td>\n",
       "    </tr>\n",
       "    <tr>\n",
       "      <th>895886</th>\n",
       "      <td>SUZB3                                         ...</td>\n",
       "      <td>19:45:00.077000</td>\n",
       "      <td>45.00</td>\n",
       "    </tr>\n",
       "    <tr>\n",
       "      <th>895875</th>\n",
       "      <td>SUZB3                                         ...</td>\n",
       "      <td>19:45:00.077000</td>\n",
       "      <td>45.26</td>\n",
       "    </tr>\n",
       "    <tr>\n",
       "      <th>895818</th>\n",
       "      <td>SUZB3                                         ...</td>\n",
       "      <td>19:45:00.077000</td>\n",
       "      <td>45.25</td>\n",
       "    </tr>\n",
       "    <tr>\n",
       "      <th>895772</th>\n",
       "      <td>SUZB3                                         ...</td>\n",
       "      <td>19:45:00.077000</td>\n",
       "      <td>45.06</td>\n",
       "    </tr>\n",
       "    <tr>\n",
       "      <th>895764</th>\n",
       "      <td>SUZB3                                         ...</td>\n",
       "      <td>19:45:00.077000</td>\n",
       "      <td>44.00</td>\n",
       "    </tr>\n",
       "    <tr>\n",
       "      <th>895088</th>\n",
       "      <td>SUZB3                                         ...</td>\n",
       "      <td>19:45:00.077000</td>\n",
       "      <td>45.00</td>\n",
       "    </tr>\n",
       "    <tr>\n",
       "      <th>895684</th>\n",
       "      <td>SUZB3                                         ...</td>\n",
       "      <td>19:45:00.077000</td>\n",
       "      <td>45.40</td>\n",
       "    </tr>\n",
       "    <tr>\n",
       "      <th>895671</th>\n",
       "      <td>SUZB3                                         ...</td>\n",
       "      <td>19:45:00.077000</td>\n",
       "      <td>45.25</td>\n",
       "    </tr>\n",
       "    <tr>\n",
       "      <th>841294</th>\n",
       "      <td>SUZB3                                         ...</td>\n",
       "      <td>19:45:00.077000</td>\n",
       "      <td>45.05</td>\n",
       "    </tr>\n",
       "    <tr>\n",
       "      <th>895582</th>\n",
       "      <td>SUZB3                                         ...</td>\n",
       "      <td>19:45:00.077000</td>\n",
       "      <td>45.00</td>\n",
       "    </tr>\n",
       "    <tr>\n",
       "      <th>854890</th>\n",
       "      <td>SUZB3                                         ...</td>\n",
       "      <td>19:45:00.077000</td>\n",
       "      <td>36.07</td>\n",
       "    </tr>\n",
       "    <tr>\n",
       "      <th>850048</th>\n",
       "      <td>SUZB3                                         ...</td>\n",
       "      <td>19:45:00.077000</td>\n",
       "      <td>44.95</td>\n",
       "    </tr>\n",
       "    <tr>\n",
       "      <th>843855</th>\n",
       "      <td>SUZB3                                         ...</td>\n",
       "      <td>19:45:00.077000</td>\n",
       "      <td>44.50</td>\n",
       "    </tr>\n",
       "    <tr>\n",
       "      <th>842176</th>\n",
       "      <td>SUZB3                                         ...</td>\n",
       "      <td>19:45:00.077000</td>\n",
       "      <td>45.00</td>\n",
       "    </tr>\n",
       "    <tr>\n",
       "      <th>841319</th>\n",
       "      <td>SUZB3                                         ...</td>\n",
       "      <td>19:45:00.077000</td>\n",
       "      <td>44.00</td>\n",
       "    </tr>\n",
       "    <tr>\n",
       "      <th>841304</th>\n",
       "      <td>SUZB3                                         ...</td>\n",
       "      <td>19:45:00.077000</td>\n",
       "      <td>42.00</td>\n",
       "    </tr>\n",
       "    <tr>\n",
       "      <th>841302</th>\n",
       "      <td>SUZB3                                         ...</td>\n",
       "      <td>19:45:00.077000</td>\n",
       "      <td>45.20</td>\n",
       "    </tr>\n",
       "    <tr>\n",
       "      <th>841300</th>\n",
       "      <td>SUZB3                                         ...</td>\n",
       "      <td>19:45:00.077000</td>\n",
       "      <td>43.00</td>\n",
       "    </tr>\n",
       "    <tr>\n",
       "      <th>895569</th>\n",
       "      <td>SUZB3                                         ...</td>\n",
       "      <td>19:45:00.077000</td>\n",
       "      <td>43.00</td>\n",
       "    </tr>\n",
       "    <tr>\n",
       "      <th>895975</th>\n",
       "      <td>SUZB3                                         ...</td>\n",
       "      <td>19:45:00.077000</td>\n",
       "      <td>45.60</td>\n",
       "    </tr>\n",
       "  </tbody>\n",
       "</table>\n",
       "</div>"
      ],
      "text/plain": [
       "                                   Símbolo_do_Instrumento  Hora_Prioridade  \\\n",
       "876350  SUZB3                                         ...  19:45:00.077000   \n",
       "879015  SUZB3                                         ...  19:45:00.077000   \n",
       "879288  SUZB3                                         ...  19:45:00.077000   \n",
       "880707  SUZB3                                         ...  19:45:00.077000   \n",
       "888910  SUZB3                                         ...  19:45:00.077000   \n",
       "890243  SUZB3                                         ...  19:45:00.077000   \n",
       "875671  SUZB3                                         ...  19:45:00.077000   \n",
       "895929  SUZB3                                         ...  19:45:00.077000   \n",
       "841292  SUZB3                                         ...  19:45:00.077000   \n",
       "841296  SUZB3                                         ...  19:45:00.077000   \n",
       "895886  SUZB3                                         ...  19:45:00.077000   \n",
       "895875  SUZB3                                         ...  19:45:00.077000   \n",
       "895818  SUZB3                                         ...  19:45:00.077000   \n",
       "895772  SUZB3                                         ...  19:45:00.077000   \n",
       "895764  SUZB3                                         ...  19:45:00.077000   \n",
       "895088  SUZB3                                         ...  19:45:00.077000   \n",
       "895684  SUZB3                                         ...  19:45:00.077000   \n",
       "895671  SUZB3                                         ...  19:45:00.077000   \n",
       "841294  SUZB3                                         ...  19:45:00.077000   \n",
       "895582  SUZB3                                         ...  19:45:00.077000   \n",
       "854890  SUZB3                                         ...  19:45:00.077000   \n",
       "850048  SUZB3                                         ...  19:45:00.077000   \n",
       "843855  SUZB3                                         ...  19:45:00.077000   \n",
       "842176  SUZB3                                         ...  19:45:00.077000   \n",
       "841319  SUZB3                                         ...  19:45:00.077000   \n",
       "841304  SUZB3                                         ...  19:45:00.077000   \n",
       "841302  SUZB3                                         ...  19:45:00.077000   \n",
       "841300  SUZB3                                         ...  19:45:00.077000   \n",
       "895569  SUZB3                                         ...  19:45:00.077000   \n",
       "895975  SUZB3                                         ...  19:45:00.077000   \n",
       "\n",
       "        Preço_Of_Compra  \n",
       "876350            45.00  \n",
       "879015            44.96  \n",
       "879288            45.00  \n",
       "880707            45.00  \n",
       "888910            45.20  \n",
       "890243            43.50  \n",
       "875671            44.50  \n",
       "895929            45.43  \n",
       "841292            42.70  \n",
       "841296            37.00  \n",
       "895886            45.00  \n",
       "895875            45.26  \n",
       "895818            45.25  \n",
       "895772            45.06  \n",
       "895764            44.00  \n",
       "895088            45.00  \n",
       "895684            45.40  \n",
       "895671            45.25  \n",
       "841294            45.05  \n",
       "895582            45.00  \n",
       "854890            36.07  \n",
       "850048            44.95  \n",
       "843855            44.50  \n",
       "842176            45.00  \n",
       "841319            44.00  \n",
       "841304            42.00  \n",
       "841302            45.20  \n",
       "841300            43.00  \n",
       "895569            43.00  \n",
       "895975            45.60  "
      ]
     },
     "execution_count": 14,
     "metadata": {},
     "output_type": "execute_result"
    }
   ],
   "source": [
    "SUZB31.tail(30)"
   ]
  },
  {
   "cell_type": "code",
   "execution_count": 5,
   "metadata": {},
   "outputs": [],
   "source": [
    "SUZB3 = df_cpa.loc[df_cpa.Símbolo_do_Instrumento=='SUZB3                                             ']\n",
    "SUZB3 = SUZB3.sort_values(by=['Hora_Prioridade'])\n",
    "\n",
    "MGLU3 = df_cpa.loc[df_cpa.Símbolo_do_Instrumento=='MGLU3                                             ']\n",
    "MGLU3 = MGLU3.sort_values(by=['Hora_Prioridade'])\n",
    "\n",
    "FIBR3 = df_cpa.loc[df_cpa.Símbolo_do_Instrumento=='FIBR3                                             ']\n",
    "FIBR3 = FIBR3.sort_values(by=['Hora_Prioridade'])\n",
    "\n",
    "BTOW3 = df_cpa.loc[df_cpa.Símbolo_do_Instrumento=='BTOW3                                             ']\n",
    "BTOW3 = BTOW3.sort_values(by=['Hora_Prioridade'])\n",
    "\n",
    "VALE3 = df_cpa.loc[df_cpa.Símbolo_do_Instrumento=='VALE3                                             ']\n",
    "VALE3 = VALE3.sort_values(by=['Hora_Prioridade'])\n",
    "\n",
    "BRKM5 = df_cpa.loc[df_cpa.Símbolo_do_Instrumento=='BRKM5                                             ']\n",
    "BRKM5 = BRKM5.sort_values(by=['Hora_Prioridade'])\n",
    "\n",
    "EMBR3 = df_cpa.loc[df_cpa.Símbolo_do_Instrumento=='EMBR3                                             ']\n",
    "EMBR3 = EMBR3.sort_values(by=['Hora_Prioridade'])\n",
    "\n",
    "PETR4 = df_cpa.loc[df_cpa.Símbolo_do_Instrumento=='PETR4                                             ']\n",
    "PETR4 = PETR4.sort_values(by=['Hora_Prioridade'])\n",
    "\n",
    "CPFE3 = df_cpa.loc[df_cpa.Símbolo_do_Instrumento=='CPFE3                                             ']\n",
    "CPFE3 = CPFE3.sort_values(by=['Hora_Prioridade'])\n",
    "\n",
    "KLBN4 = df_cpa.loc[df_cpa.Símbolo_do_Instrumento=='KLBN4                                             ']\n",
    "KLBN4 = KLBN4.sort_values(by=['Hora_Prioridade'])\n",
    "\n",
    "BRFS3 = df_cpa.loc[df_cpa.Símbolo_do_Instrumento=='BRFS3                                             ']\n",
    "BRFS3 = BRFS3.sort_values(by=['Hora_Prioridade'])\n",
    "\n",
    "KROT3 = df_cpa.loc[df_cpa.Símbolo_do_Instrumento=='KROT3                                             ']\n",
    "KROT3 = KROT3.sort_values(by=['Hora_Prioridade'])\n",
    "\n",
    "ELET6 = df_cpa.loc[df_cpa.Símbolo_do_Instrumento=='ELET6                                             ']\n",
    "ELET6 = ELET6.sort_values(by=['Hora_Prioridade'])\n",
    "\n",
    "QUAL3 = df_cpa.loc[df_cpa.Símbolo_do_Instrumento=='QUAL3                                             ']\n",
    "QUAL3 = QUAL3.sort_values(by=['Hora_Prioridade'])\n",
    "\n",
    "UGPA3 = df_cpa.loc[df_cpa.Símbolo_do_Instrumento=='UGPA3                                             ']\n",
    "UGPA3 = UGPA3.sort_values(by=['Hora_Prioridade'])\n",
    "\n",
    "ECOR3 = df_cpa.loc[df_cpa.Símbolo_do_Instrumento=='ECOR3                                             ']\n",
    "ECOR3 = ECOR3.sort_values(by=['Hora_Prioridade'])\n",
    "\n",
    "ELET3 = df_cpa.loc[df_cpa.Símbolo_do_Instrumento=='ELET3                                             ']\n",
    "ELET3 = ELET3.sort_values(by=['Hora_Prioridade'])\n",
    "\n",
    "CCRO3 = df_cpa.loc[df_cpa.Símbolo_do_Instrumento=='CCRO3                                             ']\n",
    "CCRO3 = CCRO3.sort_values(by=['Hora_Prioridade'])\n",
    "\n",
    "SBSP3 = df_cpa.loc[df_cpa.Símbolo_do_Instrumento=='SBSP3                                             ']\n",
    "SBSP3 = SBSP3.sort_values(by=['Hora_Prioridade'])\n",
    "\n",
    "GOLL4 = df_cpa.loc[df_cpa.Símbolo_do_Instrumento=='GOLL4                                             ']\n",
    "GOLL4 = GOLL4.sort_values(by=['Hora_Prioridade'])\n",
    "#GOLL4['return'] = GOLL4.Preço_Of_Compra.pct_change()\n",
    "#is_inf = GOLL4['return'].iloc[:] == np.inf\n",
    "#GOLL4['return'] = GOLL4['return'].loc[~is_inf, ]\n",
    "#mean_GOLL4 = np.mean(GOLL4['return'])\n",
    "#std_GOLL4 = np.std(GOLL4['return'])\n"
   ]
  },
  {
   "cell_type": "code",
   "execution_count": 6,
   "metadata": {},
   "outputs": [],
   "source": [
    "# Transforma para segundos o horario de prioridade\n",
    "def time_to_second(data):\n",
    "    data['parts'] = data['Hora_Prioridade'].apply(lambda x: x.split(':'))\n",
    "    data['seconds'] = data['parts'].apply(lambda x: round(int(x[0])*(60*60) + int(x[1])*60 + float(x[2])))\n",
    "\n",
    "# calcula a media de preco da acao num intervalo de 5minutos    \n",
    "def media_temp(data, gran = 300):\n",
    "    init = data['seconds'].iloc[0]\n",
    "    end = data['seconds'].iloc[-1]\n",
    "    lista = []\n",
    "    media = []\n",
    "    for i in range(len(data)):\n",
    "        if data['seconds'].iloc[i] - init <= gran:\n",
    "            lista.append(data['Preço_Of_Compra'].iloc[i])\n",
    "        else:\n",
    "            media.append(np.sum(lista) / len(lista))\n",
    "            lista = []\n",
    "            init = data['seconds'].iloc[i]\n",
    "    \n",
    "    headers = ['mean']\n",
    "    \n",
    "    df = pd.DataFrame(data = media, columns = headers)\n",
    "    df['return'] = df['mean'].pct_change()\n",
    "        \n",
    "    return df"
   ]
  },
  {
   "cell_type": "code",
   "execution_count": 7,
   "metadata": {},
   "outputs": [],
   "source": [
    "# SUZB3\n",
    "time_to_second(SUZB3)\n",
    "SUZB3      = media_temp(SUZB3)\n",
    "mean_SUZB3 = np.mean(SUZB3['return'])\n",
    "std_SUZB3  = np.std(SUZB3['return'])\n",
    "\n",
    "# MGLU3\n",
    "time_to_second(MGLU3)\n",
    "MGLU3      = media_temp(MGLU3)\n",
    "mean_MGLU3 = np.mean(MGLU3['return'])\n",
    "std_MGLU3  = np.std(MGLU3['return'])\n",
    "\n",
    "# FIBR3\n",
    "time_to_second(FIBR3)\n",
    "FIBR3      = media_temp(FIBR3)\n",
    "mean_FIBR3 = np.mean(FIBR3['return'])\n",
    "std_FIBR3  = np.std(FIBR3['return'])\n",
    "\n",
    "# BTOW3\n",
    "time_to_second(BTOW3)\n",
    "BTOW3      = media_temp(BTOW3)\n",
    "mean_BTOW3 = np.mean(BTOW3['return'])\n",
    "std_BTOW3  = np.std(BTOW3['return'])\n",
    "\n",
    "# VALE3\n",
    "time_to_second(VALE3)\n",
    "VALE3      = media_temp(VALE3)\n",
    "mean_VALE3 = np.mean(VALE3['return'])\n",
    "std_VALE3  = np.std(VALE3['return'])\n",
    "\n",
    "# BRKM5\n",
    "time_to_second(BRKM5)\n",
    "BRKM5      = media_temp(BRKM5)\n",
    "mean_BRKM5 = np.mean(BRKM5['return'])\n",
    "std_BRKM5  = np.std(BRKM5['return'])\n",
    "\n",
    "# EMBR3\n",
    "time_to_second(EMBR3)\n",
    "EMBR3      = media_temp(EMBR3)\n",
    "mean_EMBR3 = np.mean(EMBR3['return'])\n",
    "std_EMBR3  = np.std(EMBR3['return'])\n",
    "\n",
    "# PETR4\n",
    "time_to_second(PETR4)\n",
    "PETR4      = media_temp(PETR4)\n",
    "mean_PETR4 = np.mean(PETR4['return'])\n",
    "std_PETR4  = np.std(PETR4['return'])\n",
    "\n",
    "# CPFE3\n",
    "time_to_second(CPFE3)\n",
    "CPFE3      = media_temp(CPFE3)\n",
    "mean_CPFE3 = np.mean(CPFE3['return'])\n",
    "std_CPFE3  = np.std(CPFE3['return'])\n",
    "\n",
    "# KLBN4\n",
    "time_to_second(KLBN4)\n",
    "KLBN4      = media_temp(KLBN4)\n",
    "mean_KLBN4 = np.mean(KLBN4['return'])\n",
    "std_KLBN4  = np.std(KLBN4['return'])\n",
    "\n",
    "# BRFS3\n",
    "time_to_second(BRFS3)\n",
    "BRFS3      = media_temp(BRFS3)\n",
    "mean_BRFS3 = np.mean(BRFS3['return'])\n",
    "std_BRFS3  = np.std(BRFS3['return'])\n",
    "\n",
    "# KROT3\n",
    "time_to_second(KROT3)\n",
    "KROT3      = media_temp(KROT3)\n",
    "mean_KROT3 = np.mean(KROT3['return'])\n",
    "std_KROT3  = np.std(KROT3['return'])\n",
    "\n",
    "# ELET6\n",
    "time_to_second(ELET6)\n",
    "ELET6      = media_temp(ELET6)\n",
    "mean_ELET6 = np.mean(ELET6['return'])\n",
    "std_ELET6  = np.std(ELET6['return'])\n",
    "\n",
    "# QUAL3\n",
    "time_to_second(QUAL3)\n",
    "QUAL3      = media_temp(QUAL3)\n",
    "mean_QUAL3 = np.mean(QUAL3['return'])\n",
    "std_QUAL3  = np.std(QUAL3['return'])\n",
    "\n",
    "# UGPA3\n",
    "time_to_second(UGPA3)\n",
    "UGPA3      = media_temp(UGPA3)\n",
    "mean_UGPA3 = np.mean(UGPA3['return'])\n",
    "std_UGPA3  = np.std(UGPA3['return'])\n",
    "\n",
    "# ECOR3\n",
    "time_to_second(ECOR3)\n",
    "ECOR3      = media_temp(ECOR3)\n",
    "mean_ECOR3 = np.mean(ECOR3['return'])\n",
    "std_ECOR3  = np.std(ECOR3['return'])\n",
    "\n",
    "# ELET3\n",
    "time_to_second(ELET3)\n",
    "ELET3      = media_temp(ELET3)\n",
    "mean_ELET3 = np.mean(ELET3['return'])\n",
    "std_ELET3  = np.std(ELET3['return'])\n",
    "\n",
    "# CCRO3\n",
    "time_to_second(CCRO3)\n",
    "CCRO3      = media_temp(CCRO3)\n",
    "mean_CCRO3 = np.mean(CCRO3['return'])\n",
    "std_CCRO3  = np.std(CCRO3['return'])\n",
    "\n",
    "# SBSP3\n",
    "time_to_second(SBSP3)\n",
    "SBSP3      = media_temp(SBSP3)\n",
    "mean_SBSP3 = np.mean(SBSP3['return'])\n",
    "std_SBSP3  = np.std(SBSP3['return'])\n",
    "\n",
    "# GOLL4\n",
    "time_to_second(GOLL4)\n",
    "GOLL4      = media_temp(GOLL4)\n",
    "mean_GOLL4 = np.mean(GOLL4['return'])\n",
    "std_GOLL4  = np.std(GOLL4['return'])"
   ]
  },
  {
   "cell_type": "code",
   "execution_count": 8,
   "metadata": {},
   "outputs": [],
   "source": [
    "best = [\n",
    "SUZB3,\n",
    "MGLU3,\n",
    "FIBR3,\n",
    "BTOW3,\n",
    "VALE3,\n",
    "BRKM5,\n",
    "EMBR3,\n",
    "PETR4,\n",
    "CPFE3,\n",
    "KLBN4]\n",
    "\n",
    "worst = [\n",
    "BRFS3,\n",
    "KROT3,\n",
    "ELET6,\n",
    "QUAL3,\n",
    "UGPA3,\n",
    "ECOR3,\n",
    "ELET3,\n",
    "CCRO3,\n",
    "SBSP3,\n",
    "GOLL4]"
   ]
  },
  {
   "cell_type": "code",
   "execution_count": 10,
   "metadata": {
    "scrolled": true
   },
   "outputs": [
    {
     "name": "stderr",
     "output_type": "stream",
     "text": [
      "C:\\Users\\vipac\\Anaconda3\\lib\\site-packages\\matplotlib\\axes\\_axes.py:6462: UserWarning: The 'normed' kwarg is deprecated, and has been replaced by the 'density' kwarg.\n",
      "  warnings.warn(\"The 'normed' kwarg is deprecated, and has been \"\n",
      "C:\\Users\\vipac\\Anaconda3\\lib\\site-packages\\ipykernel_launcher.py:3: MatplotlibDeprecationWarning: scipy.stats.norm.pdf\n",
      "  This is separate from the ipykernel package so we can avoid doing imports until\n"
     ]
    },
    {
     "data": {
      "image/png": "[encoded data removed]",
      "text/plain": [
       "<Figure size 432x288 with 1 Axes>"
      ]
     },
     "metadata": {},
     "output_type": "display_data"
    }
   ],
   "source": [
    "ELET6['return'].hist(bins = 100, normed = True, histtype = 'stepfilled', alpha = 1)\n",
    "x = np.linspace(mean_ELET6 - 3*std_ELET6, mean_ELET6 + 3*std_ELET6,100)\n",
    "plt.plot(x,mlab.normpdf(x, mean_ELET6,std_ELET6),\"r\")\n",
    "plt.show()"
   ]
  },
  {
   "cell_type": "code",
   "execution_count": 10,
   "metadata": {
    "scrolled": true
   },
   "outputs": [
    {
     "name": "stderr",
     "output_type": "stream",
     "text": [
      "C:\\Users\\vipac\\Anaconda3\\lib\\site-packages\\matplotlib\\axes\\_axes.py:6462: UserWarning: The 'normed' kwarg is deprecated, and has been replaced by the 'density' kwarg.\n",
      "  warnings.warn(\"The 'normed' kwarg is deprecated, and has been \"\n",
      "C:\\Users\\vipac\\Anaconda3\\lib\\site-packages\\matplotlib\\axes\\_axes.py:6462: UserWarning: The 'normed' kwarg is deprecated, and has been replaced by the 'density' kwarg.\n",
      "  warnings.warn(\"The 'normed' kwarg is deprecated, and has been \"\n",
      "C:\\Users\\vipac\\Anaconda3\\lib\\site-packages\\matplotlib\\axes\\_axes.py:6462: UserWarning: The 'normed' kwarg is deprecated, and has been replaced by the 'density' kwarg.\n",
      "  warnings.warn(\"The 'normed' kwarg is deprecated, and has been \"\n",
      "C:\\Users\\vipac\\Anaconda3\\lib\\site-packages\\matplotlib\\axes\\_axes.py:6462: UserWarning: The 'normed' kwarg is deprecated, and has been replaced by the 'density' kwarg.\n",
      "  warnings.warn(\"The 'normed' kwarg is deprecated, and has been \"\n",
      "C:\\Users\\vipac\\Anaconda3\\lib\\site-packages\\matplotlib\\axes\\_axes.py:6462: UserWarning: The 'normed' kwarg is deprecated, and has been replaced by the 'density' kwarg.\n",
      "  warnings.warn(\"The 'normed' kwarg is deprecated, and has been \"\n",
      "C:\\Users\\vipac\\Anaconda3\\lib\\site-packages\\matplotlib\\axes\\_axes.py:6462: UserWarning: The 'normed' kwarg is deprecated, and has been replaced by the 'density' kwarg.\n",
      "  warnings.warn(\"The 'normed' kwarg is deprecated, and has been \"\n",
      "C:\\Users\\vipac\\Anaconda3\\lib\\site-packages\\matplotlib\\axes\\_axes.py:6462: UserWarning: The 'normed' kwarg is deprecated, and has been replaced by the 'density' kwarg.\n",
      "  warnings.warn(\"The 'normed' kwarg is deprecated, and has been \"\n",
      "C:\\Users\\vipac\\Anaconda3\\lib\\site-packages\\matplotlib\\axes\\_axes.py:6462: UserWarning: The 'normed' kwarg is deprecated, and has been replaced by the 'density' kwarg.\n",
      "  warnings.warn(\"The 'normed' kwarg is deprecated, and has been \"\n",
      "C:\\Users\\vipac\\Anaconda3\\lib\\site-packages\\matplotlib\\axes\\_axes.py:6462: UserWarning: The 'normed' kwarg is deprecated, and has been replaced by the 'density' kwarg.\n",
      "  warnings.warn(\"The 'normed' kwarg is deprecated, and has been \"\n",
      "C:\\Users\\vipac\\Anaconda3\\lib\\site-packages\\matplotlib\\axes\\_axes.py:6462: UserWarning: The 'normed' kwarg is deprecated, and has been replaced by the 'density' kwarg.\n",
      "  warnings.warn(\"The 'normed' kwarg is deprecated, and has been \"\n"
     ]
    },
    {
     "data": {
      "image/png": "[encoded data removed]",
      "text/plain": [
       "<Figure size 432x288 with 1 Axes>"
      ]
     },
     "metadata": {},
     "output_type": "display_data"
    },
    {
     "data": {
      "image/png": "[encoded data removed]",
      "text/plain": [
       "<Figure size 432x288 with 1 Axes>"
      ]
     },
     "metadata": {},
     "output_type": "display_data"
    },
    {
     "data": {
      "image/png": "[encoded data removed]",
      "text/plain": [
       "<Figure size 432x288 with 1 Axes>"
      ]
     },
     "metadata": {},
     "output_type": "display_data"
    },
    {
     "data": {
      "image/png": "[encoded data removed]",
      "text/plain": [
       "<Figure size 432x288 with 1 Axes>"
      ]
     },
     "metadata": {},
     "output_type": "display_data"
    },
    {
     "data": {
      "image/png": "[encoded data removed]",
      "text/plain": [
       "<Figure size 432x288 with 1 Axes>"
      ]
     },
     "metadata": {},
     "output_type": "display_data"
    },
    {
     "data": {
      "image/png": "[encoded data removed]",
      "text/plain": [
       "<Figure size 432x288 with 1 Axes>"
      ]
     },
     "metadata": {},
     "output_type": "display_data"
    },
    {
     "data": {
      "image/png": "[encoded data removed]",
      "text/plain": [
       "<Figure size 432x288 with 1 Axes>"
      ]
     },
     "metadata": {},
     "output_type": "display_data"
    },
    {
     "data": {
      "image/png": "[encoded data removed]",
      "text/plain": [
       "<Figure size 432x288 with 1 Axes>"
      ]
     },
     "metadata": {},
     "output_type": "display_data"
    },
    {
     "data": {
      "image/png": "[encoded data removed]",
      "text/plain": [
       "<Figure size 432x288 with 1 Axes>"
      ]
     },
     "metadata": {},
     "output_type": "display_data"
    },
    {
     "data": {
      "image/png": "[encoded data removed]",
      "text/plain": [
       "<Figure size 432x288 with 1 Axes>"
      ]
     },
     "metadata": {},
     "output_type": "display_data"
    }
   ],
   "source": [
    "for i in best:\n",
    "    i.hist(column = 'return', bins = 100, normed = True, histtype = 'stepfilled', alpha = 1, label = 'i')\n",
    "    plt.ylabel('Frequency')"
   ]
  },
  {
   "cell_type": "code",
   "execution_count": 11,
   "metadata": {},
   "outputs": [
    {
     "name": "stderr",
     "output_type": "stream",
     "text": [
      "C:\\Users\\vipac\\Anaconda3\\lib\\site-packages\\matplotlib\\axes\\_axes.py:6462: UserWarning: The 'normed' kwarg is deprecated, and has been replaced by the 'density' kwarg.\n",
      "  warnings.warn(\"The 'normed' kwarg is deprecated, and has been \"\n",
      "C:\\Users\\vipac\\Anaconda3\\lib\\site-packages\\matplotlib\\axes\\_axes.py:6462: UserWarning: The 'normed' kwarg is deprecated, and has been replaced by the 'density' kwarg.\n",
      "  warnings.warn(\"The 'normed' kwarg is deprecated, and has been \"\n",
      "C:\\Users\\vipac\\Anaconda3\\lib\\site-packages\\matplotlib\\axes\\_axes.py:6462: UserWarning: The 'normed' kwarg is deprecated, and has been replaced by the 'density' kwarg.\n",
      "  warnings.warn(\"The 'normed' kwarg is deprecated, and has been \"\n",
      "C:\\Users\\vipac\\Anaconda3\\lib\\site-packages\\matplotlib\\axes\\_axes.py:6462: UserWarning: The 'normed' kwarg is deprecated, and has been replaced by the 'density' kwarg.\n",
      "  warnings.warn(\"The 'normed' kwarg is deprecated, and has been \"\n",
      "C:\\Users\\vipac\\Anaconda3\\lib\\site-packages\\matplotlib\\axes\\_axes.py:6462: UserWarning: The 'normed' kwarg is deprecated, and has been replaced by the 'density' kwarg.\n",
      "  warnings.warn(\"The 'normed' kwarg is deprecated, and has been \"\n",
      "C:\\Users\\vipac\\Anaconda3\\lib\\site-packages\\matplotlib\\axes\\_axes.py:6462: UserWarning: The 'normed' kwarg is deprecated, and has been replaced by the 'density' kwarg.\n",
      "  warnings.warn(\"The 'normed' kwarg is deprecated, and has been \"\n",
      "C:\\Users\\vipac\\Anaconda3\\lib\\site-packages\\matplotlib\\axes\\_axes.py:6462: UserWarning: The 'normed' kwarg is deprecated, and has been replaced by the 'density' kwarg.\n",
      "  warnings.warn(\"The 'normed' kwarg is deprecated, and has been \"\n",
      "C:\\Users\\vipac\\Anaconda3\\lib\\site-packages\\matplotlib\\axes\\_axes.py:6462: UserWarning: The 'normed' kwarg is deprecated, and has been replaced by the 'density' kwarg.\n",
      "  warnings.warn(\"The 'normed' kwarg is deprecated, and has been \"\n",
      "C:\\Users\\vipac\\Anaconda3\\lib\\site-packages\\matplotlib\\axes\\_axes.py:6462: UserWarning: The 'normed' kwarg is deprecated, and has been replaced by the 'density' kwarg.\n",
      "  warnings.warn(\"The 'normed' kwarg is deprecated, and has been \"\n",
      "C:\\Users\\vipac\\Anaconda3\\lib\\site-packages\\matplotlib\\axes\\_axes.py:6462: UserWarning: The 'normed' kwarg is deprecated, and has been replaced by the 'density' kwarg.\n",
      "  warnings.warn(\"The 'normed' kwarg is deprecated, and has been \"\n"
     ]
    },
    {
     "data": {
      "image/png": "[encoded data removed]",
      "text/plain": [
       "<Figure size 432x288 with 1 Axes>"
      ]
     },
     "metadata": {},
     "output_type": "display_data"
    },
    {
     "data": {
      "image/png": "[encoded data removed]",
      "text/plain": [
       "<Figure size 432x288 with 1 Axes>"
      ]
     },
     "metadata": {},
     "output_type": "display_data"
    },
    {
     "data": {
      "image/png": "[encoded data removed]",
      "text/plain": [
       "<Figure size 432x288 with 1 Axes>"
      ]
     },
     "metadata": {},
     "output_type": "display_data"
    },
    {
     "data": {
      "image/png": "[encoded data removed]",
      "text/plain": [
       "<Figure size 432x288 with 1 Axes>"
      ]
     },
     "metadata": {},
     "output_type": "display_data"
    },
    {
     "data": {
      "image/png": "[encoded data removed]",
      "text/plain": [
       "<Figure size 432x288 with 1 Axes>"
      ]
     },
     "metadata": {},
     "output_type": "display_data"
    },
    {
     "data": {
      "image/png": "[encoded data removed]",
      "text/plain": [
       "<Figure size 432x288 with 1 Axes>"
      ]
     },
     "metadata": {},
     "output_type": "display_data"
    },
    {
     "data": {
      "image/png": "[encoded data removed]",
      "text/plain": [
       "<Figure size 432x288 with 1 Axes>"
      ]
     },
     "metadata": {},
     "output_type": "display_data"
    },
    {
     "data": {
      "image/png": "[encoded data removed]",
      "text/plain": [
       "<Figure size 432x288 with 1 Axes>"
      ]
     },
     "metadata": {},
     "output_type": "display_data"
    },
    {
     "data": {
      "image/png": "[encoded data removed]",
      "text/plain": [
       "<Figure size 432x288 with 1 Axes>"
      ]
     },
     "metadata": {},
     "output_type": "display_data"
    },
    {
     "data": {
      "image/png": "[encoded data removed]",
      "text/plain": [
       "<Figure size 432x288 with 1 Axes>"
      ]
     },
     "metadata": {},
     "output_type": "display_data"
    }
   ],
   "source": [
    "for i in worst:\n",
    "    i.hist(column = 'return', bins = 100, normed = True, histtype = 'stepfilled', alpha = 1, label = i)"
   ]
  },
  {
   "cell_type": "code",
   "execution_count": 36,
   "metadata": {
    "scrolled": false
   },
   "outputs": [
    {
     "name": "stdout",
     "output_type": "stream",
     "text": [
      "CL_best        SUZB3     MGLU3      FIBR3      BTOW3      VALE3      BRKM5      EMBR3      PETR4       CPFE3      KLBN4\n",
      "---------  ---------  --------  ---------  ---------  ---------  ---------  ---------  ---------  ----------  ---------\n",
      "90%        -0.124662  -1.08002  -0.519679  -0.161067  -0.477222  -0.582663  -0.589467  -0.352852  -0.0493235  -0.874245\n",
      "95%        -0.161732  -1.41534  -0.674996  -0.208371  -0.622868  -0.760764  -0.767121  -0.458321  -0.0634544  -1.14706\n",
      "CL_worst        BRFS3      KROT3      ELET6      QUAL3      UGPA3      ECOR3      ELET3      CCRO3      SBSP3      GOLL4\n",
      "----------  ---------  ---------  ---------  ---------  ---------  ---------  ---------  ---------  ---------  ---------\n",
      "90%         -0.183841  -0.166812  -0.521005  -0.15289   -0.629988  -0.185747  -0.211944  -0.461746  -0.14017   -0.23831\n",
      "95%         -0.239061  -0.216325  -0.67823   -0.197942  -0.821499  -0.240481  -0.272544  -0.600871  -0.181772  -0.308516\n"
     ]
    }
   ],
   "source": [
    "VaR_90 = [\n",
    "norm.ppf(1-0.9, mean_SUZB3, std_SUZB3),\n",
    "norm.ppf(1-0.9, mean_MGLU3, std_MGLU3),\n",
    "norm.ppf(1-0.9, mean_FIBR3, std_FIBR3),\n",
    "norm.ppf(1-0.9, mean_BTOW3, std_BTOW3),\n",
    "norm.ppf(1-0.9, mean_VALE3, std_VALE3),\n",
    "norm.ppf(1-0.9, mean_BRKM5, std_BRKM5),\n",
    "norm.ppf(1-0.9, mean_EMBR3, std_EMBR3),\n",
    "norm.ppf(1-0.9, mean_PETR4, std_PETR4),\n",
    "norm.ppf(1-0.9, mean_CPFE3, std_CPFE3),\n",
    "norm.ppf(1-0.9, mean_KLBN4, std_KLBN4),\n",
    "norm.ppf(1-0.9, mean_BRFS3, std_BRFS3),\n",
    "norm.ppf(1-0.9, mean_KROT3, std_KROT3),\n",
    "norm.ppf(1-0.9, mean_ELET6, std_ELET6),\n",
    "norm.ppf(1-0.9, mean_QUAL3, std_QUAL3),\n",
    "norm.ppf(1-0.9, mean_UGPA3, std_UGPA3),\n",
    "norm.ppf(1-0.9, mean_ECOR3, std_ECOR3),\n",
    "norm.ppf(1-0.9, mean_ELET3, std_ELET3),\n",
    "norm.ppf(1-0.9, mean_CCRO3, std_CCRO3),\n",
    "norm.ppf(1-0.9, mean_SBSP3, std_SBSP3),\n",
    "norm.ppf(1-0.9, mean_GOLL4, std_GOLL4)]\n",
    "\n",
    "VaR_95 = [\n",
    "norm.ppf(1-0.95, mean_SUZB3, std_SUZB3),\n",
    "norm.ppf(1-0.95, mean_MGLU3, std_MGLU3),\n",
    "norm.ppf(1-0.95, mean_FIBR3, std_FIBR3),\n",
    "norm.ppf(1-0.95, mean_BTOW3, std_BTOW3),\n",
    "norm.ppf(1-0.95, mean_VALE3, std_VALE3),\n",
    "norm.ppf(1-0.95, mean_BRKM5, std_BRKM5),\n",
    "norm.ppf(1-0.95, mean_EMBR3, std_EMBR3),\n",
    "norm.ppf(1-0.95, mean_PETR4, std_PETR4),\n",
    "norm.ppf(1-0.95, mean_CPFE3, std_CPFE3),\n",
    "norm.ppf(1-0.95, mean_KLBN4, std_KLBN4),\n",
    "norm.ppf(1-0.95, mean_BRFS3, std_BRFS3),\n",
    "norm.ppf(1-0.95, mean_KROT3, std_KROT3),\n",
    "norm.ppf(1-0.95, mean_ELET6, std_ELET6),\n",
    "norm.ppf(1-0.95, mean_QUAL3, std_QUAL3),\n",
    "norm.ppf(1-0.95, mean_UGPA3, std_UGPA3),\n",
    "norm.ppf(1-0.95, mean_ECOR3, std_ECOR3),\n",
    "norm.ppf(1-0.95, mean_ELET3, std_ELET3),\n",
    "norm.ppf(1-0.95, mean_CCRO3, std_CCRO3),\n",
    "norm.ppf(1-0.95, mean_SBSP3, std_SBSP3),\n",
    "norm.ppf(1-0.95, mean_GOLL4, std_GOLL4)\n",
    "]\n",
    "\n",
    "print(tabulate([['90%', VaR_90[0], VaR_90[1], VaR_90[2], VaR_90[3], VaR_90[4], VaR_90[5], VaR_90[6], VaR_90[7], VaR_90[8], VaR_90[9]],\n",
    "                ['95%', VaR_95[0], VaR_95[1], VaR_95[2], VaR_95[3], VaR_95[4], VaR_95[5], VaR_95[6], VaR_95[7], VaR_95[8], VaR_95[9]]], \n",
    "               headers = ['CL_best', 'SUZB3', 'MGLU3','FIBR3', 'BTOW3', 'VALE3', 'BRKM5', 'EMBR3','PETR4', 'CPFE3', 'KLBN4']))\n",
    "\n",
    "\n",
    "\n",
    "print(tabulate([['90%', VaR_90[10], VaR_90[11], VaR_90[12], VaR_90[13], VaR_90[14], VaR_90[15], VaR_90[16], VaR_90[17], VaR_90[18], VaR_90[19]],\n",
    "                ['95%', VaR_95[10], VaR_95[11], VaR_95[12], VaR_95[13], VaR_95[14], VaR_95[15], VaR_95[16], VaR_95[17], VaR_95[18], VaR_95[19]]], \n",
    "               headers = ['CL_worst', 'BRFS3', 'KROT3','ELET6', 'QUAL3', 'UGPA3', 'ECOR3', 'ELET3','CCRO3', 'SBSP3', 'GOLL4']))"
   ]
  },
  {
   "cell_type": "code",
   "execution_count": 13,
   "metadata": {},
   "outputs": [
    {
     "data": {
      "text/html": [
       "<div>\n",
       "<style scoped>\n",
       "    .dataframe tbody tr th:only-of-type {\n",
       "        vertical-align: middle;\n",
       "    }\n",
       "\n",
       "    .dataframe tbody tr th {\n",
       "        vertical-align: top;\n",
       "    }\n",
       "\n",
       "    .dataframe thead th {\n",
       "        text-align: right;\n",
       "    }\n",
       "</style>\n",
       "<table border=\"1\" class=\"dataframe\">\n",
       "  <thead>\n",
       "    <tr style=\"text-align: right;\">\n",
       "      <th></th>\n",
       "      <th>mean</th>\n",
       "      <th>return</th>\n",
       "    </tr>\n",
       "  </thead>\n",
       "  <tbody>\n",
       "    <tr>\n",
       "      <th>0</th>\n",
       "      <td>43.325714</td>\n",
       "      <td>NaN</td>\n",
       "    </tr>\n",
       "    <tr>\n",
       "      <th>1</th>\n",
       "      <td>38.589362</td>\n",
       "      <td>-0.109320</td>\n",
       "    </tr>\n",
       "    <tr>\n",
       "      <th>2</th>\n",
       "      <td>44.747905</td>\n",
       "      <td>0.159592</td>\n",
       "    </tr>\n",
       "    <tr>\n",
       "      <th>3</th>\n",
       "      <td>45.031827</td>\n",
       "      <td>0.006345</td>\n",
       "    </tr>\n",
       "    <tr>\n",
       "      <th>4</th>\n",
       "      <td>45.872858</td>\n",
       "      <td>0.018676</td>\n",
       "    </tr>\n",
       "  </tbody>\n",
       "</table>\n",
       "</div>"
      ],
      "text/plain": [
       "        mean    return\n",
       "0  43.325714       NaN\n",
       "1  38.589362 -0.109320\n",
       "2  44.747905  0.159592\n",
       "3  45.031827  0.006345\n",
       "4  45.872858  0.018676"
      ]
     },
     "execution_count": 13,
     "metadata": {},
     "output_type": "execute_result"
    }
   ],
   "source": [
    "SUZB3.head(5)"
   ]
  },
  {
   "cell_type": "code",
   "execution_count": null,
   "metadata": {},
   "outputs": [],
   "source": [
    "for i in best:\n",
    "    i.sort_values('return', inplace = True, ascending = True)"
   ]
  },
  {
   "cell_type": "code",
   "execution_count": 10,
   "metadata": {
    "scrolled": true
   },
   "outputs": [
    {
     "name": "stdout",
     "output_type": "stream",
     "text": [
      "Index best         SUZB3     MGLU3     FIBR3     BTOW3     VALE3     BRKM5     EMBR3     PETR4     CPFE3     KLBN4\n",
      "--------------  --------  --------  --------  --------  --------  --------  --------  --------  --------  --------\n",
      "Kurtosis index  92.5548   28.0477   66.5541   22.482    86.1418   76.8145   56.589    16.4221   35.2699   40.9267\n",
      "skew index       9.53193   4.10201   7.79079   2.83331   9.10294   8.44916   6.43124   2.59027  -1.41377   6.00502\n",
      "Index worst        BRFS3     KROT3     ELET6     QUAL3     UGPA3     ECOR3     ELET3     CCRO3     SBSP3     GOLL4\n",
      "--------------  --------  --------  --------  --------  --------  --------  --------  --------  --------  --------\n",
      "Kurtosis index  22.2145   54.2766   46.072    23.4323   31.0169   37.3447   30.0154   46.9838   87.6053   8.33202\n",
      "skew index       3.24169   6.67127   6.02131   3.23525   4.39256   5.40468   2.47778   5.78212   9.22175  0.673245\n"
     ]
    }
   ],
   "source": [
    "kurto_index = []\n",
    "for i in best:\n",
    "    kurto_index.append(kurtosis(i['return'][1:]))\n",
    "for i in worst:\n",
    "    kurto_index.append(kurtosis(i['return'][1:]))\n",
    "\n",
    "skew_index = []\n",
    "for i in best:\n",
    "    skew_index.append(skew(i['return'][1:]))\n",
    "for i in worst:\n",
    "    skew_index.append(skew(i['return'][1:]))\n",
    "    \n",
    "\n",
    "    \n",
    "print(tabulate([['Kurtosis index', kurto_index[0], kurto_index[1], kurto_index[2], kurto_index[3], kurto_index[4], kurto_index[5], kurto_index[6], kurto_index[7], kurto_index[8], kurto_index[9]],\n",
    "                ['skew index', skew_index[0], skew_index[1], skew_index[2], skew_index[3], skew_index[4], skew_index[5], skew_index[6], skew_index[7], skew_index[8], skew_index[9]]], \n",
    "               headers = ['Index best', 'SUZB3', 'MGLU3','FIBR3', 'BTOW3', 'VALE3', 'BRKM5', 'EMBR3','PETR4', 'CPFE3', 'KLBN4']))\n",
    "\n",
    "\n",
    "print(tabulate([['Kurtosis index ', kurto_index[10], kurto_index[11], kurto_index[12], kurto_index[13], kurto_index[14], kurto_index[15], kurto_index[16], kurto_index[17], kurto_index[18], kurto_index[19]],\n",
    "                ['skew index', skew_index[10], skew_index[11], skew_index[12], skew_index[13], skew_index[14], skew_index[15], skew_index[16], skew_index[17], skew_index[18], skew_index[19]]], \n",
    "               headers = ['Index worst', 'BRFS3', 'KROT3','ELET6', 'QUAL3', 'UGPA3', 'ECOR3', 'ELET3','CCRO3', 'SBSP3', 'GOLL4']))"
   ]
  },
  {
   "cell_type": "code",
   "execution_count": 12,
   "metadata": {
    "scrolled": true
   },
   "outputs": [
    {
     "data": {
      "text/plain": [
       "[9.53,\n",
       " 4.1,\n",
       " 7.79,\n",
       " 2.83,\n",
       " 9.1,\n",
       " 8.45,\n",
       " 6.43,\n",
       " 2.59,\n",
       " -1.41,\n",
       " 6.01,\n",
       " 3.24,\n",
       " 6.67,\n",
       " 6.02,\n",
       " 3.24,\n",
       " 4.39,\n",
       " 5.4,\n",
       " 2.48,\n",
       " 5.78,\n",
       " 9.22,\n",
       " 0.67]"
      ]
     },
     "execution_count": 12,
     "metadata": {},
     "output_type": "execute_result"
    }
   ],
   "source": [
    "myList = list(np.around(np.array(skew_index),2))\n",
    "myList"
   ]
  },
  {
   "cell_type": "code",
   "execution_count": 22,
   "metadata": {},
   "outputs": [
    {
     "data": {
      "text/plain": [
       "[array([38695.9,     0. ]),\n",
       " array([3771.75,    0.  ]),\n",
       " array([19662.33,     0.  ]),\n",
       " array([2284.59,    0.  ]),\n",
       " array([33268.42,     0.  ]),\n",
       " array([26032.83,     0.  ]),\n",
       " array([14453.28,     0.  ]),\n",
       " array([1321.99,    0.  ]),\n",
       " array([5216.49,    0.  ]),\n",
       " array([7580.13,    0.  ]),\n",
       " array([2275.96,    0.  ]),\n",
       " array([13537.23,     0.  ]),\n",
       " array([9732.01,    0.  ]),\n",
       " array([2536.11,    0.  ]),\n",
       " array([4546.63,    0.  ]),\n",
       " array([6549.7,    0. ]),\n",
       " array([4010.42,    0.  ]),\n",
       " array([10145.24,     0.  ]),\n",
       " array([34063.1,     0. ]),\n",
       " array([311.66,   0.  ])]"
      ]
     },
     "execution_count": 22,
     "metadata": {},
     "output_type": "execute_result"
    }
   ],
   "source": [
    "JB_index = []\n",
    "for i in best:\n",
    "    JB_index.append(jarque_bera(i['return'][1:]))\n",
    "for i in worst:\n",
    "    JB_index.append(jarque_bera(i['return'][1:]))\n",
    "\n",
    "jar = list(np.around(np.array(JB_index),2))\n",
    "jar"
   ]
  },
  {
   "cell_type": "code",
   "execution_count": 11,
   "metadata": {},
   "outputs": [],
   "source": [
    "kurto_index = []\n",
    "for i in best:\n",
    "    kurto_index.append(kurtosis(i['return'][1:]))\n",
    "for i in worst:\n",
    "    kurto_index.append(kurtosis(i['return'][1:]))\n",
    "\n",
    "skew_index = []\n",
    "for i in best:\n",
    "    skew_index.append(skew(i['return'][1:]))\n",
    "for i in worst:\n",
    "    skew_index.append(skew(i['return'][1:]))\n",
    "\n",
    "print(tabulate([['Kurtosis index', kurto_index[0], kurto_index[1], kurto_index[2], kurto_index[3], kurto_index[4], kurto_index[5], kurto_index[6], kurto_index[7], kurto_index[8], kurto_index[9]],\n",
    "                ['skew index', skew_index[0], skew_index[1], skew_index[2], skew_index[3], skew_index[4], skew_index[5], skew_index[6], skew_index[7], skew_index[8], skew_index[9]]], \n",
    "               headers = ['Index best', 'SUZB3', 'MGLU3','FIBR3', 'BTOW3', 'VALE3', 'BRKM5', 'EMBR3','PETR4', 'CPFE3', 'KLBN4']))\n",
    "\n",
    "\n",
    "print(tabulate([['Kurtosis index ', kurto_index[10], kurto_index[11], kurto_index[12], kurto_index[13], kurto_index[14], kurto_index[15], kurto_index[16], kurto_index[17], kurto_index[18], kurto_index[19]],\n",
    "                ['skew index', skew_index[10], skew_index[11], skew_index[12], skew_index[13], skew_index[14], skew_index[15], skew_index[16], skew_index[17], skew_index[18], skew_index[19]]], \n",
    "               headers = ['Index worst', 'BRFS3', 'KROT3','ELET6', 'QUAL3', 'UGPA3', 'ECOR3', 'ELET3','CCRO3', 'SBSP3', 'GOLL4']))"
   ]
  },
  {
   "cell_type": "code",
   "execution_count": 34,
   "metadata": {},
   "outputs": [
    {
     "data": {
      "text/plain": [
       "[2.97221914902826,\n",
       " 7.83798617421526,\n",
       " 9.095345767968416,\n",
       " 7.5785125097132156,\n",
       " 8.179338213573075,\n",
       " 8.076985573035808,\n",
       " 9.364864893708233,\n",
       " 8.918333344223203,\n",
       " 1.4044594133120059,\n",
       " 7.970508885407335,\n",
       " 3.1629302974105746,\n",
       " 6.73487854348844,\n",
       " 9.267381727123757,\n",
       " 5.966040284738411,\n",
       " 9.136968310893097,\n",
       " 8.267633894644744,\n",
       " 2.9348926192611997,\n",
       " 8.718768878776029,\n",
       " 5.482778209981417,\n",
       " 6.324950524942188]"
      ]
     },
     "execution_count": 34,
     "metadata": {},
     "output_type": "execute_result"
    }
   ],
   "source": [
    "skew_index"
   ]
  },
  {
   "cell_type": "code",
   "execution_count": null,
   "metadata": {},
   "outputs": [],
   "source": []
  },
  {
   "cell_type": "code",
   "execution_count": null,
   "metadata": {},
   "outputs": [],
   "source": []
  },
  {
   "cell_type": "code",
   "execution_count": null,
   "metadata": {},
   "outputs": [],
   "source": []
  },
  {
   "cell_type": "code",
   "execution_count": null,
   "metadata": {},
   "outputs": [],
   "source": []
  },
  {
   "cell_type": "markdown",
   "metadata": {},
   "source": [
    "# Expected Shortfall"
   ]
  },
  {
   "cell_type": "code",
   "execution_count": 11,
   "metadata": {},
   "outputs": [],
   "source": [
    "# SUZB3\n",
    "SUZB3.sort_values('return', inplace = True, ascending = True)\n",
    "\n",
    "# MGLU3\n",
    "MGLU3.sort_values('return', inplace = True, ascending = True)\n",
    "\n",
    "# FIBR3\n",
    "FIBR3.sort_values('return', inplace = True, ascending = True)\n",
    "\n",
    "# BTOW3\n",
    "BTOW3.sort_values('return', inplace = True, ascending = True)\n",
    "\n",
    "# VALE3\n",
    "VALE3.sort_values('return', inplace = True, ascending = True)\n",
    "\n",
    "# BRKM5\n",
    "BRKM5.sort_values('return', inplace = True, ascending = True)\n",
    "\n",
    "# EMBR3\n",
    "EMBR3.sort_values('return', inplace = True, ascending = True)\n",
    "\n",
    "# PETR4\n",
    "PETR4.sort_values('return', inplace = True, ascending = True)\n",
    "\n",
    "# CPFE3\n",
    "CPFE3.sort_values('return', inplace = True, ascending = True)\n",
    "\n",
    "# KLBN4\n",
    "KLBN4.sort_values('return', inplace = True, ascending = True)\n",
    "\n",
    "# BRFS3\n",
    "BRFS3.sort_values('return', inplace = True, ascending = True)\n",
    "\n",
    "# KROT3\n",
    "KROT3.sort_values('return', inplace = True, ascending = True)\n",
    "\n",
    "# ELET6\n",
    "ELET6.sort_values('return', inplace = True, ascending = True)\n",
    "\n",
    "# QUAL3\n",
    "QUAL3.sort_values('return', inplace = True, ascending = True)\n",
    "\n",
    "# UGPA3\n",
    "UGPA3.sort_values('return', inplace = True, ascending = True)\n",
    "\n",
    "# ECOR3\n",
    "ECOR3.sort_values('return', inplace = True, ascending = True)\n",
    "\n",
    "# ELET3\n",
    "ELET3.sort_values('return', inplace = True, ascending = True)\n",
    "\n",
    "# CCRO3\n",
    "CCRO3.sort_values('return', inplace = True, ascending = True)\n",
    "\n",
    "# SBSP3\n",
    "SBSP3.sort_values('return', inplace = True, ascending = True)\n",
    "\n",
    "# GOLL4\n",
    "GOLL4.sort_values('return', inplace = True, ascending = True)"
   ]
  },
  {
   "cell_type": "code",
   "execution_count": 12,
   "metadata": {},
   "outputs": [
    {
     "name": "stdout",
     "output_type": "stream",
     "text": [
      "CL_best         SUZB3       MGLU3       FIBR3       BTOW3       VALE3       BRKM5       EMBR3       PETR4       CPFE3      KLBN4\n",
      "---------  ----------  ----------  ----------  ----------  ----------  ----------  ----------  ----------  ----------  ---------\n",
      "90%        -0.0294558  -0.0265923  -0.0163942  -0.0319108  -0.0179333  -0.0189125  -0.0221078  -0.0174731  -0.0141509  -0.115174\n",
      "95%        -0.0440674  -0.0888576  -0.0664997  -0.0529762  -0.0422093  -0.120148   -0.0538966  -0.0582566  -0.0351348  -0.177107\n",
      "CL_worst         BRFS3       KROT3       ELET6       QUAL3       UGPA3       ECOR3       ELET3       CCRO3       SBSP3       GOLL4\n",
      "----------  ----------  ----------  ----------  ----------  ----------  ----------  ----------  ----------  ----------  ----------\n",
      "90%         -0.022163   -0.0187937  -0.0288427  -0.0305964  -0.0237697  -0.015068   -0.0223405  -0.025386   -0.0162307  -0.0484707\n",
      "95%         -0.0654729  -0.0255653  -0.0396339  -0.0472045  -0.0428327  -0.0291199  -0.105484   -0.0617183  -0.0246727  -0.12997\n"
     ]
    }
   ],
   "source": [
    "ES_90 = [\n",
    "SUZB3['return'].quantile(0.1),\n",
    "MGLU3['return'].quantile(0.1),\n",
    "FIBR3['return'].quantile(0.1),\n",
    "BTOW3['return'].quantile(0.1),\n",
    "VALE3['return'].quantile(0.1),\n",
    "BRKM5['return'].quantile(0.1),\n",
    "EMBR3['return'].quantile(0.1),\n",
    "PETR4['return'].quantile(0.1),\n",
    "CPFE3['return'].quantile(0.1),\n",
    "KLBN4['return'].quantile(0.1),\n",
    "BRFS3['return'].quantile(0.1),\n",
    "KROT3['return'].quantile(0.1),\n",
    "ELET6['return'].quantile(0.1),\n",
    "QUAL3['return'].quantile(0.1),\n",
    "UGPA3['return'].quantile(0.1),\n",
    "ECOR3['return'].quantile(0.1),\n",
    "ELET3['return'].quantile(0.1),\n",
    "CCRO3['return'].quantile(0.1),\n",
    "SBSP3['return'].quantile(0.1),\n",
    "GOLL4['return'].quantile(0.1)    \n",
    "]\n",
    "\n",
    "ES_95 = [\n",
    "SUZB3['return'].quantile(0.05),\n",
    "MGLU3['return'].quantile(0.05),\n",
    "FIBR3['return'].quantile(0.05),\n",
    "BTOW3['return'].quantile(0.05),\n",
    "VALE3['return'].quantile(0.05),\n",
    "BRKM5['return'].quantile(0.05),\n",
    "EMBR3['return'].quantile(0.05),\n",
    "PETR4['return'].quantile(0.05),\n",
    "CPFE3['return'].quantile(0.05),\n",
    "KLBN4['return'].quantile(0.05),\n",
    "BRFS3['return'].quantile(0.05),\n",
    "KROT3['return'].quantile(0.05),\n",
    "ELET6['return'].quantile(0.05),\n",
    "QUAL3['return'].quantile(0.05),\n",
    "UGPA3['return'].quantile(0.05),\n",
    "ECOR3['return'].quantile(0.05),\n",
    "ELET3['return'].quantile(0.05),\n",
    "CCRO3['return'].quantile(0.05),\n",
    "SBSP3['return'].quantile(0.05),\n",
    "GOLL4['return'].quantile(0.05)    \n",
    "]\n",
    "\n",
    "print(tabulate([['90%', ES_90[0], ES_90[1], ES_90[2], ES_90[3], ES_90[4], ES_90[5], ES_90[6], ES_90[7], ES_90[8], ES_90[9]],\n",
    "                ['95%', ES_95[0], ES_95[1], ES_95[2], ES_95[3], ES_95[4], ES_95[5], ES_95[6], ES_95[7], ES_95[8], ES_95[9]]], \n",
    "               headers = ['CL_best', 'SUZB3', 'MGLU3','FIBR3', 'BTOW3', 'VALE3', 'BRKM5', 'EMBR3','PETR4', 'CPFE3', 'KLBN4']))\n",
    "\n",
    "\n",
    "\n",
    "print(tabulate([['90%', ES_90[10], ES_90[11], ES_90[12], ES_90[13], ES_90[14], ES_90[15], ES_90[16], ES_90[17], ES_90[18], ES_90[19]],\n",
    "                ['95%', ES_95[10], ES_95[11], ES_95[12], ES_95[13], ES_95[14], ES_95[15], ES_95[16], ES_95[17], ES_95[18], ES_95[19]]], \n",
    "               headers = ['CL_worst', 'BRFS3', 'KROT3','ELET6', 'QUAL3', 'UGPA3', 'ECOR3', 'ELET3','CCRO3', 'SBSP3', 'GOLL4']))"
   ]
  },
  {
   "cell_type": "code",
   "execution_count": null,
   "metadata": {},
   "outputs": [],
   "source": []
  },
  {
   "cell_type": "code",
   "execution_count": null,
   "metadata": {},
   "outputs": [],
   "source": []
  }
 ],
 "metadata": {
  "kernelspec": {
   "display_name": "Python 3",
   "language": "python",
   "name": "python3"
  },
  "language_info": {
   "codemirror_mode": {
    "name": "ipython",
    "version": 3
   },
   "file_extension": ".py",
   "mimetype": "text/x-python",
   "name": "python",
   "nbconvert_exporter": "python",
   "pygments_lexer": "ipython3",
   "version": "3.7.1"
  },
  "toc": {
   "base_numbering": 1,
   "nav_menu": {},
   "number_sections": true,
   "sideBar": true,
   "skip_h1_title": false,
   "title_cell": "Table of Contents",
   "title_sidebar": "Contents",
   "toc_cell": false,
   "toc_position": {},
   "toc_section_display": true,
   "toc_window_display": false
  },
  "varInspector": {
   "cols": {
    "lenName": 16,
    "lenType": 16,
    "lenVar": 40
   },
   "kernels_config": {
    "python": {
     "delete_cmd_postfix": "",
     "delete_cmd_prefix": "del ",
     "library": "var_list.py",
     "varRefreshCmd": "print(var_dic_list())"
    },
    "r": {
     "delete_cmd_postfix": ") ",
     "delete_cmd_prefix": "rm(",
     "library": "var_list.r",
     "varRefreshCmd": "cat(var_dic_list()) "
    }
   },
   "types_to_exclude": [
    "module",
    "function",
    "builtin_function_or_method",
    "instance",
    "_Feature"
   ],
   "window_display": false
  }
 },
 "nbformat": 4,
 "nbformat_minor": 2
}
