{
 "cells": [
  {
   "cell_type": "markdown",
   "metadata": {},
   "source": [
    "VaR and ES calculated from .csv previously created.\n",
    "confidence level of 90/95\n",
    "Correcting schema for dataframe.\n",
    "mean and std for price each 5m. "
   ]
  },
  {
   "cell_type": "markdown",
   "metadata": {},
   "source": [
    "Some few sources\n",
    "https://arch.readthedocs.io/en/latest/univariate/univariate_volatility_forecasting.html\n",
    "http://www.quantatrisk.com/2013/03/30/garchpq-model-and-exit-strategy-for-intraday-algorithmic-traders/\n",
    "https://machinelearningmastery.com/develop-arch-and-garch-models-for-time-series-forecasting-in-python/\n",
    "http://barnesanalytics.com/garch-models-in-python\n",
    "https://www.risk.net/risk-magazine/technical-paper/1506669/var-versus-expected-shortfall\n",
    "https://nbviewer.jupyter.org/github/Yorko/mlcourse_open/blob/master/jupyter_english/topic09_time_series/topic9_part1_time_series_python.ipynb"
   ]
  },
  {
   "cell_type": "markdown",
   "metadata": {},
   "source": [
    "# First things first"
   ]
  },
  {
   "cell_type": "code",
   "execution_count": 1,
   "metadata": {},
   "outputs": [],
   "source": [
    "import os, sys\n",
    "import warnings\n",
    "\n",
    "if not sys.warnoptions:\n",
    "    warnings.simplefilter(\"ignore\")"
   ]
  },
  {
   "cell_type": "code",
   "execution_count": null,
   "metadata": {},
   "outputs": [],
   "source": [
    "# Data manipulation\n",
    "import numpy as np\n",
    "import pandas as pd\n",
    "import datetime\n",
    "\n",
    "# Plotting\n",
    "import matplotlib.pyplot as plt\n",
    "import seaborn\n",
    "import matplotlib.mlab as mlab\n",
    "\n",
    "# Statistical manipulation\n",
    "from scipy.stats import norm\n",
    "\n",
    "# Tabulate data\n",
    "from tabulate import tabulate\n",
    "\n",
    "\n",
    "main_path = os.getcwd()\n",
    "\n",
    "df_cpa = pd.read_csv(os.path.join(main_path, r\"Bases\\OFER_CPA_20180731.txt\"), \n",
    "                     sep=\";\",low_memory=False,header=1)\n",
    "\n",
    "df_vda = pd.read_csv(os.path.join(main_path, r\"Bases\\OFER_VDA_20180731.txt\"), \n",
    "                     sep=\";\",low_memory=False,header=1,error_bad_lines = False)"
   ]
  },
  {
   "cell_type": "code",
   "execution_count": 3,
   "metadata": {},
   "outputs": [],
   "source": [
    "df_cpa.columns = ['Data_Sessão',\n",
    "'Símbolo_do_Instrumento',\n",
    "'Sentido_Of_Compra',\n",
    "'Sequência',\n",
    "'GenerationID_Of_Compra',\n",
    "'Cód_do_Evento_da_Of_Compra',\n",
    "'Hora_Prioridade',\n",
    "'Ind_de_Prioridade_Of_Compra',\n",
    "'Preço_Of_Compra',\n",
    "'Qtd_Total_Of_Compra',\n",
    "'Qtd_Negociada_Of_Compra',\n",
    "'Data_Oferta_Compra',\n",
    "'Data_de_Entrada_Of_Compra',\n",
    "'Estado_Of_Compra',\n",
    "'Condição_Oferta',\n",
    "'Corretora']\n",
    "\n",
    "df_vda.columns = ['Data_Sessão',\n",
    "'Símbolo_do_Instrumento',\n",
    "'Sentido_Of_Compra',\n",
    "'Sequência',\n",
    "'GenerationID_Of_Compra',\n",
    "'Cód_do_Evento_da_Of_Compra',\n",
    "'Hora_Prioridade',\n",
    "'Ind_de_Prioridade_Of_Compra',\n",
    "'Preço_Of_Compra',\n",
    "'Qtd_Total_Of_Compra',\n",
    "'Qtd_Negociada_Of_Compra',\n",
    "'Data_Oferta_Compra',\n",
    "'Data_de_Entrada_Of_Compra',\n",
    "'Estado_Of_Compra',\n",
    "'Condição_Oferta',\n",
    "'Corretora']\n"
   ]
  },
  {
   "cell_type": "code",
   "execution_count": 5,
   "metadata": {},
   "outputs": [],
   "source": [
    "list = ['SUZB3                                             ',\n",
    "'MGLU3                                             ',\n",
    "'FIBR3                                             ',\n",
    "'BTOW3                                             ',\n",
    "'VALE3                                             ',\n",
    "'BRKM5                                             ',\n",
    "'EMBR3                                             ',\n",
    "'PETR4                                             ',\n",
    "'CPFE3                                             ',\n",
    "'KLBN4                                             ',\n",
    "'BRFS3                                             ',\n",
    "'KROT3                                             ',\n",
    "'ELET6                                             ',\n",
    "'QUAL3                                             ',\n",
    "'UGPA3                                             ',\n",
    "'ECOR3                                             ',\n",
    "'ELET3                                             ',\n",
    "'CCRO3                                             ',\n",
    "'SBSP3                                             ',\n",
    "'GOLL4                                             ']"
   ]
  },
  {
   "cell_type": "code",
   "execution_count": 6,
   "metadata": {},
   "outputs": [],
   "source": [
    "df_cpa = df_cpa[df_cpa[\"Símbolo_do_Instrumento\"].isin(list)] # elimina assets no estudiados\n",
    "\n",
    "#df_cpa.drop(['Data_Sessão','Sentido_Of_Compra','Corretora'], inplace = True, axis = 1)\n",
    "df_cpa.drop(['Data_Sessão',\n",
    "\n",
    "'Sentido_Of_Compra',\n",
    "'Sequência',\n",
    "'GenerationID_Of_Compra',\n",
    "'Cód_do_Evento_da_Of_Compra',\n",
    "\n",
    "'Ind_de_Prioridade_Of_Compra',\n",
    "\n",
    "'Qtd_Total_Of_Compra',\n",
    "'Qtd_Negociada_Of_Compra',\n",
    "'Data_Oferta_Compra',\n",
    "'Data_de_Entrada_Of_Compra',\n",
    "'Estado_Of_Compra',\n",
    "'Condição_Oferta',\n",
    "'Corretora'],inplace = True, axis = 1)\n",
    "\n",
    "####################################################################################################################### \n",
    "################################################################################################################# Venda\n",
    "####################################################################################################################### \n",
    "df_dva = df_vda[df_vda[\"Símbolo_do_Instrumento\"].isin(list)] # elimina assets no estudiados\n",
    "\n",
    "#df_cpa.drop(['Data_Sessão','Sentido_Of_Compra','Corretora'], inplace = True, axis = 1)\n",
    "df_vda.drop(['Data_Sessão',\n",
    "\n",
    "'Sentido_Of_Compra',\n",
    "'Sequência',\n",
    "'GenerationID_Of_Compra',\n",
    "'Cód_do_Evento_da_Of_Compra',\n",
    "\n",
    "'Ind_de_Prioridade_Of_Compra',\n",
    "\n",
    "'Qtd_Total_Of_Compra',\n",
    "'Qtd_Negociada_Of_Compra',\n",
    "'Data_Oferta_Compra',\n",
    "'Data_de_Entrada_Of_Compra',\n",
    "'Estado_Of_Compra',\n",
    "'Condição_Oferta',\n",
    "'Corretora'],inplace = True, axis = 1)"
   ]
  },
  {
   "cell_type": "code",
   "execution_count": 236,
   "metadata": {},
   "outputs": [],
   "source": [
    "SUZB3 = df_cpa.loc[df_cpa.Símbolo_do_Instrumento=='SUZB3                                             ']\n",
    "SUZB3 = SUZB3.sort_values(by=['Hora_Prioridade'])\n",
    "\n",
    "MGLU3 = df_cpa.loc[df_cpa.Símbolo_do_Instrumento=='MGLU3                                             ']\n",
    "MGLU3 = MGLU3.sort_values(by=['Hora_Prioridade'])\n",
    "\n",
    "FIBR3 = df_cpa.loc[df_cpa.Símbolo_do_Instrumento=='FIBR3                                             ']\n",
    "FIBR3 = FIBR3.sort_values(by=['Hora_Prioridade'])\n",
    "\n",
    "BTOW3 = df_cpa.loc[df_cpa.Símbolo_do_Instrumento=='BTOW3                                             ']\n",
    "BTOW3 = BTOW3.sort_values(by=['Hora_Prioridade'])\n",
    "\n",
    "VALE3 = df_cpa.loc[df_cpa.Símbolo_do_Instrumento=='VALE3                                             ']\n",
    "VALE3 = VALE3.sort_values(by=['Hora_Prioridade'])\n",
    "\n",
    "BRKM5 = df_cpa.loc[df_cpa.Símbolo_do_Instrumento=='BRKM5                                             ']\n",
    "BRKM5 = BRKM5.sort_values(by=['Hora_Prioridade'])\n",
    "\n",
    "EMBR3 = df_cpa.loc[df_cpa.Símbolo_do_Instrumento=='EMBR3                                             ']\n",
    "EMBR3 = EMBR3.sort_values(by=['Hora_Prioridade'])\n",
    "\n",
    "PETR4 = df_cpa.loc[df_cpa.Símbolo_do_Instrumento=='PETR4                                             ']\n",
    "PETR4 = PETR4.sort_values(by=['Hora_Prioridade'])\n",
    "\n",
    "CPFE3 = df_cpa.loc[df_cpa.Símbolo_do_Instrumento=='CPFE3                                             ']\n",
    "CPFE3 = CPFE3.sort_values(by=['Hora_Prioridade'])\n",
    "\n",
    "KLBN4 = df_cpa.loc[df_cpa.Símbolo_do_Instrumento=='KLBN4                                             ']\n",
    "KLBN4 = KLBN4.sort_values(by=['Hora_Prioridade'])\n",
    "\n",
    "BRFS3 = df_cpa.loc[df_cpa.Símbolo_do_Instrumento=='BRFS3                                             ']\n",
    "BRFS3 = BRFS3.sort_values(by=['Hora_Prioridade'])\n",
    "\n",
    "KROT3 = df_cpa.loc[df_cpa.Símbolo_do_Instrumento=='KROT3                                             ']\n",
    "KROT3 = KROT3.sort_values(by=['Hora_Prioridade'])\n",
    "\n",
    "ELET6 = df_cpa.loc[df_cpa.Símbolo_do_Instrumento=='ELET6                                             ']\n",
    "ELET6 = ELET6.sort_values(by=['Hora_Prioridade'])\n",
    "\n",
    "QUAL3 = df_cpa.loc[df_cpa.Símbolo_do_Instrumento=='QUAL3                                             ']\n",
    "QUAL3 = QUAL3.sort_values(by=['Hora_Prioridade'])\n",
    "\n",
    "UGPA3 = df_cpa.loc[df_cpa.Símbolo_do_Instrumento=='UGPA3                                             ']\n",
    "UGPA3 = UGPA3.sort_values(by=['Hora_Prioridade'])\n",
    "\n",
    "ECOR3 = df_cpa.loc[df_cpa.Símbolo_do_Instrumento=='ECOR3                                             ']\n",
    "ECOR3 = ECOR3.sort_values(by=['Hora_Prioridade'])\n",
    "\n",
    "ELET3 = df_cpa.loc[df_cpa.Símbolo_do_Instrumento=='ELET3                                             ']\n",
    "ELET3 = ELET3.sort_values(by=['Hora_Prioridade'])\n",
    "\n",
    "CCRO3 = df_cpa.loc[df_cpa.Símbolo_do_Instrumento=='CCRO3                                             ']\n",
    "CCRO3 = CCRO3.sort_values(by=['Hora_Prioridade'])\n",
    "\n",
    "SBSP3 = df_cpa.loc[df_cpa.Símbolo_do_Instrumento=='SBSP3                                             ']\n",
    "SBSP3 = SBSP3.sort_values(by=['Hora_Prioridade'])\n",
    "\n",
    "GOLL4 = df_cpa.loc[df_cpa.Símbolo_do_Instrumento=='GOLL4                                             ']\n",
    "GOLL4 = GOLL4.sort_values(by=['Hora_Prioridade'])\n",
    "#GOLL4['return'] = GOLL4.Preço_Of_Compra.pct_change()\n",
    "#is_inf = GOLL4['return'].iloc[:] == np.inf\n",
    "#GOLL4['return'] = GOLL4['return'].loc[~is_inf, ]\n",
    "#mean_GOLL4 = np.mean(GOLL4['return'])\n",
    "#std_GOLL4 = np.std(GOLL4['return'])\n"
   ]
  },
  {
   "cell_type": "code",
   "execution_count": null,
   "metadata": {},
   "outputs": [],
   "source": [
    "df_cpa.to_csv(os.path.join(main_path, r\"Bases\\CPA\\OFER_CPA_20180731.csv\"), \n",
    "              index=False)\n",
    "\n",
    "df_vda.to_csv(os.path.join(main_path, r\"Bases\\VDA\\OFER_VDA_20180731.csv\"), \n",
    "              index=False)"
   ]
  },
  {
   "cell_type": "code",
   "execution_count": null,
   "metadata": {},
   "outputs": [],
   "source": []
  },
  {
   "cell_type": "markdown",
   "metadata": {},
   "source": [
    "# working on the actual DataFrame"
   ]
  },
  {
   "cell_type": "code",
   "execution_count": 235,
   "metadata": {},
   "outputs": [],
   "source": [
    "df_cpa = pd.read_csv(os.path.join(main_path, r\"Bases\\CPA\\OFER_CPA_20180731.csv\"))\n",
    "\n",
    "#df_vda = pd.read_csv(os.path.join(main_path, r\"Bases\\VDA\\OFER_VDA_20180731.csv\"))"
   ]
  },
  {
   "cell_type": "code",
   "execution_count": 245,
   "metadata": {},
   "outputs": [],
   "source": [
    "# Transforma para segundos o horario de prioridade\n",
    "def time_to_second(data):\n",
    "    data['parts'] = data['Hora_Prioridade'].apply(lambda x: x.split(':'))\n",
    "    data['seconds'] = data['parts'].apply(lambda x: round(int(x[0])*(60*60) + int(x[1])*60 + float(x[2])))\n",
    "\n",
    "# calcula a media de preco da acao num intervalo de 5minutos    \n",
    "def media_temp(data, gran = 300):\n",
    "    init = data['seconds'].iloc[0]\n",
    "    end = data['seconds'].iloc[-1]\n",
    "    lista = []\n",
    "    media = []\n",
    "    for i in range(len(data)):\n",
    "        if data['seconds'].iloc[i] - init <= gran:\n",
    "            lista.append(data['Preço_Of_Compra'].iloc[i])\n",
    "        else:\n",
    "            media.append(np.sum(lista) / len(lista))\n",
    "            lista = []\n",
    "            init = data['seconds'].iloc[i]\n",
    "    \n",
    "    headers = ['mean']\n",
    "    \n",
    "    df = pd.DataFrame(data = media, columns = headers)\n",
    "    df['return'] = df['mean'].pct_change()\n",
    "        \n",
    "    return df"
   ]
  },
  {
   "cell_type": "code",
   "execution_count": 251,
   "metadata": {},
   "outputs": [],
   "source": [
    "# SUZB3\n",
    "time_to_second(SUZB3)\n",
    "SUZB3      = media_temp(SUZB3)\n",
    "mean_SUZB3 = np.mean(SUZB3['return'])\n",
    "std_SUZB3  = np.std(SUZB3['return'])\n",
    "\n",
    "\n",
    "# MGLU3\n",
    "time_to_second(MGLU3)\n",
    "MGLU3      = media_temp(MGLU3)\n",
    "mean_MGLU3 = np.mean(MGLU3['return'])\n",
    "std_MGLU3  = np.std(MGLU3['return'])\n",
    "\n",
    "\n",
    "# FIBR3\n",
    "time_to_second(FIBR3)\n",
    "FIBR3      = media_temp(FIBR3)\n",
    "mean_FIBR3 = np.mean(FIBR3['return'])\n",
    "std_FIBR3  = np.std(FIBR3['return'])\n",
    "\n",
    "\n",
    "# BTOW3\n",
    "time_to_second(BTOW3)\n",
    "BTOW3      = media_temp(BTOW3)\n",
    "mean_BTOW3 = np.mean(BTOW3['return'])\n",
    "std_BTOW3  = np.std(BTOW3['return'])\n",
    "\n",
    "\n",
    "# VALE3\n",
    "time_to_second(VALE3)\n",
    "VALE3      = media_temp(VALE3)\n",
    "mean_VALE3 = np.mean(VALE3['return'])\n",
    "std_VALE3  = np.std(VALE3['return'])\n",
    "\n",
    "\n",
    "# BRKM5\n",
    "time_to_second(BRKM5)\n",
    "BRKM5      = media_temp(BRKM5)\n",
    "mean_BRKM5 = np.mean(BRKM5['return'])\n",
    "std_BRKM5  = np.std(BRKM5['return'])\n",
    "\n",
    "\n",
    "# EMBR3\n",
    "time_to_second(EMBR3)\n",
    "EMBR3      = media_temp(EMBR3)\n",
    "mean_EMBR3 = np.mean(EMBR3['return'])\n",
    "std_EMBR3  = np.std(EMBR3['return'])\n",
    "\n",
    "\n",
    "# PETR4\n",
    "time_to_second(PETR4)\n",
    "PETR4      = media_temp(PETR4)\n",
    "mean_PETR4 = np.mean(PETR4['return'])\n",
    "std_PETR4  = np.std(PETR4['return'])\n",
    "\n",
    "\n",
    "# CPFE3\n",
    "time_to_second(CPFE3)\n",
    "CPFE3      = media_temp(CPFE3)\n",
    "mean_CPFE3 = np.mean(CPFE3['return'])\n",
    "std_CPFE3  = np.std(CPFE3['return'])\n",
    "\n",
    "\n",
    "# KLBN4\n",
    "time_to_second(KLBN4)\n",
    "KLBN4      = media_temp(KLBN4)\n",
    "mean_KLBN4 = np.mean(KLBN4['return'])\n",
    "std_KLBN4  = np.std(KLBN4['return'])\n",
    "\n",
    "\n",
    "# BRFS3\n",
    "time_to_second(BRFS3)\n",
    "BRFS3      = media_temp(BRFS3)\n",
    "mean_BRFS3 = np.mean(BRFS3['return'])\n",
    "std_BRFS3  = np.std(BRFS3['return'])\n",
    "\n",
    "\n",
    "# KROT3\n",
    "time_to_second(KROT3)\n",
    "KROT3      = media_temp(KROT3)\n",
    "mean_KROT3 = np.mean(KROT3['return'])\n",
    "std_KROT3  = np.std(KROT3['return'])\n",
    "\n",
    "\n",
    "# ELET6\n",
    "time_to_second(ELET6)\n",
    "ELET6      = media_temp(ELET6)\n",
    "mean_ELET6 = np.mean(ELET6['return'])\n",
    "std_ELET6  = np.std(ELET6['return'])\n",
    "\n",
    "\n",
    "# QUAL3\n",
    "time_to_second(QUAL3)\n",
    "QUAL3      = media_temp(QUAL3)\n",
    "mean_QUAL3 = np.mean(QUAL3['return'])\n",
    "std_QUAL3  = np.std(QUAL3['return'])\n",
    "\n",
    "\n",
    "# UGPA3\n",
    "time_to_second(UGPA3)\n",
    "UGPA3      = media_temp(UGPA3)\n",
    "mean_UGPA3 = np.mean(UGPA3['return'])\n",
    "std_UGPA3  = np.std(UGPA3['return'])\n",
    "\n",
    "\n",
    "# ECOR3\n",
    "time_to_second(ECOR3)\n",
    "ECOR3      = media_temp(ECOR3)\n",
    "mean_ECOR3 = np.mean(ECOR3['return'])\n",
    "std_ECOR3  = np.std(ECOR3['return'])\n",
    "\n",
    "\n",
    "# ELET3\n",
    "time_to_second(ELET3)\n",
    "ELET3      = media_temp(ELET3)\n",
    "mean_ELET3 = np.mean(ELET3['return'])\n",
    "std_ELET3  = np.std(ELET3['return'])\n",
    "\n",
    "\n",
    "# CCRO3\n",
    "time_to_second(CCRO3)\n",
    "CCRO3      = media_temp(CCRO3)\n",
    "mean_CCRO3 = np.mean(CCRO3['return'])\n",
    "std_CCRO3  = np.std(CCRO3['return'])\n",
    "\n",
    "\n",
    "# SBSP3\n",
    "time_to_second(SBSP3)\n",
    "SBSP3      = media_temp(SBSP3)\n",
    "mean_SBSP3 = np.mean(SBSP3['return'])\n",
    "std_SBSP3  = np.std(SBSP3['return'])\n",
    "\n",
    "\n",
    "# GOLL4\n",
    "time_to_second(GOLL4)\n",
    "GOLL4      = media_temp(GOLL4)\n",
    "mean_GOLL4 = np.mean(GOLL4['return'])\n",
    "std_GOLL4  = np.std(GOLL4['return'])"
   ]
  },
  {
   "cell_type": "code",
   "execution_count": 205,
   "metadata": {},
   "outputs": [
    {
     "data": {
      "text/plain": [
       "<matplotlib.axes._subplots.AxesSubplot at 0x13da2e3da58>"
      ]
     },
     "execution_count": 205,
     "metadata": {},
     "output_type": "execute_result"
    },
    {
     "data": {
      "image/png": "[encoded data removed]",
      "text/plain": [
       "<Figure size 432x288 with 2 Axes>"
      ]
     },
     "metadata": {},
     "output_type": "display_data"
    }
   ],
   "source": [
    "x = SUZB3['seconds']\n",
    "y = SUZB3['Preço_Of_Compra']\n",
    "SUZB3.plot.hexbin(x = 'seconds', y = 'Preço_Of_Compra', gridsize = 20, cmap = 'RdBu')"
   ]
  },
  {
   "cell_type": "code",
   "execution_count": null,
   "metadata": {},
   "outputs": [],
   "source": [
    "best = [\n",
    "SUZB3,\n",
    "MGLU3,\n",
    "FIBR3,\n",
    "BTOW3,\n",
    "VALE3,\n",
    "BRKM5,\n",
    "EMBR3,\n",
    "PETR4,\n",
    "CPFE3,\n",
    "KLBN4]\n",
    "\n",
    "worst = [\n",
    "BRFS3,\n",
    "KROT3,\n",
    "ELET6,\n",
    "QUAL3,\n",
    "UGPA3,\n",
    "ECOR3,\n",
    "ELET3,\n",
    "CCRO3,\n",
    "SBSP3,\n",
    "GOLL4]"
   ]
  },
  {
   "cell_type": "markdown",
   "metadata": {},
   "source": [
    "## Exploration "
   ]
  },
  {
   "cell_type": "code",
   "execution_count": 253,
   "metadata": {
    "scrolled": true
   },
   "outputs": [
    {
     "name": "stderr",
     "output_type": "stream",
     "text": [
      "C:\\Users\\vipac\\Anaconda3\\lib\\site-packages\\matplotlib\\axes\\_axes.py:6462: UserWarning: The 'normed' kwarg is deprecated, and has been replaced by the 'density' kwarg.\n",
      "  warnings.warn(\"The 'normed' kwarg is deprecated, and has been \"\n",
      "C:\\Users\\vipac\\Anaconda3\\lib\\site-packages\\ipykernel_launcher.py:3: MatplotlibDeprecationWarning: scipy.stats.norm.pdf\n",
      "  This is separate from the ipykernel package so we can avoid doing imports until\n"
     ]
    },
    {
     "data": {
      "image/png": "[encoded data removed]",
      "text/plain": [
       "<Figure size 432x288 with 1 Axes>"
      ]
     },
     "metadata": {},
     "output_type": "display_data"
    }
   ],
   "source": [
    "ELET6['return'].hist(bins = 100, normed = True, histtype = 'stepfilled', alpha = 1)\n",
    "x = np.linspace(mean_ELET6 - 3*std_ELET6, mean_ELET6 + 3*std_ELET6,100)\n",
    "plt.plot(x,mlab.normpdf(x, mean_ELET6,std_ELET6),\"r\")\n",
    "plt.show()"
   ]
  },
  {
   "cell_type": "code",
   "execution_count": null,
   "metadata": {
    "scrolled": true
   },
   "outputs": [],
   "source": [
    "for i in best:\n",
    "    i.hist(column = 'return', bins = 100, normed = True, histtype = 'stepfilled', alpha = 1, label = 'i')\n",
    "    plt.ylabel('Frequency')"
   ]
  },
  {
   "cell_type": "code",
   "execution_count": null,
   "metadata": {},
   "outputs": [],
   "source": [
    "for i in worst:\n",
    "    i.hist(column = 'return', bins = 100, normed = True, histtype = 'stepfilled', alpha = 1, label = i)"
   ]
  },
  {
   "cell_type": "code",
   "execution_count": null,
   "metadata": {
    "scrolled": false
   },
   "outputs": [],
   "source": [
    "VaR_90 = [\n",
    "norm.ppf(1-0.9, mean_SUZB3, std_SUZB3),\n",
    "norm.ppf(1-0.9, mean_MGLU3, std_MGLU3),\n",
    "norm.ppf(1-0.9, mean_FIBR3, std_FIBR3),\n",
    "norm.ppf(1-0.9, mean_BTOW3, std_BTOW3),\n",
    "norm.ppf(1-0.9, mean_VALE3, std_VALE3),\n",
    "norm.ppf(1-0.9, mean_BRKM5, std_BRKM5),\n",
    "norm.ppf(1-0.9, mean_EMBR3, std_EMBR3),\n",
    "norm.ppf(1-0.9, mean_PETR4, std_PETR4),\n",
    "norm.ppf(1-0.9, mean_CPFE3, std_CPFE3),\n",
    "norm.ppf(1-0.9, mean_KLBN4, std_KLBN4),\n",
    "norm.ppf(1-0.9, mean_BRFS3, std_BRFS3),\n",
    "norm.ppf(1-0.9, mean_KROT3, std_KROT3),\n",
    "norm.ppf(1-0.9, mean_ELET6, std_ELET6),\n",
    "norm.ppf(1-0.9, mean_QUAL3, std_QUAL3),\n",
    "norm.ppf(1-0.9, mean_UGPA3, std_UGPA3),\n",
    "norm.ppf(1-0.9, mean_ECOR3, std_ECOR3),\n",
    "norm.ppf(1-0.9, mean_ELET3, std_ELET3),\n",
    "norm.ppf(1-0.9, mean_CCRO3, std_CCRO3),\n",
    "norm.ppf(1-0.9, mean_SBSP3, std_SBSP3),\n",
    "norm.ppf(1-0.9, mean_GOLL4, std_GOLL4)]\n",
    "\n",
    "VaR_95 = [\n",
    "norm.ppf(1-0.95, mean_SUZB3, std_SUZB3),\n",
    "norm.ppf(1-0.95, mean_MGLU3, std_MGLU3),\n",
    "norm.ppf(1-0.95, mean_FIBR3, std_FIBR3),\n",
    "norm.ppf(1-0.95, mean_BTOW3, std_BTOW3),\n",
    "norm.ppf(1-0.95, mean_VALE3, std_VALE3),\n",
    "norm.ppf(1-0.95, mean_BRKM5, std_BRKM5),\n",
    "norm.ppf(1-0.95, mean_EMBR3, std_EMBR3),\n",
    "norm.ppf(1-0.95, mean_PETR4, std_PETR4),\n",
    "norm.ppf(1-0.95, mean_CPFE3, std_CPFE3),\n",
    "norm.ppf(1-0.95, mean_KLBN4, std_KLBN4),\n",
    "norm.ppf(1-0.95, mean_BRFS3, std_BRFS3),\n",
    "norm.ppf(1-0.95, mean_KROT3, std_KROT3),\n",
    "norm.ppf(1-0.95, mean_ELET6, std_ELET6),\n",
    "norm.ppf(1-0.95, mean_QUAL3, std_QUAL3),\n",
    "norm.ppf(1-0.95, mean_UGPA3, std_UGPA3),\n",
    "norm.ppf(1-0.95, mean_ECOR3, std_ECOR3),\n",
    "norm.ppf(1-0.95, mean_ELET3, std_ELET3),\n",
    "norm.ppf(1-0.95, mean_CCRO3, std_CCRO3),\n",
    "norm.ppf(1-0.95, mean_SBSP3, std_SBSP3),\n",
    "norm.ppf(1-0.95, mean_GOLL4, std_GOLL4)\n",
    "]\n",
    "\n",
    "print(tabulate([['90%', VaR_90[0], VaR_90[1], VaR_90[2], VaR_90[3], VaR_90[4], VaR_90[5], VaR_90[6], VaR_90[7], VaR_90[8], VaR_90[9]],\n",
    "                ['95%', VaR_95[0], VaR_95[1], VaR_95[2], VaR_95[3], VaR_95[4], VaR_95[5], VaR_95[6], VaR_95[7], VaR_95[8], VaR_95[9]]], \n",
    "               headers = ['CL_best', 'SUZB3', 'MGLU3','FIBR3', 'BTOW3', 'VALE3', 'BRKM5', 'EMBR3','PETR4', 'CPFE3', 'KLBN4']))\n",
    "\n",
    "\n",
    "\n",
    "print(tabulate([['90%', VaR_90[10], VaR_90[11], VaR_90[12], VaR_90[13], VaR_90[14], VaR_90[15], VaR_90[16], VaR_90[17], VaR_90[18], VaR_90[19]],\n",
    "                ['95%', VaR_95[10], VaR_95[11], VaR_95[12], VaR_95[13], VaR_95[14], VaR_95[15], VaR_95[16], VaR_95[17], VaR_95[18], VaR_95[19]]], \n",
    "               headers = ['CL_worst', 'BRFS3', 'KROT3','ELET6', 'QUAL3', 'UGPA3', 'ECOR3', 'ELET3','CCRO3', 'SBSP3', 'GOLL4']))"
   ]
  },
  {
   "cell_type": "code",
   "execution_count": null,
   "metadata": {},
   "outputs": [],
   "source": []
  },
  {
   "cell_type": "code",
   "execution_count": null,
   "metadata": {},
   "outputs": [],
   "source": [
    "for i in best:\n",
    "    i.sort_values('return', inplace = True, ascending = True)"
   ]
  },
  {
   "cell_type": "code",
   "execution_count": null,
   "metadata": {},
   "outputs": [],
   "source": [
    "MGLU3"
   ]
  },
  {
   "cell_type": "code",
   "execution_count": null,
   "metadata": {},
   "outputs": [],
   "source": []
  },
  {
   "cell_type": "code",
   "execution_count": null,
   "metadata": {},
   "outputs": [],
   "source": []
  },
  {
   "cell_type": "code",
   "execution_count": null,
   "metadata": {},
   "outputs": [],
   "source": []
  },
  {
   "cell_type": "code",
   "execution_count": null,
   "metadata": {},
   "outputs": [],
   "source": []
  },
  {
   "cell_type": "code",
   "execution_count": null,
   "metadata": {},
   "outputs": [],
   "source": []
  },
  {
   "cell_type": "code",
   "execution_count": null,
   "metadata": {},
   "outputs": [],
   "source": []
  },
  {
   "cell_type": "code",
   "execution_count": null,
   "metadata": {},
   "outputs": [],
   "source": []
  },
  {
   "cell_type": "code",
   "execution_count": null,
   "metadata": {},
   "outputs": [],
   "source": []
  },
  {
   "cell_type": "code",
   "execution_count": null,
   "metadata": {},
   "outputs": [],
   "source": []
  },
  {
   "cell_type": "code",
   "execution_count": null,
   "metadata": {},
   "outputs": [],
   "source": []
  },
  {
   "cell_type": "code",
   "execution_count": null,
   "metadata": {},
   "outputs": [],
   "source": []
  },
  {
   "cell_type": "code",
   "execution_count": null,
   "metadata": {},
   "outputs": [],
   "source": []
  },
  {
   "cell_type": "code",
   "execution_count": null,
   "metadata": {},
   "outputs": [],
   "source": []
  },
  {
   "cell_type": "code",
   "execution_count": null,
   "metadata": {},
   "outputs": [],
   "source": []
  },
  {
   "cell_type": "code",
   "execution_count": null,
   "metadata": {},
   "outputs": [],
   "source": [
    "MGLU3.isnull().sum()"
   ]
  },
  {
   "cell_type": "code",
   "execution_count": null,
   "metadata": {},
   "outputs": [],
   "source": [
    "len(SUZB3['return'])"
   ]
  },
  {
   "cell_type": "code",
   "execution_count": null,
   "metadata": {},
   "outputs": [],
   "source": [
    "df_vda = df_vda[df_vda[\"Símbolo_do_Instrumento\"].isin(list)]\n",
    "\n",
    "df_vda.drop(['Data_Sessão','Sentido_Of_Compra','Corretora'], inplace = True, axis = 1)"
   ]
  },
  {
   "cell_type": "code",
   "execution_count": null,
   "metadata": {},
   "outputs": [],
   "source": []
  }
 ],
 "metadata": {
  "kernelspec": {
   "display_name": "Python 3",
   "language": "python",
   "name": "python3"
  },
  "language_info": {
   "codemirror_mode": {
    "name": "ipython",
    "version": 3
   },
   "file_extension": ".py",
   "mimetype": "text/x-python",
   "name": "python",
   "nbconvert_exporter": "python",
   "pygments_lexer": "ipython3",
   "version": "3.7.1"
  },
  "toc": {
   "base_numbering": 1,
   "nav_menu": {},
   "number_sections": true,
   "sideBar": true,
   "skip_h1_title": false,
   "title_cell": "Table of Contents",
   "title_sidebar": "Contents",
   "toc_cell": false,
   "toc_position": {},
   "toc_section_display": true,
   "toc_window_display": false
  },
  "varInspector": {
   "cols": {
    "lenName": 16,
    "lenType": 16,
    "lenVar": 40
   },
   "kernels_config": {
    "python": {
     "delete_cmd_postfix": "",
     "delete_cmd_prefix": "del ",
     "library": "var_list.py",
     "varRefreshCmd": "print(var_dic_list())"
    },
    "r": {
     "delete_cmd_postfix": ") ",
     "delete_cmd_prefix": "rm(",
     "library": "var_list.r",
     "varRefreshCmd": "cat(var_dic_list()) "
    }
   },
   "types_to_exclude": [
    "module",
    "function",
    "builtin_function_or_method",
    "instance",
    "_Feature"
   ],
   "window_display": false
  }
 },
 "nbformat": 4,
 "nbformat_minor": 2
}
